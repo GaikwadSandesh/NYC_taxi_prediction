{
  "cells": [
    {
      "cell_type": "markdown",
      "metadata": {
        "id": "view-in-github",
        "colab_type": "text"
      },
      "source": [
        "<a href=\"https://colab.research.google.com/github/GaikwadSandesh/NYC_taxi_prediction/blob/main/NYC_taxi_Prediction.ipynb\" target=\"_parent\"><img src=\"https://colab.research.google.com/assets/colab-badge.svg\" alt=\"Open In Colab\"/></a>"
      ]
    },
    {
      "cell_type": "code",
      "execution_count": 2,
      "metadata": {
        "id": "xMDZK-7BZxKp"
      },
      "outputs": [],
      "source": [
        "import pandas as pd\n",
        "import numpy as np\n",
        "import seaborn as sns\n",
        "import matplotlib\n",
        "import matplotlib.pyplot as plt\n",
        "import matplotlib.image as mpimg\n",
        "\n",
        "import scipy.stats as stats\n",
        "import pylab\n",
        "import scipy\n",
        "\n",
        "# modeling utilities\n",
        "from scipy.stats import zscore\n",
        "from sklearn import metrics\n",
        "from sklearn.linear_model import LinearRegression, Lasso, Ridge\n",
        "from sklearn.model_selection import GridSearchCV\n",
        "from sklearn.metrics import r2_score, mean_squared_error, mean_absolute_error\n",
        "from sklearn.tree import DecisionTreeRegressor\n",
        "from sklearn.model_selection import GridSearchCV, cross_val_score, cross_val_predict, train_test_split"
      ]
    },
    {
      "cell_type": "markdown",
      "metadata": {
        "id": "bs9w0-g7WU-A"
      },
      "source": [
        "# Load data"
      ]
    },
    {
      "cell_type": "code",
      "execution_count": 3,
      "metadata": {
        "colab": {
          "base_uri": "https://localhost:8080/"
        },
        "id": "-BOGBwXDaZa1",
        "outputId": "51619b5f-dfdf-4273-fbbf-9fca1769ed23"
      },
      "outputs": [
        {
          "output_type": "stream",
          "name": "stdout",
          "text": [
            "Mounted at /content/drive\n"
          ]
        }
      ],
      "source": [
        "from google.colab import drive\n",
        "drive.mount('/content/drive')"
      ]
    },
    {
      "cell_type": "code",
      "execution_count": 4,
      "metadata": {
        "id": "fj3qhUqRal3c"
      },
      "outputs": [],
      "source": [
        "df = pd.read_csv(\"/content/drive/MyDrive/Colab Notebooks/Alma_better/NYC Taxi Time Prediction/NYC Taxi Data.csv\", parse_dates=['pickup_datetime'])"
      ]
    },
    {
      "cell_type": "code",
      "execution_count": 5,
      "metadata": {
        "id": "SFYqhGYYakGW"
      },
      "outputs": [],
      "source": [
        "# df.head(10)"
      ]
    },
    {
      "cell_type": "code",
      "execution_count": 6,
      "metadata": {
        "id": "GtSUyxgEbCne"
      },
      "outputs": [],
      "source": [
        "# df.info()"
      ]
    },
    {
      "cell_type": "code",
      "execution_count": 7,
      "metadata": {
        "id": "DkoDCDYybDCI"
      },
      "outputs": [],
      "source": [
        "# df.isnull().sum()"
      ]
    },
    {
      "cell_type": "code",
      "execution_count": 8,
      "metadata": {
        "id": "e_qaIEzEXe4m"
      },
      "outputs": [],
      "source": [
        "# df['vendor_id'].nunique() , df['id'].nunique()"
      ]
    },
    {
      "cell_type": "code",
      "execution_count": 9,
      "metadata": {
        "id": "H2QSw0eiXzxb"
      },
      "outputs": [],
      "source": [
        "df.drop(columns = 'id' , inplace =True)"
      ]
    },
    {
      "cell_type": "code",
      "execution_count": 10,
      "metadata": {
        "id": "UnBaPloEvrxv"
      },
      "outputs": [],
      "source": [
        "# df.describe()"
      ]
    },
    {
      "cell_type": "markdown",
      "metadata": {
        "id": "kcOo6EWMWS7l"
      },
      "source": [
        "#EDA"
      ]
    },
    {
      "cell_type": "markdown",
      "metadata": {
        "id": "zvRTx8w_Wa_D"
      },
      "source": [
        "## Anomaly Detection"
      ]
    },
    {
      "cell_type": "code",
      "execution_count": 11,
      "metadata": {
        "id": "mwL-_azPNQ21"
      },
      "outputs": [],
      "source": [
        "# df.shape"
      ]
    },
    {
      "cell_type": "code",
      "execution_count": 12,
      "metadata": {
        "id": "C0jG-aB8wBkH"
      },
      "outputs": [],
      "source": [
        "# plt.figure(figsize = (9, 7))\n",
        "# plt.subplot(2,3,1)\n",
        "# sns.boxplot(x=df.passenger_count)\n",
        "# plt.subplot(2,3,2)\n",
        "# sns.boxplot(x=df.pickup_longitude)\n",
        "# plt.subplot(2,3,3)\n",
        "# sns.boxplot(x=df.pickup_latitude)\n",
        "# plt.subplot(2,3,4)\n",
        "# sns.boxplot(x=df.dropoff_longitude)\n",
        "# plt.subplot(2,3,5)\n",
        "# sns.boxplot(x=df.dropoff_latitude)\n",
        "# plt.subplot(2,3,6)\n",
        "# sns.boxplot(x=df.trip_duration)\n",
        "# plt.show()"
      ]
    },
    {
      "cell_type": "markdown",
      "metadata": {
        "id": "QnK2AwO9AKKN"
      },
      "source": [
        "### pickup_longitude"
      ]
    },
    {
      "cell_type": "code",
      "execution_count": 13,
      "metadata": {
        "id": "L4Z6VD_JIAuG"
      },
      "outputs": [],
      "source": [
        "df = df[(df['pickup_longitude']<-65) & (-85<df['pickup_longitude'])]"
      ]
    },
    {
      "cell_type": "code",
      "execution_count": 14,
      "metadata": {
        "id": "lCc_z8MH8g53"
      },
      "outputs": [],
      "source": [
        "# plt.figure(figsize = (15, 7))\n",
        "# plt.subplot(1, 2 , 1)\n",
        "# sns.histplot(x=df.pickup_longitude)\n",
        "# plt.subplot(1,2 , 2)\n",
        "# sns.boxplot(x=df.pickup_longitude)"
      ]
    },
    {
      "cell_type": "code",
      "execution_count": 15,
      "metadata": {
        "id": "B72QmeRE_Dxz"
      },
      "outputs": [],
      "source": [
        "df = df[(df['pickup_longitude']<-73.5) & (-74.5<df['pickup_longitude'])]"
      ]
    },
    {
      "cell_type": "code",
      "execution_count": 16,
      "metadata": {
        "id": "ElwBtiZf_gLg"
      },
      "outputs": [],
      "source": [
        "# plt.figure(figsize = (15, 7))\n",
        "# plt.subplot(1, 2 , 1)\n",
        "# sns.histplot(x=df.pickup_longitude)\n",
        "# plt.subplot(1,2 , 2)\n",
        "# sns.boxplot(x=df.pickup_longitude)"
      ]
    },
    {
      "cell_type": "markdown",
      "metadata": {
        "id": "6aEbMhJrAbOB"
      },
      "source": [
        "### pickup_latitude"
      ]
    },
    {
      "cell_type": "code",
      "execution_count": 17,
      "metadata": {
        "id": "OfPMy8_dIYEt"
      },
      "outputs": [],
      "source": [
        "df = df[(30<df['pickup_latitude']) & (df['pickup_latitude']<55)]"
      ]
    },
    {
      "cell_type": "code",
      "execution_count": 18,
      "metadata": {
        "id": "zNv2X6jwAjjq"
      },
      "outputs": [],
      "source": [
        "# plt.figure(figsize = (15, 7))\n",
        "# plt.subplot(1, 2 , 1)\n",
        "# sns.histplot(x=df.pickup_latitude)\n",
        "# plt.subplot(1,2 , 2)\n",
        "# sns.boxplot(x=df.pickup_latitude)"
      ]
    },
    {
      "cell_type": "code",
      "execution_count": 19,
      "metadata": {
        "id": "QtldKgC2AwUf"
      },
      "outputs": [],
      "source": [
        "df = df[(40.3<df['pickup_latitude']) & (df['pickup_latitude']<41.2)]"
      ]
    },
    {
      "cell_type": "code",
      "execution_count": 20,
      "metadata": {
        "id": "YRK0HR07A-bu"
      },
      "outputs": [],
      "source": [
        "# plt.figure(figsize = (15, 7))\n",
        "# plt.subplot(1, 2 , 1)\n",
        "# sns.histplot(x=df.pickup_latitude)\n",
        "# plt.subplot(1,2 , 2)\n",
        "# sns.boxplot(x=df.pickup_latitude)"
      ]
    },
    {
      "cell_type": "markdown",
      "metadata": {
        "id": "5f0xw0G6BFnK"
      },
      "source": [
        "### dropoff_longitude"
      ]
    },
    {
      "cell_type": "code",
      "execution_count": 21,
      "metadata": {
        "id": "Ol2u8RpHCNAY"
      },
      "outputs": [],
      "source": [
        "# plt.figure(figsize = (15, 7))\n",
        "# plt.subplot(1, 2 , 1)\n",
        "# sns.histplot(x=df.dropoff_longitude)\n",
        "# plt.subplot(1,2 , 2)\n",
        "# sns.boxplot(x=df.dropoff_longitude)"
      ]
    },
    {
      "cell_type": "code",
      "execution_count": 22,
      "metadata": {
        "id": "ZRRxJvt8Kji7"
      },
      "outputs": [],
      "source": [
        "df = df[(df['dropoff_longitude']<-73) & (-75<df['dropoff_longitude'])]"
      ]
    },
    {
      "cell_type": "code",
      "execution_count": 23,
      "metadata": {
        "id": "dflegeZ9KVsi"
      },
      "outputs": [],
      "source": [
        "# plt.figure(figsize = (15, 7))\n",
        "# plt.subplot(1, 2 , 1)\n",
        "# sns.histplot(x=df.dropoff_longitude)\n",
        "# plt.subplot(1,2 , 2)\n",
        "# sns.boxplot(x=df.dropoff_longitude)"
      ]
    },
    {
      "cell_type": "markdown",
      "metadata": {
        "id": "jVcTGmchCGf7"
      },
      "source": [
        "### dropoff_latitude"
      ]
    },
    {
      "cell_type": "code",
      "execution_count": 24,
      "metadata": {
        "id": "dOnhBFtgMijF"
      },
      "outputs": [],
      "source": [
        "df = df[(30<df['dropoff_latitude']) & (df['dropoff_latitude']<55)]"
      ]
    },
    {
      "cell_type": "code",
      "execution_count": 25,
      "metadata": {
        "id": "z4kG2akwBocr"
      },
      "outputs": [],
      "source": [
        "# plt.figure(figsize = (15, 7))\n",
        "# plt.subplot(1, 2 , 1)\n",
        "# sns.histplot(x=df.dropoff_latitude)\n",
        "# plt.subplot(1,2 , 2)\n",
        "# sns.boxplot(x=df.dropoff_latitude)"
      ]
    },
    {
      "cell_type": "code",
      "execution_count": 26,
      "metadata": {
        "id": "9GtTWri8Muq8"
      },
      "outputs": [],
      "source": [
        "df = df[(40<df['dropoff_latitude']) & (df['dropoff_latitude']<41.2)]"
      ]
    },
    {
      "cell_type": "code",
      "execution_count": 27,
      "metadata": {
        "id": "la5UBb3nM1CM"
      },
      "outputs": [],
      "source": [
        "# plt.figure(figsize = (15, 7))\n",
        "# plt.subplot(1, 2 , 1)\n",
        "# sns.histplot(x=df.dropoff_latitude)\n",
        "# plt.subplot(1,2 , 2)\n",
        "# sns.boxplot(x=df.dropoff_latitude)"
      ]
    },
    {
      "cell_type": "code",
      "execution_count": 28,
      "metadata": {
        "id": "Sfk4NaZewCie"
      },
      "outputs": [],
      "source": [
        "# sns.countplot(x=df.passenger_count )"
      ]
    },
    {
      "cell_type": "markdown",
      "metadata": {
        "id": "TrmXQ4yTwysc"
      },
      "source": [
        "vehical which are carring more than 6 passengers can't be cars so we will drop  values greater than 6"
      ]
    },
    {
      "cell_type": "code",
      "execution_count": 29,
      "metadata": {
        "id": "sdAxRKL-xAFF"
      },
      "outputs": [],
      "source": [
        "df = df[df['passenger_count']<=6]"
      ]
    },
    {
      "cell_type": "code",
      "execution_count": 30,
      "metadata": {
        "colab": {
          "base_uri": "https://localhost:8080/"
        },
        "id": "3D30uS--NMbu",
        "outputId": "51ce9618-ac1a-434a-a128-d98bbe3eb811"
      },
      "outputs": [
        {
          "output_type": "execute_result",
          "data": {
            "text/plain": [
              "(1458527, 10)"
            ]
          },
          "metadata": {},
          "execution_count": 30
        }
      ],
      "source": [
        "df.shape"
      ]
    },
    {
      "cell_type": "markdown",
      "metadata": {
        "id": "pri76rhVWlSi"
      },
      "source": [
        "\n",
        "\n",
        "## Feature Enginnering"
      ]
    },
    {
      "cell_type": "code",
      "execution_count": 31,
      "metadata": {
        "id": "7ZJJ3sSrXCUt"
      },
      "outputs": [],
      "source": [
        "# Not taking 'year' as feature because all trips are from year 2016 only\n",
        "\n",
        "df['month'] = df.pickup_datetime.apply(lambda t: t.month)\n",
        "df['weekday'] = df.pickup_datetime.apply(lambda t: t.weekday())\n",
        "df['weekend'] = df['weekday'].apply(lambda t: 1 if t in [5,6] else 0)\n",
        "df['hour'] = df.pickup_datetime.apply(lambda t: t.hour) \n",
        "\n",
        "# abs of delta of longitude and latitude pickup-dropoff\n",
        "df['delta_longitude'] = abs(df.pickup_longitude - df.dropoff_longitude)\n",
        "df['delta_latitude'] = abs(df.pickup_latitude - df.dropoff_latitude)"
      ]
    },
    {
      "cell_type": "code",
      "execution_count": 32,
      "metadata": {
        "id": "TsAK2yLJeSE8"
      },
      "outputs": [],
      "source": [
        "# Function to find direction in degrees (Source: https://gist.github.com/jeromer/2005586)\n",
        "def get_direction(lat1, lon1, lat2, lon2):\n",
        "  lon1=lon1.to_numpy()\n",
        "  lat1=lat1.to_numpy()\n",
        "  lon2=lon2.to_numpy()\n",
        "  lat2=lat2.to_numpy()\n",
        "  diff_lon = np.deg2rad(lon2-lon1)\n",
        "  x = np.sin(diff_lon) * np.cos(lat2)\n",
        "  y = np.cos(lat1) * np.sin(lat2) - (np.sin(lat1) * np.cos(lat2) * np.cos(diff_lon))\n",
        "  initial_bearing = np.arctan2(x, y)\n",
        "  direction = np.degrees (initial_bearing)\n",
        "\n",
        "  # Now we have the initial bearing but math.atan2 return values\n",
        "  # from -180° to + 180° which is not what we want for a compass bearing\n",
        "  # The solution is to normalize the initial bearing as shown below\n",
        "\n",
        "  initial_bearing = np.degrees (initial_bearing)\n",
        "  direction = (initial_bearing + 360) % 360\n",
        "  return direction\n",
        "\n",
        "\n",
        "# Haversine Formula, distance calculation (between pick-up and drop-off coordinates) \n",
        "#\n",
        "\n",
        "def haversine(lat1, lon1, lat2, lon2):\n",
        "  # convert decimal degrees to radians \n",
        "  lon1=np.deg2rad(lon1.to_numpy())\n",
        "  lat1=np.deg2rad(lat1.to_numpy())\n",
        "  lon2=np.deg2rad(lon2.to_numpy())\n",
        "  lat2=np.deg2rad(lat2.to_numpy())\n",
        "  # haversine formula \n",
        "  dlon = lon2 - lon1 \n",
        "  dlat = lat2 - lat1 \n",
        "  a = np.sin(dlat/2)**2 + np.cos(lat1) * np.cos(lat2) * np.sin(dlon/2)**2\n",
        "  c = 2 * np.arcsin(np.sqrt(a)) \n",
        "  r = 6372.8 # Radius of earth in kilometers. Use 3956 for miles\n",
        "  return np.around(c * r, decimals=2)"
      ]
    },
    {
      "cell_type": "code",
      "execution_count": 33,
      "metadata": {
        "id": "ldGVvo5zvEXp"
      },
      "outputs": [],
      "source": [
        "# Create columns 'direction', 'distance_km'\n",
        "df['direction']   = get_direction(df['pickup_latitude'], df['pickup_longitude'], \\\n",
        "                                      df['dropoff_latitude'], df['dropoff_longitude'])\n",
        "\n",
        "df['distance_km'] = haversine(df['pickup_latitude'], df['pickup_longitude'], \\\n",
        "                                      df['dropoff_latitude'], df['dropoff_longitude'])"
      ]
    },
    {
      "cell_type": "code",
      "execution_count": 34,
      "metadata": {
        "colab": {
          "base_uri": "https://localhost:8080/"
        },
        "id": "5zbKBwppvKeX",
        "outputId": "bb8e8281-1f78-4128-e758-a3e6b91ab8f2"
      },
      "outputs": [
        {
          "output_type": "stream",
          "name": "stdout",
          "text": [
            "16670.680578068725\n"
          ]
        }
      ],
      "source": [
        "# trip_duration\n",
        "highest_allowed = df['trip_duration'].mean() + 3*df['trip_duration'].std()\n",
        "lowest_allowed = 10\n",
        "df = df[(df['trip_duration'] > lowest_allowed) & (df['trip_duration'] < highest_allowed)]\n",
        "print(highest_allowed)\n",
        "\n",
        "# distance_km\n",
        "highest_allowed = df['distance_km'].mean() + 3*df['distance_km'].std()\n",
        "lowest_allowed = 0.1\n",
        "df = df[(df['distance_km'] > lowest_allowed) & (df['distance_km'] < highest_allowed)]\n"
      ]
    },
    {
      "cell_type": "code",
      "execution_count": 35,
      "metadata": {
        "id": "K41dA-M8_uSw"
      },
      "outputs": [],
      "source": [
        "# df.info()"
      ]
    },
    {
      "cell_type": "code",
      "execution_count": 36,
      "metadata": {
        "id": "khgn0ixE_0tg"
      },
      "outputs": [],
      "source": [
        "drop_columns =  ['vendor_id' , 'pickup_longitude' , 'pickup_latitude' , 'dropoff_longitude', 'dropoff_latitude' , 'store_and_fwd_flag' , 'pickup_datetime' , 'dropoff_datetime' ]"
      ]
    },
    {
      "cell_type": "code",
      "execution_count": 37,
      "metadata": {
        "colab": {
          "base_uri": "https://localhost:8080/",
          "height": 364
        },
        "id": "Ok-b5WflFTp1",
        "outputId": "a4d1e8e4-754d-4766-8f57-15ae447f6075"
      },
      "outputs": [
        {
          "output_type": "execute_result",
          "data": {
            "text/plain": [
              "          vendor_id  passenger_count  pickup_longitude  pickup_latitude  \\\n",
              "count  1.398655e+06     1.398655e+06      1.398655e+06     1.398655e+06   \n",
              "mean   1.533679e+00     1.662811e+00     -7.397690e+01     4.075282e+01   \n",
              "std    4.988646e-01     1.313738e+00      2.857262e-02     2.440131e-02   \n",
              "min    1.000000e+00     0.000000e+00     -7.439355e+01     4.039825e+01   \n",
              "25%    1.000000e+00     1.000000e+00     -7.399207e+01     4.073853e+01   \n",
              "50%    2.000000e+00     1.000000e+00     -7.398203e+01     4.075479e+01   \n",
              "75%    2.000000e+00     2.000000e+00     -7.396841e+01     4.076869e+01   \n",
              "max    2.000000e+00     6.000000e+00     -7.354157e+01     4.115737e+01   \n",
              "\n",
              "       dropoff_longitude  dropoff_latitude  trip_duration         month  \\\n",
              "count       1.398655e+06      1.398655e+06   1.398655e+06  1.398655e+06   \n",
              "mean       -7.397508e+01      4.075289e+01   7.827437e+02  3.514071e+00   \n",
              "std         2.847346e-02      2.935633e-02   5.524500e+02  1.680412e+00   \n",
              "min        -7.439851e+01      4.041617e+01   1.100000e+01  1.000000e+00   \n",
              "25%        -7.399139e+01      4.073706e+01   3.930000e+02  2.000000e+00   \n",
              "50%        -7.397999e+01      4.075494e+01   6.460000e+02  4.000000e+00   \n",
              "75%        -7.396389e+01      4.077004e+01   1.024000e+03  5.000000e+00   \n",
              "max        -7.351768e+01      4.107109e+01   1.590000e+04  6.000000e+00   \n",
              "\n",
              "            weekday       weekend          hour  delta_longitude  \\\n",
              "count  1.398655e+06  1.398655e+06  1.398655e+06     1.398655e+06   \n",
              "mean   3.050005e+00  2.851139e-01  1.361058e+01     1.959587e-02   \n",
              "std    1.951502e+00  4.514688e-01  6.400973e+00     2.409687e-02   \n",
              "min    0.000000e+00  0.000000e+00  0.000000e+00     0.000000e+00   \n",
              "25%    1.000000e+00  0.000000e+00  9.000000e+00     6.195068e-03   \n",
              "50%    3.000000e+00  0.000000e+00  1.400000e+01     1.229095e-02   \n",
              "75%    5.000000e+00  1.000000e+00  1.900000e+01     2.268982e-02   \n",
              "max    6.000000e+00  1.000000e+00  2.300000e+01     1.809769e-01   \n",
              "\n",
              "       delta_latitude     direction   distance_km  \n",
              "count    1.398655e+06  1.398655e+06  1.398655e+06  \n",
              "mean     1.903466e-02  2.213243e+02  2.944020e+00  \n",
              "std      1.823966e-02  1.191064e+02  2.603827e+00  \n",
              "min      0.000000e+00  0.000000e+00  1.100000e-01  \n",
              "25%      6.847382e-03  1.788373e+02  1.230000e+00  \n",
              "50%      1.335907e-02  1.802931e+02  2.050000e+00  \n",
              "75%      2.498627e-02  3.587522e+02  3.640000e+00  \n",
              "max      1.367798e-01  3.599998e+02  1.525000e+01  "
            ],
            "text/html": [
              "\n",
              "  <div id=\"df-b15d87ec-77c1-4afd-be25-c1ed2dc135e7\">\n",
              "    <div class=\"colab-df-container\">\n",
              "      <div>\n",
              "<style scoped>\n",
              "    .dataframe tbody tr th:only-of-type {\n",
              "        vertical-align: middle;\n",
              "    }\n",
              "\n",
              "    .dataframe tbody tr th {\n",
              "        vertical-align: top;\n",
              "    }\n",
              "\n",
              "    .dataframe thead th {\n",
              "        text-align: right;\n",
              "    }\n",
              "</style>\n",
              "<table border=\"1\" class=\"dataframe\">\n",
              "  <thead>\n",
              "    <tr style=\"text-align: right;\">\n",
              "      <th></th>\n",
              "      <th>vendor_id</th>\n",
              "      <th>passenger_count</th>\n",
              "      <th>pickup_longitude</th>\n",
              "      <th>pickup_latitude</th>\n",
              "      <th>dropoff_longitude</th>\n",
              "      <th>dropoff_latitude</th>\n",
              "      <th>trip_duration</th>\n",
              "      <th>month</th>\n",
              "      <th>weekday</th>\n",
              "      <th>weekend</th>\n",
              "      <th>hour</th>\n",
              "      <th>delta_longitude</th>\n",
              "      <th>delta_latitude</th>\n",
              "      <th>direction</th>\n",
              "      <th>distance_km</th>\n",
              "    </tr>\n",
              "  </thead>\n",
              "  <tbody>\n",
              "    <tr>\n",
              "      <th>count</th>\n",
              "      <td>1.398655e+06</td>\n",
              "      <td>1.398655e+06</td>\n",
              "      <td>1.398655e+06</td>\n",
              "      <td>1.398655e+06</td>\n",
              "      <td>1.398655e+06</td>\n",
              "      <td>1.398655e+06</td>\n",
              "      <td>1.398655e+06</td>\n",
              "      <td>1.398655e+06</td>\n",
              "      <td>1.398655e+06</td>\n",
              "      <td>1.398655e+06</td>\n",
              "      <td>1.398655e+06</td>\n",
              "      <td>1.398655e+06</td>\n",
              "      <td>1.398655e+06</td>\n",
              "      <td>1.398655e+06</td>\n",
              "      <td>1.398655e+06</td>\n",
              "    </tr>\n",
              "    <tr>\n",
              "      <th>mean</th>\n",
              "      <td>1.533679e+00</td>\n",
              "      <td>1.662811e+00</td>\n",
              "      <td>-7.397690e+01</td>\n",
              "      <td>4.075282e+01</td>\n",
              "      <td>-7.397508e+01</td>\n",
              "      <td>4.075289e+01</td>\n",
              "      <td>7.827437e+02</td>\n",
              "      <td>3.514071e+00</td>\n",
              "      <td>3.050005e+00</td>\n",
              "      <td>2.851139e-01</td>\n",
              "      <td>1.361058e+01</td>\n",
              "      <td>1.959587e-02</td>\n",
              "      <td>1.903466e-02</td>\n",
              "      <td>2.213243e+02</td>\n",
              "      <td>2.944020e+00</td>\n",
              "    </tr>\n",
              "    <tr>\n",
              "      <th>std</th>\n",
              "      <td>4.988646e-01</td>\n",
              "      <td>1.313738e+00</td>\n",
              "      <td>2.857262e-02</td>\n",
              "      <td>2.440131e-02</td>\n",
              "      <td>2.847346e-02</td>\n",
              "      <td>2.935633e-02</td>\n",
              "      <td>5.524500e+02</td>\n",
              "      <td>1.680412e+00</td>\n",
              "      <td>1.951502e+00</td>\n",
              "      <td>4.514688e-01</td>\n",
              "      <td>6.400973e+00</td>\n",
              "      <td>2.409687e-02</td>\n",
              "      <td>1.823966e-02</td>\n",
              "      <td>1.191064e+02</td>\n",
              "      <td>2.603827e+00</td>\n",
              "    </tr>\n",
              "    <tr>\n",
              "      <th>min</th>\n",
              "      <td>1.000000e+00</td>\n",
              "      <td>0.000000e+00</td>\n",
              "      <td>-7.439355e+01</td>\n",
              "      <td>4.039825e+01</td>\n",
              "      <td>-7.439851e+01</td>\n",
              "      <td>4.041617e+01</td>\n",
              "      <td>1.100000e+01</td>\n",
              "      <td>1.000000e+00</td>\n",
              "      <td>0.000000e+00</td>\n",
              "      <td>0.000000e+00</td>\n",
              "      <td>0.000000e+00</td>\n",
              "      <td>0.000000e+00</td>\n",
              "      <td>0.000000e+00</td>\n",
              "      <td>0.000000e+00</td>\n",
              "      <td>1.100000e-01</td>\n",
              "    </tr>\n",
              "    <tr>\n",
              "      <th>25%</th>\n",
              "      <td>1.000000e+00</td>\n",
              "      <td>1.000000e+00</td>\n",
              "      <td>-7.399207e+01</td>\n",
              "      <td>4.073853e+01</td>\n",
              "      <td>-7.399139e+01</td>\n",
              "      <td>4.073706e+01</td>\n",
              "      <td>3.930000e+02</td>\n",
              "      <td>2.000000e+00</td>\n",
              "      <td>1.000000e+00</td>\n",
              "      <td>0.000000e+00</td>\n",
              "      <td>9.000000e+00</td>\n",
              "      <td>6.195068e-03</td>\n",
              "      <td>6.847382e-03</td>\n",
              "      <td>1.788373e+02</td>\n",
              "      <td>1.230000e+00</td>\n",
              "    </tr>\n",
              "    <tr>\n",
              "      <th>50%</th>\n",
              "      <td>2.000000e+00</td>\n",
              "      <td>1.000000e+00</td>\n",
              "      <td>-7.398203e+01</td>\n",
              "      <td>4.075479e+01</td>\n",
              "      <td>-7.397999e+01</td>\n",
              "      <td>4.075494e+01</td>\n",
              "      <td>6.460000e+02</td>\n",
              "      <td>4.000000e+00</td>\n",
              "      <td>3.000000e+00</td>\n",
              "      <td>0.000000e+00</td>\n",
              "      <td>1.400000e+01</td>\n",
              "      <td>1.229095e-02</td>\n",
              "      <td>1.335907e-02</td>\n",
              "      <td>1.802931e+02</td>\n",
              "      <td>2.050000e+00</td>\n",
              "    </tr>\n",
              "    <tr>\n",
              "      <th>75%</th>\n",
              "      <td>2.000000e+00</td>\n",
              "      <td>2.000000e+00</td>\n",
              "      <td>-7.396841e+01</td>\n",
              "      <td>4.076869e+01</td>\n",
              "      <td>-7.396389e+01</td>\n",
              "      <td>4.077004e+01</td>\n",
              "      <td>1.024000e+03</td>\n",
              "      <td>5.000000e+00</td>\n",
              "      <td>5.000000e+00</td>\n",
              "      <td>1.000000e+00</td>\n",
              "      <td>1.900000e+01</td>\n",
              "      <td>2.268982e-02</td>\n",
              "      <td>2.498627e-02</td>\n",
              "      <td>3.587522e+02</td>\n",
              "      <td>3.640000e+00</td>\n",
              "    </tr>\n",
              "    <tr>\n",
              "      <th>max</th>\n",
              "      <td>2.000000e+00</td>\n",
              "      <td>6.000000e+00</td>\n",
              "      <td>-7.354157e+01</td>\n",
              "      <td>4.115737e+01</td>\n",
              "      <td>-7.351768e+01</td>\n",
              "      <td>4.107109e+01</td>\n",
              "      <td>1.590000e+04</td>\n",
              "      <td>6.000000e+00</td>\n",
              "      <td>6.000000e+00</td>\n",
              "      <td>1.000000e+00</td>\n",
              "      <td>2.300000e+01</td>\n",
              "      <td>1.809769e-01</td>\n",
              "      <td>1.367798e-01</td>\n",
              "      <td>3.599998e+02</td>\n",
              "      <td>1.525000e+01</td>\n",
              "    </tr>\n",
              "  </tbody>\n",
              "</table>\n",
              "</div>\n",
              "      <button class=\"colab-df-convert\" onclick=\"convertToInteractive('df-b15d87ec-77c1-4afd-be25-c1ed2dc135e7')\"\n",
              "              title=\"Convert this dataframe to an interactive table.\"\n",
              "              style=\"display:none;\">\n",
              "        \n",
              "  <svg xmlns=\"http://www.w3.org/2000/svg\" height=\"24px\"viewBox=\"0 0 24 24\"\n",
              "       width=\"24px\">\n",
              "    <path d=\"M0 0h24v24H0V0z\" fill=\"none\"/>\n",
              "    <path d=\"M18.56 5.44l.94 2.06.94-2.06 2.06-.94-2.06-.94-.94-2.06-.94 2.06-2.06.94zm-11 1L8.5 8.5l.94-2.06 2.06-.94-2.06-.94L8.5 2.5l-.94 2.06-2.06.94zm10 10l.94 2.06.94-2.06 2.06-.94-2.06-.94-.94-2.06-.94 2.06-2.06.94z\"/><path d=\"M17.41 7.96l-1.37-1.37c-.4-.4-.92-.59-1.43-.59-.52 0-1.04.2-1.43.59L10.3 9.45l-7.72 7.72c-.78.78-.78 2.05 0 2.83L4 21.41c.39.39.9.59 1.41.59.51 0 1.02-.2 1.41-.59l7.78-7.78 2.81-2.81c.8-.78.8-2.07 0-2.86zM5.41 20L4 18.59l7.72-7.72 1.47 1.35L5.41 20z\"/>\n",
              "  </svg>\n",
              "      </button>\n",
              "      \n",
              "  <style>\n",
              "    .colab-df-container {\n",
              "      display:flex;\n",
              "      flex-wrap:wrap;\n",
              "      gap: 12px;\n",
              "    }\n",
              "\n",
              "    .colab-df-convert {\n",
              "      background-color: #E8F0FE;\n",
              "      border: none;\n",
              "      border-radius: 50%;\n",
              "      cursor: pointer;\n",
              "      display: none;\n",
              "      fill: #1967D2;\n",
              "      height: 32px;\n",
              "      padding: 0 0 0 0;\n",
              "      width: 32px;\n",
              "    }\n",
              "\n",
              "    .colab-df-convert:hover {\n",
              "      background-color: #E2EBFA;\n",
              "      box-shadow: 0px 1px 2px rgba(60, 64, 67, 0.3), 0px 1px 3px 1px rgba(60, 64, 67, 0.15);\n",
              "      fill: #174EA6;\n",
              "    }\n",
              "\n",
              "    [theme=dark] .colab-df-convert {\n",
              "      background-color: #3B4455;\n",
              "      fill: #D2E3FC;\n",
              "    }\n",
              "\n",
              "    [theme=dark] .colab-df-convert:hover {\n",
              "      background-color: #434B5C;\n",
              "      box-shadow: 0px 1px 3px 1px rgba(0, 0, 0, 0.15);\n",
              "      filter: drop-shadow(0px 1px 2px rgba(0, 0, 0, 0.3));\n",
              "      fill: #FFFFFF;\n",
              "    }\n",
              "  </style>\n",
              "\n",
              "      <script>\n",
              "        const buttonEl =\n",
              "          document.querySelector('#df-b15d87ec-77c1-4afd-be25-c1ed2dc135e7 button.colab-df-convert');\n",
              "        buttonEl.style.display =\n",
              "          google.colab.kernel.accessAllowed ? 'block' : 'none';\n",
              "\n",
              "        async function convertToInteractive(key) {\n",
              "          const element = document.querySelector('#df-b15d87ec-77c1-4afd-be25-c1ed2dc135e7');\n",
              "          const dataTable =\n",
              "            await google.colab.kernel.invokeFunction('convertToInteractive',\n",
              "                                                     [key], {});\n",
              "          if (!dataTable) return;\n",
              "\n",
              "          const docLinkHtml = 'Like what you see? Visit the ' +\n",
              "            '<a target=\"_blank\" href=https://colab.research.google.com/notebooks/data_table.ipynb>data table notebook</a>'\n",
              "            + ' to learn more about interactive tables.';\n",
              "          element.innerHTML = '';\n",
              "          dataTable['output_type'] = 'display_data';\n",
              "          await google.colab.output.renderOutput(dataTable, element);\n",
              "          const docLink = document.createElement('div');\n",
              "          docLink.innerHTML = docLinkHtml;\n",
              "          element.appendChild(docLink);\n",
              "        }\n",
              "      </script>\n",
              "    </div>\n",
              "  </div>\n",
              "  "
            ]
          },
          "metadata": {},
          "execution_count": 37
        }
      ],
      "source": [
        "df.describe()"
      ]
    },
    {
      "cell_type": "code",
      "execution_count": 38,
      "metadata": {
        "id": "vu2zcdJmAsaX"
      },
      "outputs": [],
      "source": [
        "df.drop(columns = drop_columns , inplace =True)"
      ]
    },
    {
      "cell_type": "code",
      "execution_count": 39,
      "metadata": {
        "id": "LRg--6jjBslY",
        "colab": {
          "base_uri": "https://localhost:8080/",
          "height": 206
        },
        "outputId": "8df28c01-d309-4475-f0cc-e5854797fa3b"
      },
      "outputs": [
        {
          "output_type": "execute_result",
          "data": {
            "text/plain": [
              "   passenger_count  trip_duration  month  weekday  weekend  hour  \\\n",
              "0                1            455      3        0        0    17   \n",
              "1                1            663      6        6        1     0   \n",
              "2                1           2124      1        1        0    11   \n",
              "3                1            429      4        2        0    19   \n",
              "4                1            435      3        5        1    13   \n",
              "\n",
              "   delta_longitude  delta_latitude   direction  distance_km  \n",
              "0         0.017525        0.002335  187.443216         1.50  \n",
              "1         0.019066        0.007412  177.444784         1.81  \n",
              "2         0.026306        0.053852  179.515450         6.39  \n",
              "3         0.002228        0.013252  179.833396         1.49  \n",
              "4         0.000130        0.010689  180.012114         1.19  "
            ],
            "text/html": [
              "\n",
              "  <div id=\"df-ab29252b-500d-494b-b090-4e3d5c6368ae\">\n",
              "    <div class=\"colab-df-container\">\n",
              "      <div>\n",
              "<style scoped>\n",
              "    .dataframe tbody tr th:only-of-type {\n",
              "        vertical-align: middle;\n",
              "    }\n",
              "\n",
              "    .dataframe tbody tr th {\n",
              "        vertical-align: top;\n",
              "    }\n",
              "\n",
              "    .dataframe thead th {\n",
              "        text-align: right;\n",
              "    }\n",
              "</style>\n",
              "<table border=\"1\" class=\"dataframe\">\n",
              "  <thead>\n",
              "    <tr style=\"text-align: right;\">\n",
              "      <th></th>\n",
              "      <th>passenger_count</th>\n",
              "      <th>trip_duration</th>\n",
              "      <th>month</th>\n",
              "      <th>weekday</th>\n",
              "      <th>weekend</th>\n",
              "      <th>hour</th>\n",
              "      <th>delta_longitude</th>\n",
              "      <th>delta_latitude</th>\n",
              "      <th>direction</th>\n",
              "      <th>distance_km</th>\n",
              "    </tr>\n",
              "  </thead>\n",
              "  <tbody>\n",
              "    <tr>\n",
              "      <th>0</th>\n",
              "      <td>1</td>\n",
              "      <td>455</td>\n",
              "      <td>3</td>\n",
              "      <td>0</td>\n",
              "      <td>0</td>\n",
              "      <td>17</td>\n",
              "      <td>0.017525</td>\n",
              "      <td>0.002335</td>\n",
              "      <td>187.443216</td>\n",
              "      <td>1.50</td>\n",
              "    </tr>\n",
              "    <tr>\n",
              "      <th>1</th>\n",
              "      <td>1</td>\n",
              "      <td>663</td>\n",
              "      <td>6</td>\n",
              "      <td>6</td>\n",
              "      <td>1</td>\n",
              "      <td>0</td>\n",
              "      <td>0.019066</td>\n",
              "      <td>0.007412</td>\n",
              "      <td>177.444784</td>\n",
              "      <td>1.81</td>\n",
              "    </tr>\n",
              "    <tr>\n",
              "      <th>2</th>\n",
              "      <td>1</td>\n",
              "      <td>2124</td>\n",
              "      <td>1</td>\n",
              "      <td>1</td>\n",
              "      <td>0</td>\n",
              "      <td>11</td>\n",
              "      <td>0.026306</td>\n",
              "      <td>0.053852</td>\n",
              "      <td>179.515450</td>\n",
              "      <td>6.39</td>\n",
              "    </tr>\n",
              "    <tr>\n",
              "      <th>3</th>\n",
              "      <td>1</td>\n",
              "      <td>429</td>\n",
              "      <td>4</td>\n",
              "      <td>2</td>\n",
              "      <td>0</td>\n",
              "      <td>19</td>\n",
              "      <td>0.002228</td>\n",
              "      <td>0.013252</td>\n",
              "      <td>179.833396</td>\n",
              "      <td>1.49</td>\n",
              "    </tr>\n",
              "    <tr>\n",
              "      <th>4</th>\n",
              "      <td>1</td>\n",
              "      <td>435</td>\n",
              "      <td>3</td>\n",
              "      <td>5</td>\n",
              "      <td>1</td>\n",
              "      <td>13</td>\n",
              "      <td>0.000130</td>\n",
              "      <td>0.010689</td>\n",
              "      <td>180.012114</td>\n",
              "      <td>1.19</td>\n",
              "    </tr>\n",
              "  </tbody>\n",
              "</table>\n",
              "</div>\n",
              "      <button class=\"colab-df-convert\" onclick=\"convertToInteractive('df-ab29252b-500d-494b-b090-4e3d5c6368ae')\"\n",
              "              title=\"Convert this dataframe to an interactive table.\"\n",
              "              style=\"display:none;\">\n",
              "        \n",
              "  <svg xmlns=\"http://www.w3.org/2000/svg\" height=\"24px\"viewBox=\"0 0 24 24\"\n",
              "       width=\"24px\">\n",
              "    <path d=\"M0 0h24v24H0V0z\" fill=\"none\"/>\n",
              "    <path d=\"M18.56 5.44l.94 2.06.94-2.06 2.06-.94-2.06-.94-.94-2.06-.94 2.06-2.06.94zm-11 1L8.5 8.5l.94-2.06 2.06-.94-2.06-.94L8.5 2.5l-.94 2.06-2.06.94zm10 10l.94 2.06.94-2.06 2.06-.94-2.06-.94-.94-2.06-.94 2.06-2.06.94z\"/><path d=\"M17.41 7.96l-1.37-1.37c-.4-.4-.92-.59-1.43-.59-.52 0-1.04.2-1.43.59L10.3 9.45l-7.72 7.72c-.78.78-.78 2.05 0 2.83L4 21.41c.39.39.9.59 1.41.59.51 0 1.02-.2 1.41-.59l7.78-7.78 2.81-2.81c.8-.78.8-2.07 0-2.86zM5.41 20L4 18.59l7.72-7.72 1.47 1.35L5.41 20z\"/>\n",
              "  </svg>\n",
              "      </button>\n",
              "      \n",
              "  <style>\n",
              "    .colab-df-container {\n",
              "      display:flex;\n",
              "      flex-wrap:wrap;\n",
              "      gap: 12px;\n",
              "    }\n",
              "\n",
              "    .colab-df-convert {\n",
              "      background-color: #E8F0FE;\n",
              "      border: none;\n",
              "      border-radius: 50%;\n",
              "      cursor: pointer;\n",
              "      display: none;\n",
              "      fill: #1967D2;\n",
              "      height: 32px;\n",
              "      padding: 0 0 0 0;\n",
              "      width: 32px;\n",
              "    }\n",
              "\n",
              "    .colab-df-convert:hover {\n",
              "      background-color: #E2EBFA;\n",
              "      box-shadow: 0px 1px 2px rgba(60, 64, 67, 0.3), 0px 1px 3px 1px rgba(60, 64, 67, 0.15);\n",
              "      fill: #174EA6;\n",
              "    }\n",
              "\n",
              "    [theme=dark] .colab-df-convert {\n",
              "      background-color: #3B4455;\n",
              "      fill: #D2E3FC;\n",
              "    }\n",
              "\n",
              "    [theme=dark] .colab-df-convert:hover {\n",
              "      background-color: #434B5C;\n",
              "      box-shadow: 0px 1px 3px 1px rgba(0, 0, 0, 0.15);\n",
              "      filter: drop-shadow(0px 1px 2px rgba(0, 0, 0, 0.3));\n",
              "      fill: #FFFFFF;\n",
              "    }\n",
              "  </style>\n",
              "\n",
              "      <script>\n",
              "        const buttonEl =\n",
              "          document.querySelector('#df-ab29252b-500d-494b-b090-4e3d5c6368ae button.colab-df-convert');\n",
              "        buttonEl.style.display =\n",
              "          google.colab.kernel.accessAllowed ? 'block' : 'none';\n",
              "\n",
              "        async function convertToInteractive(key) {\n",
              "          const element = document.querySelector('#df-ab29252b-500d-494b-b090-4e3d5c6368ae');\n",
              "          const dataTable =\n",
              "            await google.colab.kernel.invokeFunction('convertToInteractive',\n",
              "                                                     [key], {});\n",
              "          if (!dataTable) return;\n",
              "\n",
              "          const docLinkHtml = 'Like what you see? Visit the ' +\n",
              "            '<a target=\"_blank\" href=https://colab.research.google.com/notebooks/data_table.ipynb>data table notebook</a>'\n",
              "            + ' to learn more about interactive tables.';\n",
              "          element.innerHTML = '';\n",
              "          dataTable['output_type'] = 'display_data';\n",
              "          await google.colab.output.renderOutput(dataTable, element);\n",
              "          const docLink = document.createElement('div');\n",
              "          docLink.innerHTML = docLinkHtml;\n",
              "          element.appendChild(docLink);\n",
              "        }\n",
              "      </script>\n",
              "    </div>\n",
              "  </div>\n",
              "  "
            ]
          },
          "metadata": {},
          "execution_count": 39
        }
      ],
      "source": [
        "df.head(5)"
      ]
    },
    {
      "cell_type": "code",
      "execution_count": 40,
      "metadata": {
        "id": "0FoqN0cjAxRu",
        "colab": {
          "base_uri": "https://localhost:8080/",
          "height": 505
        },
        "outputId": "2d1667b7-4ad2-47b3-d849-0b6f109f2e01"
      },
      "outputs": [
        {
          "output_type": "execute_result",
          "data": {
            "text/plain": [
              "<matplotlib.axes._subplots.AxesSubplot at 0x7ffad0bb7910>"
            ]
          },
          "metadata": {},
          "execution_count": 40
        },
        {
          "output_type": "display_data",
          "data": {
            "text/plain": [
              "<Figure size 1296x576 with 2 Axes>"
            ],
            "image/png": "[encoded data removed]"
          },
          "metadata": {
            "needs_background": "light"
          }
        }
      ],
      "source": [
        "# correlation\n",
        "plt.figure(figsize = (18,8))\n",
        "corr = df.corr()\n",
        "corr\n",
        "sns.heatmap(corr, annot = True)"
      ]
    },
    {
      "cell_type": "markdown",
      "metadata": {
        "id": "MxCPbAgKBlxP"
      },
      "source": [
        "* Drop passenger_count , month , drop weekday number \n",
        "* hour as categoriacal variable  "
      ]
    },
    {
      "cell_type": "code",
      "execution_count": 41,
      "metadata": {
        "id": "cqO2bBlhJ9xv"
      },
      "outputs": [],
      "source": [
        "drop_columns = ['passenger_count'  , 'weekday']"
      ]
    },
    {
      "cell_type": "code",
      "execution_count": 42,
      "metadata": {
        "id": "GbpyaRJAKS8O"
      },
      "outputs": [],
      "source": [
        "df.drop(columns = drop_columns , inplace =True)"
      ]
    },
    {
      "cell_type": "code",
      "execution_count": 43,
      "metadata": {
        "id": "c02EiGCnIPh4"
      },
      "outputs": [],
      "source": [
        "# # Plot histogram of trip duration per hour\n",
        "# plt.figure(figsize = (10,5))\n",
        "# new_df = df.groupby('hour', as_index = False)['trip_duration'].agg(['count']).sort_values(by = 'hour', ascending = True)\n",
        "# ax = sns.barplot(x=new_df.index, y=new_df['count'])\n",
        "# ax.set(xlabel='Hour', ylabel='No. of trips')  \n",
        "# plt.title('Number of trips per hour')\n",
        "# plt.tight_layout()\n",
        "# plt.show()\n",
        "# del new_df"
      ]
    },
    {
      "cell_type": "code",
      "execution_count": 44,
      "metadata": {
        "id": "denUMkoYIusM"
      },
      "outputs": [],
      "source": [
        "def rush_hours(hour):\n",
        "  value = 2\n",
        "  if hour in [8,9,10,11,12,13,14,15,16,17,23]:\n",
        "    value =1\n",
        "  elif hour in [0,1,2,3,4,5,6,7]:\n",
        "    value = 0\n",
        "\n",
        "  return value"
      ]
    },
    {
      "cell_type": "code",
      "execution_count": 45,
      "metadata": {
        "id": "Vr3N_tEVxcUz"
      },
      "outputs": [],
      "source": [
        "df['rush_hours'] = df.hour.apply(rush_hours)"
      ]
    },
    {
      "cell_type": "code",
      "execution_count": 46,
      "metadata": {
        "id": "AGc5KZ4uzx7T"
      },
      "outputs": [],
      "source": [
        "# # Plot histogram of trips per weekday\n",
        "# plt.figure(figsize = (10,5))\n",
        "# new_df = df.groupby('weekday', as_index = False)['trip_duration'].agg(['count']).sort_values(by = 'weekday', ascending = True)\n",
        "# ax = sns.barplot(x=new_df.index, y=new_df['count'])\n",
        "# ax.set(xlabel='weekday', ylabel='No of trips')  \n",
        "# plt.title('Number of trips per weekday')\n",
        "# plt.tight_layout()\n",
        "# plt.show()\n",
        "# del new_df"
      ]
    },
    {
      "cell_type": "code",
      "execution_count": 47,
      "metadata": {
        "id": "3LvqS0qYJanL"
      },
      "outputs": [],
      "source": [
        "#df.drop(columns = ['hour'] , inplace =True)"
      ]
    },
    {
      "cell_type": "code",
      "execution_count": 48,
      "metadata": {
        "colab": {
          "base_uri": "https://localhost:8080/",
          "height": 206
        },
        "id": "uhaWsYP5J4lY",
        "outputId": "c88bc940-f1ea-4753-f6fa-0615234b105d"
      },
      "outputs": [
        {
          "output_type": "execute_result",
          "data": {
            "text/plain": [
              "   trip_duration  month  weekend  hour  delta_longitude  delta_latitude  \\\n",
              "0            455      3        0    17         0.017525        0.002335   \n",
              "1            663      6        1     0         0.019066        0.007412   \n",
              "2           2124      1        0    11         0.026306        0.053852   \n",
              "3            429      4        0    19         0.002228        0.013252   \n",
              "4            435      3        1    13         0.000130        0.010689   \n",
              "\n",
              "    direction  distance_km  rush_hours  \n",
              "0  187.443216         1.50           1  \n",
              "1  177.444784         1.81           0  \n",
              "2  179.515450         6.39           1  \n",
              "3  179.833396         1.49           2  \n",
              "4  180.012114         1.19           1  "
            ],
            "text/html": [
              "\n",
              "  <div id=\"df-42bbd081-2065-426e-ba80-8749e250e862\">\n",
              "    <div class=\"colab-df-container\">\n",
              "      <div>\n",
              "<style scoped>\n",
              "    .dataframe tbody tr th:only-of-type {\n",
              "        vertical-align: middle;\n",
              "    }\n",
              "\n",
              "    .dataframe tbody tr th {\n",
              "        vertical-align: top;\n",
              "    }\n",
              "\n",
              "    .dataframe thead th {\n",
              "        text-align: right;\n",
              "    }\n",
              "</style>\n",
              "<table border=\"1\" class=\"dataframe\">\n",
              "  <thead>\n",
              "    <tr style=\"text-align: right;\">\n",
              "      <th></th>\n",
              "      <th>trip_duration</th>\n",
              "      <th>month</th>\n",
              "      <th>weekend</th>\n",
              "      <th>hour</th>\n",
              "      <th>delta_longitude</th>\n",
              "      <th>delta_latitude</th>\n",
              "      <th>direction</th>\n",
              "      <th>distance_km</th>\n",
              "      <th>rush_hours</th>\n",
              "    </tr>\n",
              "  </thead>\n",
              "  <tbody>\n",
              "    <tr>\n",
              "      <th>0</th>\n",
              "      <td>455</td>\n",
              "      <td>3</td>\n",
              "      <td>0</td>\n",
              "      <td>17</td>\n",
              "      <td>0.017525</td>\n",
              "      <td>0.002335</td>\n",
              "      <td>187.443216</td>\n",
              "      <td>1.50</td>\n",
              "      <td>1</td>\n",
              "    </tr>\n",
              "    <tr>\n",
              "      <th>1</th>\n",
              "      <td>663</td>\n",
              "      <td>6</td>\n",
              "      <td>1</td>\n",
              "      <td>0</td>\n",
              "      <td>0.019066</td>\n",
              "      <td>0.007412</td>\n",
              "      <td>177.444784</td>\n",
              "      <td>1.81</td>\n",
              "      <td>0</td>\n",
              "    </tr>\n",
              "    <tr>\n",
              "      <th>2</th>\n",
              "      <td>2124</td>\n",
              "      <td>1</td>\n",
              "      <td>0</td>\n",
              "      <td>11</td>\n",
              "      <td>0.026306</td>\n",
              "      <td>0.053852</td>\n",
              "      <td>179.515450</td>\n",
              "      <td>6.39</td>\n",
              "      <td>1</td>\n",
              "    </tr>\n",
              "    <tr>\n",
              "      <th>3</th>\n",
              "      <td>429</td>\n",
              "      <td>4</td>\n",
              "      <td>0</td>\n",
              "      <td>19</td>\n",
              "      <td>0.002228</td>\n",
              "      <td>0.013252</td>\n",
              "      <td>179.833396</td>\n",
              "      <td>1.49</td>\n",
              "      <td>2</td>\n",
              "    </tr>\n",
              "    <tr>\n",
              "      <th>4</th>\n",
              "      <td>435</td>\n",
              "      <td>3</td>\n",
              "      <td>1</td>\n",
              "      <td>13</td>\n",
              "      <td>0.000130</td>\n",
              "      <td>0.010689</td>\n",
              "      <td>180.012114</td>\n",
              "      <td>1.19</td>\n",
              "      <td>1</td>\n",
              "    </tr>\n",
              "  </tbody>\n",
              "</table>\n",
              "</div>\n",
              "      <button class=\"colab-df-convert\" onclick=\"convertToInteractive('df-42bbd081-2065-426e-ba80-8749e250e862')\"\n",
              "              title=\"Convert this dataframe to an interactive table.\"\n",
              "              style=\"display:none;\">\n",
              "        \n",
              "  <svg xmlns=\"http://www.w3.org/2000/svg\" height=\"24px\"viewBox=\"0 0 24 24\"\n",
              "       width=\"24px\">\n",
              "    <path d=\"M0 0h24v24H0V0z\" fill=\"none\"/>\n",
              "    <path d=\"M18.56 5.44l.94 2.06.94-2.06 2.06-.94-2.06-.94-.94-2.06-.94 2.06-2.06.94zm-11 1L8.5 8.5l.94-2.06 2.06-.94-2.06-.94L8.5 2.5l-.94 2.06-2.06.94zm10 10l.94 2.06.94-2.06 2.06-.94-2.06-.94-.94-2.06-.94 2.06-2.06.94z\"/><path d=\"M17.41 7.96l-1.37-1.37c-.4-.4-.92-.59-1.43-.59-.52 0-1.04.2-1.43.59L10.3 9.45l-7.72 7.72c-.78.78-.78 2.05 0 2.83L4 21.41c.39.39.9.59 1.41.59.51 0 1.02-.2 1.41-.59l7.78-7.78 2.81-2.81c.8-.78.8-2.07 0-2.86zM5.41 20L4 18.59l7.72-7.72 1.47 1.35L5.41 20z\"/>\n",
              "  </svg>\n",
              "      </button>\n",
              "      \n",
              "  <style>\n",
              "    .colab-df-container {\n",
              "      display:flex;\n",
              "      flex-wrap:wrap;\n",
              "      gap: 12px;\n",
              "    }\n",
              "\n",
              "    .colab-df-convert {\n",
              "      background-color: #E8F0FE;\n",
              "      border: none;\n",
              "      border-radius: 50%;\n",
              "      cursor: pointer;\n",
              "      display: none;\n",
              "      fill: #1967D2;\n",
              "      height: 32px;\n",
              "      padding: 0 0 0 0;\n",
              "      width: 32px;\n",
              "    }\n",
              "\n",
              "    .colab-df-convert:hover {\n",
              "      background-color: #E2EBFA;\n",
              "      box-shadow: 0px 1px 2px rgba(60, 64, 67, 0.3), 0px 1px 3px 1px rgba(60, 64, 67, 0.15);\n",
              "      fill: #174EA6;\n",
              "    }\n",
              "\n",
              "    [theme=dark] .colab-df-convert {\n",
              "      background-color: #3B4455;\n",
              "      fill: #D2E3FC;\n",
              "    }\n",
              "\n",
              "    [theme=dark] .colab-df-convert:hover {\n",
              "      background-color: #434B5C;\n",
              "      box-shadow: 0px 1px 3px 1px rgba(0, 0, 0, 0.15);\n",
              "      filter: drop-shadow(0px 1px 2px rgba(0, 0, 0, 0.3));\n",
              "      fill: #FFFFFF;\n",
              "    }\n",
              "  </style>\n",
              "\n",
              "      <script>\n",
              "        const buttonEl =\n",
              "          document.querySelector('#df-42bbd081-2065-426e-ba80-8749e250e862 button.colab-df-convert');\n",
              "        buttonEl.style.display =\n",
              "          google.colab.kernel.accessAllowed ? 'block' : 'none';\n",
              "\n",
              "        async function convertToInteractive(key) {\n",
              "          const element = document.querySelector('#df-42bbd081-2065-426e-ba80-8749e250e862');\n",
              "          const dataTable =\n",
              "            await google.colab.kernel.invokeFunction('convertToInteractive',\n",
              "                                                     [key], {});\n",
              "          if (!dataTable) return;\n",
              "\n",
              "          const docLinkHtml = 'Like what you see? Visit the ' +\n",
              "            '<a target=\"_blank\" href=https://colab.research.google.com/notebooks/data_table.ipynb>data table notebook</a>'\n",
              "            + ' to learn more about interactive tables.';\n",
              "          element.innerHTML = '';\n",
              "          dataTable['output_type'] = 'display_data';\n",
              "          await google.colab.output.renderOutput(dataTable, element);\n",
              "          const docLink = document.createElement('div');\n",
              "          docLink.innerHTML = docLinkHtml;\n",
              "          element.appendChild(docLink);\n",
              "        }\n",
              "      </script>\n",
              "    </div>\n",
              "  </div>\n",
              "  "
            ]
          },
          "metadata": {},
          "execution_count": 48
        }
      ],
      "source": [
        "df.head()"
      ]
    },
    {
      "cell_type": "code",
      "execution_count": 49,
      "metadata": {
        "id": "bzpMK-_6KPN8"
      },
      "outputs": [],
      "source": [
        "# # correlation\n",
        "# plt.figure(figsize = (18,8))\n",
        "# corr = df.corr()\n",
        "# corr\n",
        "# sns.heatmap(corr, annot = True)"
      ]
    },
    {
      "cell_type": "code",
      "execution_count": 50,
      "metadata": {
        "id": "KyoypnlXvSSK"
      },
      "outputs": [],
      "source": [
        "drop_columns = ['delta_longitude' ,'delta_latitude']"
      ]
    },
    {
      "cell_type": "code",
      "execution_count": 51,
      "metadata": {
        "id": "Az3784CGvjNK"
      },
      "outputs": [],
      "source": [
        "df.drop(columns = drop_columns , inplace =True)"
      ]
    },
    {
      "cell_type": "code",
      "execution_count": 52,
      "metadata": {
        "id": "weXVTjHpvlSa",
        "colab": {
          "base_uri": "https://localhost:8080/",
          "height": 505
        },
        "outputId": "ec38f24c-072f-4921-b89c-65a71318a54c"
      },
      "outputs": [
        {
          "output_type": "execute_result",
          "data": {
            "text/plain": [
              "<matplotlib.axes._subplots.AxesSubplot at 0x7ffac35bcad0>"
            ]
          },
          "metadata": {},
          "execution_count": 52
        },
        {
          "output_type": "display_data",
          "data": {
            "text/plain": [
              "<Figure size 1296x576 with 2 Axes>"
            ],
            "image/png": "[encoded data removed]"
          },
          "metadata": {
            "needs_background": "light"
          }
        }
      ],
      "source": [
        "# correlation\n",
        "plt.figure(figsize = (18,8))\n",
        "corr = df.corr()\n",
        "corr\n",
        "sns.heatmap(corr, annot = True)"
      ]
    },
    {
      "cell_type": "markdown",
      "metadata": {
        "id": "xBzvM8Qhg4cU"
      },
      "source": [
        "#### Distance"
      ]
    },
    {
      "cell_type": "code",
      "execution_count": 53,
      "metadata": {
        "id": "s-HuX7XRkusu"
      },
      "outputs": [],
      "source": [
        "#function to return plots for the feature\n",
        "def normality(data,feature):\n",
        "  plt.figure(figsize=(10,5))\n",
        "  plt.subplot(1,2,1)\n",
        "  sns.distplot(data[feature],color = \"b\")\n",
        "  plt.axvline(data[feature].mean(),color = \"k\",\n",
        "            linestyle = \"dashed\",label = 'mean')\n",
        "  plt.subplot(1,2,2)\n",
        "  stats.probplot(data[feature],plot=pylab)\n",
        "  plt.show()\n",
        "  print('skewness  : ' , data[feature].skew() )"
      ]
    },
    {
      "cell_type": "code",
      "execution_count": 54,
      "metadata": {
        "colab": {
          "base_uri": "https://localhost:8080/",
          "height": 0
        },
        "id": "Pq_bCbQUk4VI",
        "outputId": "91a9e3f7-149d-4afb-8f7e-f9cb5e6a5ed9"
      },
      "outputs": [
        {
          "output_type": "stream",
          "name": "stderr",
          "text": [
            "/usr/local/lib/python3.7/dist-packages/seaborn/distributions.py:2619: FutureWarning: `distplot` is a deprecated function and will be removed in a future version. Please adapt your code to use either `displot` (a figure-level function with similar flexibility) or `histplot` (an axes-level function for histograms).\n",
            "  warnings.warn(msg, FutureWarning)\n"
          ]
        },
        {
          "output_type": "display_data",
          "data": {
            "text/plain": [
              "<Figure size 720x360 with 2 Axes>"
            ],
            "image/png": "[encoded data removed]"
          },
          "metadata": {
            "needs_background": "light"
          }
        },
        {
          "output_type": "stream",
          "name": "stdout",
          "text": [
            "skewness  :  1.9517243542550862\n"
          ]
        }
      ],
      "source": [
        "normality(df , 'distance_km')"
      ]
    },
    {
      "cell_type": "code",
      "execution_count": 55,
      "metadata": {
        "id": "SAmq_7FOkURG"
      },
      "outputs": [],
      "source": [
        "df['distance_Boxcox'],parameters=stats.boxcox(df['distance_km'])"
      ]
    },
    {
      "cell_type": "code",
      "execution_count": 56,
      "metadata": {
        "colab": {
          "base_uri": "https://localhost:8080/",
          "height": 0
        },
        "id": "ROF8ffNJp-EU",
        "outputId": "8757c547-fd27-4c91-9f8f-fb593d0c9ee3"
      },
      "outputs": [
        {
          "output_type": "stream",
          "name": "stderr",
          "text": [
            "/usr/local/lib/python3.7/dist-packages/seaborn/distributions.py:2619: FutureWarning: `distplot` is a deprecated function and will be removed in a future version. Please adapt your code to use either `displot` (a figure-level function with similar flexibility) or `histplot` (an axes-level function for histograms).\n",
            "  warnings.warn(msg, FutureWarning)\n"
          ]
        },
        {
          "output_type": "display_data",
          "data": {
            "text/plain": [
              "<Figure size 720x360 with 2 Axes>"
            ],
            "image/png": "[encoded data removed]"
          },
          "metadata": {
            "needs_background": "light"
          }
        },
        {
          "output_type": "stream",
          "name": "stdout",
          "text": [
            "skewness  :  0.0012122340625846646\n"
          ]
        }
      ],
      "source": [
        "normality(df , 'distance_Boxcox')"
      ]
    },
    {
      "cell_type": "markdown",
      "metadata": {
        "id": "ktGpg0Yes7P4"
      },
      "source": [
        "### Trip duration"
      ]
    },
    {
      "cell_type": "code",
      "execution_count": 57,
      "metadata": {
        "colab": {
          "base_uri": "https://localhost:8080/",
          "height": 0
        },
        "id": "8MhQaCChqAEM",
        "outputId": "ca217388-9952-4a63-f0e6-87f996ee4d2a"
      },
      "outputs": [
        {
          "output_type": "stream",
          "name": "stderr",
          "text": [
            "/usr/local/lib/python3.7/dist-packages/seaborn/distributions.py:2619: FutureWarning: `distplot` is a deprecated function and will be removed in a future version. Please adapt your code to use either `displot` (a figure-level function with similar flexibility) or `histplot` (an axes-level function for histograms).\n",
            "  warnings.warn(msg, FutureWarning)\n"
          ]
        },
        {
          "output_type": "display_data",
          "data": {
            "text/plain": [
              "<Figure size 720x360 with 2 Axes>"
            ],
            "image/png": "[encoded data removed]"
          },
          "metadata": {
            "needs_background": "light"
          }
        },
        {
          "output_type": "stream",
          "name": "stdout",
          "text": [
            "skewness  :  2.08118809062355\n"
          ]
        }
      ],
      "source": [
        "normality(df , 'trip_duration')"
      ]
    },
    {
      "cell_type": "code",
      "execution_count": 58,
      "metadata": {
        "id": "Cm2LiXvBqAVV"
      },
      "outputs": [],
      "source": [
        "df['duration_Boxcox'],parameters=stats.boxcox(df['trip_duration'])"
      ]
    },
    {
      "cell_type": "code",
      "execution_count": 59,
      "metadata": {
        "colab": {
          "base_uri": "https://localhost:8080/",
          "height": 0
        },
        "id": "0duNMmKzqAZ6",
        "outputId": "236b9dc0-6c26-4ecb-9905-b1847099a73a"
      },
      "outputs": [
        {
          "output_type": "stream",
          "name": "stderr",
          "text": [
            "/usr/local/lib/python3.7/dist-packages/seaborn/distributions.py:2619: FutureWarning: `distplot` is a deprecated function and will be removed in a future version. Please adapt your code to use either `displot` (a figure-level function with similar flexibility) or `histplot` (an axes-level function for histograms).\n",
            "  warnings.warn(msg, FutureWarning)\n"
          ]
        },
        {
          "output_type": "display_data",
          "data": {
            "text/plain": [
              "<Figure size 720x360 with 2 Axes>"
            ],
            "image/png": "[encoded data removed]"
          },
          "metadata": {
            "needs_background": "light"
          }
        },
        {
          "output_type": "stream",
          "name": "stdout",
          "text": [
            "skewness  :  -0.0021837506737579933\n"
          ]
        }
      ],
      "source": [
        "normality(df , 'duration_Boxcox')"
      ]
    },
    {
      "cell_type": "code",
      "execution_count": 60,
      "metadata": {
        "colab": {
          "base_uri": "https://localhost:8080/",
          "height": 0
        },
        "id": "gCaluOSkvrfE",
        "outputId": "8ff7cf68-b9f2-406d-942e-d8232224647c"
      },
      "outputs": [
        {
          "output_type": "execute_result",
          "data": {
            "text/plain": [
              "<matplotlib.axes._subplots.AxesSubplot at 0x7ffaca2d1110>"
            ]
          },
          "metadata": {},
          "execution_count": 60
        },
        {
          "output_type": "display_data",
          "data": {
            "text/plain": [
              "<Figure size 1296x576 with 2 Axes>"
            ],
            "image/png": "[encoded data removed]"
          },
          "metadata": {
            "needs_background": "light"
          }
        }
      ],
      "source": [
        "# correlation\n",
        "plt.figure(figsize = (18,8))\n",
        "corr = df.corr()\n",
        "corr\n",
        "sns.heatmap(corr, annot = True)"
      ]
    },
    {
      "cell_type": "markdown",
      "metadata": {
        "id": "vgxGXoawwwsK"
      },
      "source": [
        "* only numerical parameters to consider is Distance Boxcox\n",
        "* rush_hour and weekend are two categorical variable\n",
        "* we will perfor boxcox on trrip duration"
      ]
    },
    {
      "cell_type": "markdown",
      "metadata": {
        "id": "C8IP3zKRMCmc"
      },
      "source": [
        "# Modeling"
      ]
    },
    {
      "cell_type": "code",
      "execution_count": 61,
      "metadata": {
        "id": "aIo6RomYk9PB"
      },
      "outputs": [],
      "source": [
        "def evaluation_metrics(y_test, y_pred):\n",
        "  \n",
        "  r2 = round(r2_score(y_test, y_pred), 2)\n",
        "  print(\"R2 on test data:\" ,r2)\n",
        "\n",
        "  MSE  = round(mean_squared_error(y_test, y_pred), 2)\n",
        "  print(\"MSE :\" , MSE)\n",
        "\n",
        "  RMSE = round(np.sqrt(MSE), 2)\n",
        "  print(\"RMSE :\" ,RMSE)\n",
        "\n",
        "  MAE = round(mean_absolute_error(y_test, y_pred), 2) \n",
        "  print(\"MAE :\" ,MAE)"
      ]
    },
    {
      "cell_type": "markdown",
      "metadata": {
        "id": "rGmOmUQJMG8n"
      },
      "source": [
        "## Linear Regression"
      ]
    },
    {
      "cell_type": "markdown",
      "metadata": {
        "id": "i2ODVQhR4AcP"
      },
      "source": [
        "### Train test split"
      ]
    },
    {
      "cell_type": "code",
      "execution_count": 62,
      "metadata": {
        "id": "dD22Fg1x4TcL"
      },
      "outputs": [],
      "source": [
        "# df.info()"
      ]
    },
    {
      "cell_type": "code",
      "execution_count": 63,
      "metadata": {
        "id": "M1qhP15a2xEy"
      },
      "outputs": [],
      "source": [
        "columns_to_keep = ['distance_km' , 'weekend' , 'rush_hours' , 'hour']\n",
        "X = df[columns_to_keep]\n",
        "y = df['trip_duration'].to_frame()"
      ]
    },
    {
      "cell_type": "code",
      "execution_count": 64,
      "metadata": {
        "colab": {
          "base_uri": "https://localhost:8080/"
        },
        "id": "lbdM-yoo44Ll",
        "outputId": "744fb05c-7519-4734-c8d8-194be914d5ee"
      },
      "outputs": [
        {
          "output_type": "stream",
          "name": "stdout",
          "text": [
            "(979058, 4)\n",
            "(419597, 4)\n"
          ]
        }
      ],
      "source": [
        "from sklearn.model_selection import train_test_split \n",
        "X_train, X_test, y_train, y_test = train_test_split( X,y , test_size = 0.3, random_state = 42 , stratify = X.hour) \n",
        "print(X_train.shape)\n",
        "print(X_test.shape)"
      ]
    },
    {
      "cell_type": "code",
      "execution_count": 65,
      "metadata": {
        "id": "21zn3KD1-HYC"
      },
      "outputs": [],
      "source": [
        "X_train['distance_Boxcox'], dist_boxcox_param = stats.boxcox(X_train['distance_km'])\n",
        "y_train['duration_Boxcox'], dura_boxcox_param = stats.boxcox(y_train['trip_duration'])"
      ]
    },
    {
      "cell_type": "code",
      "execution_count": 66,
      "metadata": {
        "id": "_yV_aS0EGtdo"
      },
      "outputs": [],
      "source": [
        "y_train.drop(columns = 'trip_duration' , inplace =True)"
      ]
    },
    {
      "cell_type": "code",
      "execution_count": 67,
      "metadata": {
        "id": "fW8o8gLc-e7k"
      },
      "outputs": [],
      "source": [
        "# normality(X_train , 'distance_Boxcox')"
      ]
    },
    {
      "cell_type": "code",
      "execution_count": 68,
      "metadata": {
        "id": "chEh8-82FvkX"
      },
      "outputs": [],
      "source": [
        "# normality(y_train , 'duration_Boxcox')"
      ]
    },
    {
      "cell_type": "code",
      "execution_count": 69,
      "metadata": {
        "id": "4ewtF4Bx-wux"
      },
      "outputs": [],
      "source": [
        "X_test['distance_Boxcox'] = stats.boxcox(X_test['distance_km'] , dist_boxcox_param)\n",
        "# y_test['duration_Boxcox'] = stats.boxcox(y_test['trip_duration'] , dura_boxcox_param)"
      ]
    },
    {
      "cell_type": "code",
      "execution_count": 70,
      "metadata": {
        "id": "4SrcZ9bzIIxQ"
      },
      "outputs": [],
      "source": [
        "# normality(X_test , 'distance_Boxcox')"
      ]
    },
    {
      "cell_type": "code",
      "execution_count": 71,
      "metadata": {
        "id": "YSbLsQA0IS5Q"
      },
      "outputs": [],
      "source": [
        "# normality(y_test , 'duration_Boxcox')"
      ]
    },
    {
      "cell_type": "code",
      "execution_count": 72,
      "metadata": {
        "id": "HNZVmcC8_4uG"
      },
      "outputs": [],
      "source": [
        "X_test = X_test.drop(columns = ['distance_km' , 'hour'])\n",
        "X_train = X_train.drop(columns = ['distance_km' , 'hour'])\n",
        "# y_test.drop(columns = 'trip_duration' , inplace =True)"
      ]
    },
    {
      "cell_type": "markdown",
      "metadata": {
        "id": "imuhnjKwMaKv"
      },
      "source": [
        "### Unreguarized"
      ]
    },
    {
      "cell_type": "code",
      "execution_count": 73,
      "metadata": {
        "id": "ndCcpevUBAwu"
      },
      "outputs": [],
      "source": [
        "reg = LinearRegression().fit(X_train, y_train)\n",
        "y_pred = reg.predict(X_test)"
      ]
    },
    {
      "cell_type": "code",
      "execution_count": 74,
      "metadata": {
        "colab": {
          "base_uri": "https://localhost:8080/"
        },
        "id": "cZPCjLDYDk09",
        "outputId": "e8a88993-83bc-4f2c-f272-32e2cd421388"
      },
      "outputs": [
        {
          "output_type": "execute_result",
          "data": {
            "text/plain": [
              "array([[-0.33749605,  0.17175617,  1.91564202]])"
            ]
          },
          "metadata": {},
          "execution_count": 74
        }
      ],
      "source": [
        "reg.coef_"
      ]
    },
    {
      "cell_type": "code",
      "execution_count": 75,
      "metadata": {
        "colab": {
          "base_uri": "https://localhost:8080/"
        },
        "id": "lfJBQU0cBD1F",
        "outputId": "031d367f-0002-410e-ddeb-63e80b7382a1"
      },
      "outputs": [
        {
          "output_type": "stream",
          "name": "stdout",
          "text": [
            "R2 on test data: 0.55\n",
            "MSE : 138919.77\n",
            "RMSE : 372.72\n",
            "MAE : 241.08\n"
          ]
        }
      ],
      "source": [
        "y_pred= scipy.special.inv_boxcox(y_pred , dura_boxcox_param)\n",
        "# y_test= scipy.special.inv_boxcox(y_test , dura_boxcox_param)\n",
        "evaluation_metrics(y_test, y_pred)"
      ]
    },
    {
      "cell_type": "markdown",
      "metadata": {
        "id": "6aWMehD7MeDc"
      },
      "source": [
        "### Regularized"
      ]
    },
    {
      "cell_type": "markdown",
      "metadata": {
        "id": "_A00mAbYkEuQ"
      },
      "source": [
        "#### Lasso regression"
      ]
    },
    {
      "cell_type": "code",
      "execution_count": 76,
      "metadata": {
        "id": "JBZfGFFNBSvO"
      },
      "outputs": [],
      "source": [
        "### Cross validation\n",
        "lasso = Lasso()\n",
        "parameters = {'alpha': [1e-3,1e-2,1e-1,1,5,10,20]}\n",
        "lasso_regressor = GridSearchCV(lasso, parameters, scoring='neg_mean_squared_error', cv=5)\n",
        "lasso_regressor.fit(X_train, y_train)\n",
        "y_pred = lasso_regressor.predict(X_test)"
      ]
    },
    {
      "cell_type": "code",
      "execution_count": 77,
      "metadata": {
        "colab": {
          "base_uri": "https://localhost:8080/"
        },
        "id": "OLHAPVOlBWgR",
        "outputId": "2066f5cf-3635-47e2-90b3-51b55f01bf80"
      },
      "outputs": [
        {
          "output_type": "stream",
          "name": "stdout",
          "text": [
            "R2 on test data: 0.55\n",
            "MSE : 138960.83\n",
            "RMSE : 372.77\n",
            "MAE : 241.07\n"
          ]
        }
      ],
      "source": [
        "y_pred= scipy.special.inv_boxcox(y_pred , dura_boxcox_param)\n",
        "# y_test= scipy.special.inv_boxcox(y_test , dura_boxcox_param)\n",
        "evaluation_metrics(y_test, y_pred)"
      ]
    },
    {
      "cell_type": "markdown",
      "metadata": {
        "id": "rzxBNAGwkOqY"
      },
      "source": [
        "#### Ridge regression"
      ]
    },
    {
      "cell_type": "code",
      "execution_count": 78,
      "metadata": {
        "id": "nkbADBO6kN1P"
      },
      "outputs": [],
      "source": [
        "from sklearn.linear_model import Ridge\n",
        "ridge = Ridge()\n",
        "parameters = {'alpha': [1e-3,1e-2,1,5,10,20]}\n",
        "ridge_regressor = GridSearchCV(ridge, parameters, scoring='neg_mean_squared_error', cv=3)\n",
        "ridge_regressor.fit(X_train,y_train)\n",
        "y_pred = ridge_regressor.predict(X_test)"
      ]
    },
    {
      "cell_type": "code",
      "execution_count": 79,
      "metadata": {
        "colab": {
          "base_uri": "https://localhost:8080/"
        },
        "id": "55aue5A-kesG",
        "outputId": "fc1dfa78-69ab-4ef8-ebe0-5f200cbb65b7"
      },
      "outputs": [
        {
          "output_type": "stream",
          "name": "stdout",
          "text": [
            "R2 on test data: 0.55\n",
            "MSE : 138919.83\n",
            "RMSE : 372.72\n",
            "MAE : 241.08\n"
          ]
        }
      ],
      "source": [
        "y_pred= scipy.special.inv_boxcox(y_pred , dura_boxcox_param)\n",
        "# y_test= scipy.special.inv_boxcox(y_test , dura_boxcox_param)\n",
        "evaluation_metrics(y_test, y_pred)"
      ]
    },
    {
      "cell_type": "markdown",
      "metadata": {
        "id": "QmHzupZHlK_w"
      },
      "source": [
        "## Decision Tree regression"
      ]
    },
    {
      "cell_type": "code",
      "source": [
        "columns_to_keep = ['distance_km' , 'weekend' , 'rush_hours' , 'hour']\n",
        "X = df[columns_to_keep]\n",
        "y = df['trip_duration']"
      ],
      "metadata": {
        "id": "WQOi1i6cqSgN"
      },
      "execution_count": 80,
      "outputs": []
    },
    {
      "cell_type": "code",
      "source": [
        "from sklearn.model_selection import train_test_split \n",
        "X_train, X_test, y_train, y_test = train_test_split( X,y , test_size = 0.3, random_state = 42 , stratify = X.hour) \n",
        "print(X_train.shape)\n",
        "print(X_test.shape)"
      ],
      "metadata": {
        "colab": {
          "base_uri": "https://localhost:8080/"
        },
        "id": "xuBykILeqie_",
        "outputId": "67efe280-b5bc-421e-8050-75a6ebd7ddaf"
      },
      "execution_count": 81,
      "outputs": [
        {
          "output_type": "stream",
          "name": "stdout",
          "text": [
            "(979058, 4)\n",
            "(419597, 4)\n"
          ]
        }
      ]
    },
    {
      "cell_type": "code",
      "source": [
        "X_test = X_test.drop(columns = ['hour'])\n",
        "X_train = X_train.drop(columns = ['hour'])"
      ],
      "metadata": {
        "id": "A-35JO-cqn53"
      },
      "execution_count": 82,
      "outputs": []
    },
    {
      "cell_type": "markdown",
      "metadata": {
        "id": "RvzDCMron4gR"
      },
      "source": [
        "### Decision Tree"
      ]
    },
    {
      "cell_type": "code",
      "execution_count": 83,
      "metadata": {
        "id": "1HG9J0f5Bbnt"
      },
      "outputs": [],
      "source": [
        "param_grid = {\"min_samples_split\": [2 , 4 , 10 ],\n",
        "              \"max_depth\": [2, 6, 8],\n",
        "              \"min_samples_leaf\": [10 , 20],\n",
        "              \"max_leaf_nodes\": [20, 50],\n",
        "              }\n",
        "\n",
        "dtm = DecisionTreeRegressor()\n",
        "grid_cv_dtm = GridSearchCV(dtm, param_grid, cv=5)\n",
        "grid_cv_dtm.fit(X_train,y_train)\n",
        "y_pred = grid_cv_dtm.predict(X_test)"
      ]
    },
    {
      "cell_type": "code",
      "execution_count": 84,
      "metadata": {
        "colab": {
          "base_uri": "https://localhost:8080/"
        },
        "id": "KJWLggPVJrLF",
        "outputId": "3c81ad8c-83b1-4310-e3f0-bdc516af3156"
      },
      "outputs": [
        {
          "output_type": "stream",
          "name": "stdout",
          "text": [
            "R2 on test data: 0.59\n",
            "MSE : 124154.54\n",
            "RMSE : 352.36\n",
            "MAE : 234.81\n"
          ]
        }
      ],
      "source": [
        "# y_pred= scipy.special.inv_boxcox(y_pred , dura_boxcox_param)\n",
        "# y_test= scipy.special.inv_boxcox(y_test , dura_boxcox_param)\n",
        "evaluation_metrics(y_test, y_pred)"
      ]
    },
    {
      "cell_type": "code",
      "source": [
        "grid_cv_dtm.best_estimator_"
      ],
      "metadata": {
        "colab": {
          "base_uri": "https://localhost:8080/"
        },
        "id": "jgcbWQC0ritV",
        "outputId": "7eefa782-a8ef-41c3-9e76-374d3e0c9fef"
      },
      "execution_count": 85,
      "outputs": [
        {
          "output_type": "execute_result",
          "data": {
            "text/plain": [
              "DecisionTreeRegressor(max_depth=8, max_leaf_nodes=50, min_samples_leaf=10)"
            ]
          },
          "metadata": {},
          "execution_count": 85
        }
      ]
    },
    {
      "cell_type": "markdown",
      "metadata": {
        "id": "VLEs8PXLn8-A"
      },
      "source": [
        "### Random Forest"
      ]
    },
    {
      "cell_type": "code",
      "execution_count": 86,
      "metadata": {
        "colab": {
          "base_uri": "https://localhost:8080/"
        },
        "id": "Temc5VHhoFPO",
        "outputId": "d6409a8f-f9cc-44a8-9c99-c54a2052a40c"
      },
      "outputs": [
        {
          "metadata": {
            "tags": null
          },
          "name": "stdout",
          "output_type": "stream",
          "text": [
            "Fitting 5 folds for each of 24 candidates, totalling 120 fits\n"
          ]
        }
      ],
      "source": [
        "# Create the parameter grid based on the results of random search\n",
        "from sklearn.ensemble import RandomForestRegressor \n",
        "param_grid = {'n_estimators': [50], \"min_samples_leaf\": [5 ], \"max_leaf_nodes\": [20, 50], \n",
        "              \"min_samples_split\": [2 , 4 ] ,\n",
        " 'max_depth': [6 ,10, 20], 'bootstrap': [True, False]}\n",
        "\n",
        "# Create a based model\n",
        "rf = RandomForestRegressor()\n",
        "# Instantiate the grid search model\n",
        "grid_search_rf = GridSearchCV(estimator = rf, param_grid = param_grid, \n",
        "                          cv = 5, n_jobs = 1, verbose = 1)\n",
        "grid_search_rf.fit(X_train,y_train)\n",
        "y_pred = grid_search_rf.predict(X_test)"
      ]
    },
    {
      "cell_type": "code",
      "source": [
        "grid_search_rf.best_estimator_"
      ],
      "metadata": {
        "colab": {
          "base_uri": "https://localhost:8080/"
        },
        "id": "XLQ3IM5s6QuC",
        "outputId": "be854222-0181-4a47-db89-81f4044d3a02"
      },
      "execution_count": 87,
      "outputs": [
        {
          "output_type": "execute_result",
          "data": {
            "text/plain": [
              "RandomForestRegressor(max_depth=10, max_leaf_nodes=50, min_samples_leaf=5,\n",
              "                      min_samples_split=4, n_estimators=50)"
            ]
          },
          "metadata": {},
          "execution_count": 87
        }
      ]
    },
    {
      "cell_type": "code",
      "execution_count": 89,
      "metadata": {
        "colab": {
          "base_uri": "https://localhost:8080/"
        },
        "id": "Z6HBZKW8sZzz",
        "outputId": "4859bd4f-1e49-4a62-94b6-9b07d61870df"
      },
      "outputs": [
        {
          "output_type": "stream",
          "name": "stdout",
          "text": [
            "R2 on test data: 0.6\n",
            "MSE : 123376.66\n",
            "RMSE : 351.25\n",
            "MAE : 233.86\n"
          ]
        }
      ],
      "source": [
        "# y_pred= scipy.special.inv_boxcox(y_pred , dura_boxcox_param)\n",
        "# y_test= scipy.special.inv_boxcox(y_test , dura_boxcox_param)\n",
        "evaluation_metrics(y_test, y_pred)"
      ]
    },
    {
      "cell_type": "code",
      "execution_count": 88,
      "metadata": {
        "id": "jHNieGu-smXL"
      },
      "outputs": [],
      "source": [
        ""
      ]
    }
  ],
  "metadata": {
    "colab": {
      "name": "NYC taxi Prediction.ipynb",
      "provenance": [],
      "authorship_tag": "ABX9TyP39pNx5NQmA0i60oIuUrFc",
      "include_colab_link": true
    },
    "kernelspec": {
      "display_name": "Python 3",
      "name": "python3"
    },
    "language_info": {
      "name": "python"
    }
  },
  "nbformat": 4,
  "nbformat_minor": 0
}