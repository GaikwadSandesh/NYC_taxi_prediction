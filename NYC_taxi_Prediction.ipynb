{
  "cells": [
    {
      "cell_type": "markdown",
      "metadata": {
        "id": "view-in-github",
        "colab_type": "text"
      },
      "source": [
        "<a href=\"https://colab.research.google.com/github/GaikwadSandesh/NYC_taxi_prediction/blob/main/NYC_taxi_Prediction.ipynb\" target=\"_parent\"><img src=\"https://colab.research.google.com/assets/colab-badge.svg\" alt=\"Open In Colab\"/></a>"
      ]
    },
    {
      "cell_type": "code",
      "execution_count": 1,
      "metadata": {
        "id": "xMDZK-7BZxKp"
      },
      "outputs": [],
      "source": [
        "import pandas as pd\n",
        "import numpy as np\n",
        "import seaborn as sns\n",
        "import matplotlib\n",
        "import matplotlib.pyplot as plt\n",
        "import matplotlib.image as mpimg\n",
        "\n",
        "import scipy.stats as stats\n",
        "import pylab\n",
        "import scipy\n",
        "import pickle\n",
        "# modeling utilities\n",
        "from scipy.stats import zscore\n",
        "from sklearn import metrics\n",
        "from sklearn.linear_model import LinearRegression, Lasso, Ridge\n",
        "from sklearn.model_selection import GridSearchCV\n",
        "from sklearn.metrics import r2_score, mean_squared_error, mean_absolute_error\n",
        "from sklearn.tree import DecisionTreeRegressor\n",
        "from sklearn.model_selection import GridSearchCV, cross_val_score, cross_val_predict, train_test_split"
      ]
    },
    {
      "cell_type": "markdown",
      "metadata": {
        "id": "bs9w0-g7WU-A"
      },
      "source": [
        "# Load data"
      ]
    },
    {
      "cell_type": "code",
      "execution_count": 2,
      "metadata": {
        "id": "-BOGBwXDaZa1",
        "colab": {
          "base_uri": "https://localhost:8080/"
        },
        "outputId": "99cbafae-813d-4e77-8b4c-d4f3893eb4a4"
      },
      "outputs": [
        {
          "output_type": "stream",
          "name": "stdout",
          "text": [
            "Drive already mounted at /content/drive; to attempt to forcibly remount, call drive.mount(\"/content/drive\", force_remount=True).\n"
          ]
        }
      ],
      "source": [
        "from google.colab import drive\n",
        "drive.mount('/content/drive')"
      ]
    },
    {
      "cell_type": "code",
      "execution_count": 3,
      "metadata": {
        "id": "fj3qhUqRal3c"
      },
      "outputs": [],
      "source": [
        "df = pd.read_csv(\"/content/drive/MyDrive/Colab Notebooks/Alma_better/NYC Taxi Time Prediction/NYC Taxi Data.csv\", parse_dates=['pickup_datetime'])"
      ]
    },
    {
      "cell_type": "code",
      "execution_count": 4,
      "metadata": {
        "id": "SFYqhGYYakGW",
        "colab": {
          "base_uri": "https://localhost:8080/",
          "height": 600
        },
        "outputId": "ac9b8d2d-3970-41dd-f6aa-a8dc08e8eff1"
      },
      "outputs": [
        {
          "output_type": "execute_result",
          "data": {
            "text/plain": [
              "          id  vendor_id     pickup_datetime     dropoff_datetime  \\\n",
              "0  id2875421          2 2016-03-14 17:24:55  2016-03-14 17:32:30   \n",
              "1  id2377394          1 2016-06-12 00:43:35  2016-06-12 00:54:38   \n",
              "2  id3858529          2 2016-01-19 11:35:24  2016-01-19 12:10:48   \n",
              "3  id3504673          2 2016-04-06 19:32:31  2016-04-06 19:39:40   \n",
              "4  id2181028          2 2016-03-26 13:30:55  2016-03-26 13:38:10   \n",
              "5  id0801584          2 2016-01-30 22:01:40  2016-01-30 22:09:03   \n",
              "6  id1813257          1 2016-06-17 22:34:59  2016-06-17 22:40:40   \n",
              "7  id1324603          2 2016-05-21 07:54:58  2016-05-21 08:20:49   \n",
              "8  id1301050          1 2016-05-27 23:12:23  2016-05-27 23:16:38   \n",
              "9  id0012891          2 2016-03-10 21:45:01  2016-03-10 22:05:26   \n",
              "\n",
              "   passenger_count  pickup_longitude  pickup_latitude  dropoff_longitude  \\\n",
              "0                1        -73.982155        40.767937         -73.964630   \n",
              "1                1        -73.980415        40.738564         -73.999481   \n",
              "2                1        -73.979027        40.763939         -74.005333   \n",
              "3                1        -74.010040        40.719971         -74.012268   \n",
              "4                1        -73.973053        40.793209         -73.972923   \n",
              "5                6        -73.982857        40.742195         -73.992081   \n",
              "6                4        -73.969017        40.757839         -73.957405   \n",
              "7                1        -73.969276        40.797779         -73.922470   \n",
              "8                1        -73.999481        40.738400         -73.985786   \n",
              "9                1        -73.981049        40.744339         -73.973000   \n",
              "\n",
              "   dropoff_latitude store_and_fwd_flag  trip_duration  \n",
              "0         40.765602                  N            455  \n",
              "1         40.731152                  N            663  \n",
              "2         40.710087                  N           2124  \n",
              "3         40.706718                  N            429  \n",
              "4         40.782520                  N            435  \n",
              "5         40.749184                  N            443  \n",
              "6         40.765896                  N            341  \n",
              "7         40.760559                  N           1551  \n",
              "8         40.732815                  N            255  \n",
              "9         40.789989                  N           1225  "
            ],
            "text/html": [
              "\n",
              "  <div id=\"df-679fd049-c4b9-4f5f-a2c4-4ff7dc146f16\">\n",
              "    <div class=\"colab-df-container\">\n",
              "      <div>\n",
              "<style scoped>\n",
              "    .dataframe tbody tr th:only-of-type {\n",
              "        vertical-align: middle;\n",
              "    }\n",
              "\n",
              "    .dataframe tbody tr th {\n",
              "        vertical-align: top;\n",
              "    }\n",
              "\n",
              "    .dataframe thead th {\n",
              "        text-align: right;\n",
              "    }\n",
              "</style>\n",
              "<table border=\"1\" class=\"dataframe\">\n",
              "  <thead>\n",
              "    <tr style=\"text-align: right;\">\n",
              "      <th></th>\n",
              "      <th>id</th>\n",
              "      <th>vendor_id</th>\n",
              "      <th>pickup_datetime</th>\n",
              "      <th>dropoff_datetime</th>\n",
              "      <th>passenger_count</th>\n",
              "      <th>pickup_longitude</th>\n",
              "      <th>pickup_latitude</th>\n",
              "      <th>dropoff_longitude</th>\n",
              "      <th>dropoff_latitude</th>\n",
              "      <th>store_and_fwd_flag</th>\n",
              "      <th>trip_duration</th>\n",
              "    </tr>\n",
              "  </thead>\n",
              "  <tbody>\n",
              "    <tr>\n",
              "      <th>0</th>\n",
              "      <td>id2875421</td>\n",
              "      <td>2</td>\n",
              "      <td>2016-03-14 17:24:55</td>\n",
              "      <td>2016-03-14 17:32:30</td>\n",
              "      <td>1</td>\n",
              "      <td>-73.982155</td>\n",
              "      <td>40.767937</td>\n",
              "      <td>-73.964630</td>\n",
              "      <td>40.765602</td>\n",
              "      <td>N</td>\n",
              "      <td>455</td>\n",
              "    </tr>\n",
              "    <tr>\n",
              "      <th>1</th>\n",
              "      <td>id2377394</td>\n",
              "      <td>1</td>\n",
              "      <td>2016-06-12 00:43:35</td>\n",
              "      <td>2016-06-12 00:54:38</td>\n",
              "      <td>1</td>\n",
              "      <td>-73.980415</td>\n",
              "      <td>40.738564</td>\n",
              "      <td>-73.999481</td>\n",
              "      <td>40.731152</td>\n",
              "      <td>N</td>\n",
              "      <td>663</td>\n",
              "    </tr>\n",
              "    <tr>\n",
              "      <th>2</th>\n",
              "      <td>id3858529</td>\n",
              "      <td>2</td>\n",
              "      <td>2016-01-19 11:35:24</td>\n",
              "      <td>2016-01-19 12:10:48</td>\n",
              "      <td>1</td>\n",
              "      <td>-73.979027</td>\n",
              "      <td>40.763939</td>\n",
              "      <td>-74.005333</td>\n",
              "      <td>40.710087</td>\n",
              "      <td>N</td>\n",
              "      <td>2124</td>\n",
              "    </tr>\n",
              "    <tr>\n",
              "      <th>3</th>\n",
              "      <td>id3504673</td>\n",
              "      <td>2</td>\n",
              "      <td>2016-04-06 19:32:31</td>\n",
              "      <td>2016-04-06 19:39:40</td>\n",
              "      <td>1</td>\n",
              "      <td>-74.010040</td>\n",
              "      <td>40.719971</td>\n",
              "      <td>-74.012268</td>\n",
              "      <td>40.706718</td>\n",
              "      <td>N</td>\n",
              "      <td>429</td>\n",
              "    </tr>\n",
              "    <tr>\n",
              "      <th>4</th>\n",
              "      <td>id2181028</td>\n",
              "      <td>2</td>\n",
              "      <td>2016-03-26 13:30:55</td>\n",
              "      <td>2016-03-26 13:38:10</td>\n",
              "      <td>1</td>\n",
              "      <td>-73.973053</td>\n",
              "      <td>40.793209</td>\n",
              "      <td>-73.972923</td>\n",
              "      <td>40.782520</td>\n",
              "      <td>N</td>\n",
              "      <td>435</td>\n",
              "    </tr>\n",
              "    <tr>\n",
              "      <th>5</th>\n",
              "      <td>id0801584</td>\n",
              "      <td>2</td>\n",
              "      <td>2016-01-30 22:01:40</td>\n",
              "      <td>2016-01-30 22:09:03</td>\n",
              "      <td>6</td>\n",
              "      <td>-73.982857</td>\n",
              "      <td>40.742195</td>\n",
              "      <td>-73.992081</td>\n",
              "      <td>40.749184</td>\n",
              "      <td>N</td>\n",
              "      <td>443</td>\n",
              "    </tr>\n",
              "    <tr>\n",
              "      <th>6</th>\n",
              "      <td>id1813257</td>\n",
              "      <td>1</td>\n",
              "      <td>2016-06-17 22:34:59</td>\n",
              "      <td>2016-06-17 22:40:40</td>\n",
              "      <td>4</td>\n",
              "      <td>-73.969017</td>\n",
              "      <td>40.757839</td>\n",
              "      <td>-73.957405</td>\n",
              "      <td>40.765896</td>\n",
              "      <td>N</td>\n",
              "      <td>341</td>\n",
              "    </tr>\n",
              "    <tr>\n",
              "      <th>7</th>\n",
              "      <td>id1324603</td>\n",
              "      <td>2</td>\n",
              "      <td>2016-05-21 07:54:58</td>\n",
              "      <td>2016-05-21 08:20:49</td>\n",
              "      <td>1</td>\n",
              "      <td>-73.969276</td>\n",
              "      <td>40.797779</td>\n",
              "      <td>-73.922470</td>\n",
              "      <td>40.760559</td>\n",
              "      <td>N</td>\n",
              "      <td>1551</td>\n",
              "    </tr>\n",
              "    <tr>\n",
              "      <th>8</th>\n",
              "      <td>id1301050</td>\n",
              "      <td>1</td>\n",
              "      <td>2016-05-27 23:12:23</td>\n",
              "      <td>2016-05-27 23:16:38</td>\n",
              "      <td>1</td>\n",
              "      <td>-73.999481</td>\n",
              "      <td>40.738400</td>\n",
              "      <td>-73.985786</td>\n",
              "      <td>40.732815</td>\n",
              "      <td>N</td>\n",
              "      <td>255</td>\n",
              "    </tr>\n",
              "    <tr>\n",
              "      <th>9</th>\n",
              "      <td>id0012891</td>\n",
              "      <td>2</td>\n",
              "      <td>2016-03-10 21:45:01</td>\n",
              "      <td>2016-03-10 22:05:26</td>\n",
              "      <td>1</td>\n",
              "      <td>-73.981049</td>\n",
              "      <td>40.744339</td>\n",
              "      <td>-73.973000</td>\n",
              "      <td>40.789989</td>\n",
              "      <td>N</td>\n",
              "      <td>1225</td>\n",
              "    </tr>\n",
              "  </tbody>\n",
              "</table>\n",
              "</div>\n",
              "      <button class=\"colab-df-convert\" onclick=\"convertToInteractive('df-679fd049-c4b9-4f5f-a2c4-4ff7dc146f16')\"\n",
              "              title=\"Convert this dataframe to an interactive table.\"\n",
              "              style=\"display:none;\">\n",
              "        \n",
              "  <svg xmlns=\"http://www.w3.org/2000/svg\" height=\"24px\"viewBox=\"0 0 24 24\"\n",
              "       width=\"24px\">\n",
              "    <path d=\"M0 0h24v24H0V0z\" fill=\"none\"/>\n",
              "    <path d=\"M18.56 5.44l.94 2.06.94-2.06 2.06-.94-2.06-.94-.94-2.06-.94 2.06-2.06.94zm-11 1L8.5 8.5l.94-2.06 2.06-.94-2.06-.94L8.5 2.5l-.94 2.06-2.06.94zm10 10l.94 2.06.94-2.06 2.06-.94-2.06-.94-.94-2.06-.94 2.06-2.06.94z\"/><path d=\"M17.41 7.96l-1.37-1.37c-.4-.4-.92-.59-1.43-.59-.52 0-1.04.2-1.43.59L10.3 9.45l-7.72 7.72c-.78.78-.78 2.05 0 2.83L4 21.41c.39.39.9.59 1.41.59.51 0 1.02-.2 1.41-.59l7.78-7.78 2.81-2.81c.8-.78.8-2.07 0-2.86zM5.41 20L4 18.59l7.72-7.72 1.47 1.35L5.41 20z\"/>\n",
              "  </svg>\n",
              "      </button>\n",
              "      \n",
              "  <style>\n",
              "    .colab-df-container {\n",
              "      display:flex;\n",
              "      flex-wrap:wrap;\n",
              "      gap: 12px;\n",
              "    }\n",
              "\n",
              "    .colab-df-convert {\n",
              "      background-color: #E8F0FE;\n",
              "      border: none;\n",
              "      border-radius: 50%;\n",
              "      cursor: pointer;\n",
              "      display: none;\n",
              "      fill: #1967D2;\n",
              "      height: 32px;\n",
              "      padding: 0 0 0 0;\n",
              "      width: 32px;\n",
              "    }\n",
              "\n",
              "    .colab-df-convert:hover {\n",
              "      background-color: #E2EBFA;\n",
              "      box-shadow: 0px 1px 2px rgba(60, 64, 67, 0.3), 0px 1px 3px 1px rgba(60, 64, 67, 0.15);\n",
              "      fill: #174EA6;\n",
              "    }\n",
              "\n",
              "    [theme=dark] .colab-df-convert {\n",
              "      background-color: #3B4455;\n",
              "      fill: #D2E3FC;\n",
              "    }\n",
              "\n",
              "    [theme=dark] .colab-df-convert:hover {\n",
              "      background-color: #434B5C;\n",
              "      box-shadow: 0px 1px 3px 1px rgba(0, 0, 0, 0.15);\n",
              "      filter: drop-shadow(0px 1px 2px rgba(0, 0, 0, 0.3));\n",
              "      fill: #FFFFFF;\n",
              "    }\n",
              "  </style>\n",
              "\n",
              "      <script>\n",
              "        const buttonEl =\n",
              "          document.querySelector('#df-679fd049-c4b9-4f5f-a2c4-4ff7dc146f16 button.colab-df-convert');\n",
              "        buttonEl.style.display =\n",
              "          google.colab.kernel.accessAllowed ? 'block' : 'none';\n",
              "\n",
              "        async function convertToInteractive(key) {\n",
              "          const element = document.querySelector('#df-679fd049-c4b9-4f5f-a2c4-4ff7dc146f16');\n",
              "          const dataTable =\n",
              "            await google.colab.kernel.invokeFunction('convertToInteractive',\n",
              "                                                     [key], {});\n",
              "          if (!dataTable) return;\n",
              "\n",
              "          const docLinkHtml = 'Like what you see? Visit the ' +\n",
              "            '<a target=\"_blank\" href=https://colab.research.google.com/notebooks/data_table.ipynb>data table notebook</a>'\n",
              "            + ' to learn more about interactive tables.';\n",
              "          element.innerHTML = '';\n",
              "          dataTable['output_type'] = 'display_data';\n",
              "          await google.colab.output.renderOutput(dataTable, element);\n",
              "          const docLink = document.createElement('div');\n",
              "          docLink.innerHTML = docLinkHtml;\n",
              "          element.appendChild(docLink);\n",
              "        }\n",
              "      </script>\n",
              "    </div>\n",
              "  </div>\n",
              "  "
            ]
          },
          "metadata": {},
          "execution_count": 4
        }
      ],
      "source": [
        "df.head(10)"
      ]
    },
    {
      "cell_type": "code",
      "execution_count": 5,
      "metadata": {
        "id": "GtSUyxgEbCne",
        "colab": {
          "base_uri": "https://localhost:8080/"
        },
        "outputId": "84f83191-8197-4a51-dcb8-f6a7aaf87938"
      },
      "outputs": [
        {
          "output_type": "stream",
          "name": "stdout",
          "text": [
            "<class 'pandas.core.frame.DataFrame'>\n",
            "RangeIndex: 1458644 entries, 0 to 1458643\n",
            "Data columns (total 11 columns):\n",
            " #   Column              Non-Null Count    Dtype         \n",
            "---  ------              --------------    -----         \n",
            " 0   id                  1458644 non-null  object        \n",
            " 1   vendor_id           1458644 non-null  int64         \n",
            " 2   pickup_datetime     1458644 non-null  datetime64[ns]\n",
            " 3   dropoff_datetime    1458644 non-null  object        \n",
            " 4   passenger_count     1458644 non-null  int64         \n",
            " 5   pickup_longitude    1458644 non-null  float64       \n",
            " 6   pickup_latitude     1458644 non-null  float64       \n",
            " 7   dropoff_longitude   1458644 non-null  float64       \n",
            " 8   dropoff_latitude    1458644 non-null  float64       \n",
            " 9   store_and_fwd_flag  1458644 non-null  object        \n",
            " 10  trip_duration       1458644 non-null  int64         \n",
            "dtypes: datetime64[ns](1), float64(4), int64(3), object(3)\n",
            "memory usage: 122.4+ MB\n"
          ]
        }
      ],
      "source": [
        "df.info()"
      ]
    },
    {
      "cell_type": "code",
      "execution_count": 6,
      "metadata": {
        "id": "DkoDCDYybDCI",
        "colab": {
          "base_uri": "https://localhost:8080/"
        },
        "outputId": "eedf1cc3-e0f1-4a03-993f-4f862164f225"
      },
      "outputs": [
        {
          "output_type": "execute_result",
          "data": {
            "text/plain": [
              "id                    0\n",
              "vendor_id             0\n",
              "pickup_datetime       0\n",
              "dropoff_datetime      0\n",
              "passenger_count       0\n",
              "pickup_longitude      0\n",
              "pickup_latitude       0\n",
              "dropoff_longitude     0\n",
              "dropoff_latitude      0\n",
              "store_and_fwd_flag    0\n",
              "trip_duration         0\n",
              "dtype: int64"
            ]
          },
          "metadata": {},
          "execution_count": 6
        }
      ],
      "source": [
        "df.isnull().sum()"
      ]
    },
    {
      "cell_type": "code",
      "execution_count": 7,
      "metadata": {
        "id": "e_qaIEzEXe4m",
        "colab": {
          "base_uri": "https://localhost:8080/"
        },
        "outputId": "8beaca55-f80d-4641-bc4b-3271cd563999"
      },
      "outputs": [
        {
          "output_type": "execute_result",
          "data": {
            "text/plain": [
              "(2, 1458644)"
            ]
          },
          "metadata": {},
          "execution_count": 7
        }
      ],
      "source": [
        "df['vendor_id'].nunique() , df['id'].nunique()"
      ]
    },
    {
      "cell_type": "code",
      "execution_count": 8,
      "metadata": {
        "id": "H2QSw0eiXzxb"
      },
      "outputs": [],
      "source": [
        "df.drop(columns = 'id' , inplace =True)"
      ]
    },
    {
      "cell_type": "code",
      "execution_count": 9,
      "metadata": {
        "id": "UnBaPloEvrxv",
        "colab": {
          "base_uri": "https://localhost:8080/",
          "height": 300
        },
        "outputId": "8c7ec85c-47bb-4d61-c600-b60f13784082"
      },
      "outputs": [
        {
          "output_type": "execute_result",
          "data": {
            "text/plain": [
              "          vendor_id  passenger_count  pickup_longitude  pickup_latitude  \\\n",
              "count  1.458644e+06     1.458644e+06      1.458644e+06     1.458644e+06   \n",
              "mean   1.534950e+00     1.664530e+00     -7.397349e+01     4.075092e+01   \n",
              "std    4.987772e-01     1.314242e+00      7.090186e-02     3.288119e-02   \n",
              "min    1.000000e+00     0.000000e+00     -1.219333e+02     3.435970e+01   \n",
              "25%    1.000000e+00     1.000000e+00     -7.399187e+01     4.073735e+01   \n",
              "50%    2.000000e+00     1.000000e+00     -7.398174e+01     4.075410e+01   \n",
              "75%    2.000000e+00     2.000000e+00     -7.396733e+01     4.076836e+01   \n",
              "max    2.000000e+00     9.000000e+00     -6.133553e+01     5.188108e+01   \n",
              "\n",
              "       dropoff_longitude  dropoff_latitude  trip_duration  \n",
              "count       1.458644e+06      1.458644e+06   1.458644e+06  \n",
              "mean       -7.397342e+01      4.075180e+01   9.594923e+02  \n",
              "std         7.064327e-02      3.589056e-02   5.237432e+03  \n",
              "min        -1.219333e+02      3.218114e+01   1.000000e+00  \n",
              "25%        -7.399133e+01      4.073588e+01   3.970000e+02  \n",
              "50%        -7.397975e+01      4.075452e+01   6.620000e+02  \n",
              "75%        -7.396301e+01      4.076981e+01   1.075000e+03  \n",
              "max        -6.133553e+01      4.392103e+01   3.526282e+06  "
            ],
            "text/html": [
              "\n",
              "  <div id=\"df-49d32ffd-ff08-4273-b14e-239834fe902e\">\n",
              "    <div class=\"colab-df-container\">\n",
              "      <div>\n",
              "<style scoped>\n",
              "    .dataframe tbody tr th:only-of-type {\n",
              "        vertical-align: middle;\n",
              "    }\n",
              "\n",
              "    .dataframe tbody tr th {\n",
              "        vertical-align: top;\n",
              "    }\n",
              "\n",
              "    .dataframe thead th {\n",
              "        text-align: right;\n",
              "    }\n",
              "</style>\n",
              "<table border=\"1\" class=\"dataframe\">\n",
              "  <thead>\n",
              "    <tr style=\"text-align: right;\">\n",
              "      <th></th>\n",
              "      <th>vendor_id</th>\n",
              "      <th>passenger_count</th>\n",
              "      <th>pickup_longitude</th>\n",
              "      <th>pickup_latitude</th>\n",
              "      <th>dropoff_longitude</th>\n",
              "      <th>dropoff_latitude</th>\n",
              "      <th>trip_duration</th>\n",
              "    </tr>\n",
              "  </thead>\n",
              "  <tbody>\n",
              "    <tr>\n",
              "      <th>count</th>\n",
              "      <td>1.458644e+06</td>\n",
              "      <td>1.458644e+06</td>\n",
              "      <td>1.458644e+06</td>\n",
              "      <td>1.458644e+06</td>\n",
              "      <td>1.458644e+06</td>\n",
              "      <td>1.458644e+06</td>\n",
              "      <td>1.458644e+06</td>\n",
              "    </tr>\n",
              "    <tr>\n",
              "      <th>mean</th>\n",
              "      <td>1.534950e+00</td>\n",
              "      <td>1.664530e+00</td>\n",
              "      <td>-7.397349e+01</td>\n",
              "      <td>4.075092e+01</td>\n",
              "      <td>-7.397342e+01</td>\n",
              "      <td>4.075180e+01</td>\n",
              "      <td>9.594923e+02</td>\n",
              "    </tr>\n",
              "    <tr>\n",
              "      <th>std</th>\n",
              "      <td>4.987772e-01</td>\n",
              "      <td>1.314242e+00</td>\n",
              "      <td>7.090186e-02</td>\n",
              "      <td>3.288119e-02</td>\n",
              "      <td>7.064327e-02</td>\n",
              "      <td>3.589056e-02</td>\n",
              "      <td>5.237432e+03</td>\n",
              "    </tr>\n",
              "    <tr>\n",
              "      <th>min</th>\n",
              "      <td>1.000000e+00</td>\n",
              "      <td>0.000000e+00</td>\n",
              "      <td>-1.219333e+02</td>\n",
              "      <td>3.435970e+01</td>\n",
              "      <td>-1.219333e+02</td>\n",
              "      <td>3.218114e+01</td>\n",
              "      <td>1.000000e+00</td>\n",
              "    </tr>\n",
              "    <tr>\n",
              "      <th>25%</th>\n",
              "      <td>1.000000e+00</td>\n",
              "      <td>1.000000e+00</td>\n",
              "      <td>-7.399187e+01</td>\n",
              "      <td>4.073735e+01</td>\n",
              "      <td>-7.399133e+01</td>\n",
              "      <td>4.073588e+01</td>\n",
              "      <td>3.970000e+02</td>\n",
              "    </tr>\n",
              "    <tr>\n",
              "      <th>50%</th>\n",
              "      <td>2.000000e+00</td>\n",
              "      <td>1.000000e+00</td>\n",
              "      <td>-7.398174e+01</td>\n",
              "      <td>4.075410e+01</td>\n",
              "      <td>-7.397975e+01</td>\n",
              "      <td>4.075452e+01</td>\n",
              "      <td>6.620000e+02</td>\n",
              "    </tr>\n",
              "    <tr>\n",
              "      <th>75%</th>\n",
              "      <td>2.000000e+00</td>\n",
              "      <td>2.000000e+00</td>\n",
              "      <td>-7.396733e+01</td>\n",
              "      <td>4.076836e+01</td>\n",
              "      <td>-7.396301e+01</td>\n",
              "      <td>4.076981e+01</td>\n",
              "      <td>1.075000e+03</td>\n",
              "    </tr>\n",
              "    <tr>\n",
              "      <th>max</th>\n",
              "      <td>2.000000e+00</td>\n",
              "      <td>9.000000e+00</td>\n",
              "      <td>-6.133553e+01</td>\n",
              "      <td>5.188108e+01</td>\n",
              "      <td>-6.133553e+01</td>\n",
              "      <td>4.392103e+01</td>\n",
              "      <td>3.526282e+06</td>\n",
              "    </tr>\n",
              "  </tbody>\n",
              "</table>\n",
              "</div>\n",
              "      <button class=\"colab-df-convert\" onclick=\"convertToInteractive('df-49d32ffd-ff08-4273-b14e-239834fe902e')\"\n",
              "              title=\"Convert this dataframe to an interactive table.\"\n",
              "              style=\"display:none;\">\n",
              "        \n",
              "  <svg xmlns=\"http://www.w3.org/2000/svg\" height=\"24px\"viewBox=\"0 0 24 24\"\n",
              "       width=\"24px\">\n",
              "    <path d=\"M0 0h24v24H0V0z\" fill=\"none\"/>\n",
              "    <path d=\"M18.56 5.44l.94 2.06.94-2.06 2.06-.94-2.06-.94-.94-2.06-.94 2.06-2.06.94zm-11 1L8.5 8.5l.94-2.06 2.06-.94-2.06-.94L8.5 2.5l-.94 2.06-2.06.94zm10 10l.94 2.06.94-2.06 2.06-.94-2.06-.94-.94-2.06-.94 2.06-2.06.94z\"/><path d=\"M17.41 7.96l-1.37-1.37c-.4-.4-.92-.59-1.43-.59-.52 0-1.04.2-1.43.59L10.3 9.45l-7.72 7.72c-.78.78-.78 2.05 0 2.83L4 21.41c.39.39.9.59 1.41.59.51 0 1.02-.2 1.41-.59l7.78-7.78 2.81-2.81c.8-.78.8-2.07 0-2.86zM5.41 20L4 18.59l7.72-7.72 1.47 1.35L5.41 20z\"/>\n",
              "  </svg>\n",
              "      </button>\n",
              "      \n",
              "  <style>\n",
              "    .colab-df-container {\n",
              "      display:flex;\n",
              "      flex-wrap:wrap;\n",
              "      gap: 12px;\n",
              "    }\n",
              "\n",
              "    .colab-df-convert {\n",
              "      background-color: #E8F0FE;\n",
              "      border: none;\n",
              "      border-radius: 50%;\n",
              "      cursor: pointer;\n",
              "      display: none;\n",
              "      fill: #1967D2;\n",
              "      height: 32px;\n",
              "      padding: 0 0 0 0;\n",
              "      width: 32px;\n",
              "    }\n",
              "\n",
              "    .colab-df-convert:hover {\n",
              "      background-color: #E2EBFA;\n",
              "      box-shadow: 0px 1px 2px rgba(60, 64, 67, 0.3), 0px 1px 3px 1px rgba(60, 64, 67, 0.15);\n",
              "      fill: #174EA6;\n",
              "    }\n",
              "\n",
              "    [theme=dark] .colab-df-convert {\n",
              "      background-color: #3B4455;\n",
              "      fill: #D2E3FC;\n",
              "    }\n",
              "\n",
              "    [theme=dark] .colab-df-convert:hover {\n",
              "      background-color: #434B5C;\n",
              "      box-shadow: 0px 1px 3px 1px rgba(0, 0, 0, 0.15);\n",
              "      filter: drop-shadow(0px 1px 2px rgba(0, 0, 0, 0.3));\n",
              "      fill: #FFFFFF;\n",
              "    }\n",
              "  </style>\n",
              "\n",
              "      <script>\n",
              "        const buttonEl =\n",
              "          document.querySelector('#df-49d32ffd-ff08-4273-b14e-239834fe902e button.colab-df-convert');\n",
              "        buttonEl.style.display =\n",
              "          google.colab.kernel.accessAllowed ? 'block' : 'none';\n",
              "\n",
              "        async function convertToInteractive(key) {\n",
              "          const element = document.querySelector('#df-49d32ffd-ff08-4273-b14e-239834fe902e');\n",
              "          const dataTable =\n",
              "            await google.colab.kernel.invokeFunction('convertToInteractive',\n",
              "                                                     [key], {});\n",
              "          if (!dataTable) return;\n",
              "\n",
              "          const docLinkHtml = 'Like what you see? Visit the ' +\n",
              "            '<a target=\"_blank\" href=https://colab.research.google.com/notebooks/data_table.ipynb>data table notebook</a>'\n",
              "            + ' to learn more about interactive tables.';\n",
              "          element.innerHTML = '';\n",
              "          dataTable['output_type'] = 'display_data';\n",
              "          await google.colab.output.renderOutput(dataTable, element);\n",
              "          const docLink = document.createElement('div');\n",
              "          docLink.innerHTML = docLinkHtml;\n",
              "          element.appendChild(docLink);\n",
              "        }\n",
              "      </script>\n",
              "    </div>\n",
              "  </div>\n",
              "  "
            ]
          },
          "metadata": {},
          "execution_count": 9
        }
      ],
      "source": [
        "df.describe()"
      ]
    },
    {
      "cell_type": "markdown",
      "metadata": {
        "id": "kcOo6EWMWS7l"
      },
      "source": [
        "#EDA"
      ]
    },
    {
      "cell_type": "markdown",
      "metadata": {
        "id": "zvRTx8w_Wa_D"
      },
      "source": [
        "## Anomaly Detection"
      ]
    },
    {
      "cell_type": "code",
      "execution_count": 10,
      "metadata": {
        "id": "mwL-_azPNQ21",
        "colab": {
          "base_uri": "https://localhost:8080/"
        },
        "outputId": "e9e1c926-273a-4404-8731-46f7945334c8"
      },
      "outputs": [
        {
          "output_type": "execute_result",
          "data": {
            "text/plain": [
              "(1458644, 10)"
            ]
          },
          "metadata": {},
          "execution_count": 10
        }
      ],
      "source": [
        "df.shape"
      ]
    },
    {
      "cell_type": "code",
      "execution_count": 11,
      "metadata": {
        "id": "C0jG-aB8wBkH"
      },
      "outputs": [],
      "source": [
        "# plt.figure(figsize = (9, 7))\n",
        "# plt.subplot(2,3,1)\n",
        "# sns.boxplot(x=df.passenger_count)\n",
        "# plt.subplot(2,3,2)\n",
        "# sns.boxplot(x=df.pickup_longitude)\n",
        "# plt.subplot(2,3,3)\n",
        "# sns.boxplot(x=df.pickup_latitude)\n",
        "# plt.subplot(2,3,4)\n",
        "# sns.boxplot(x=df.dropoff_longitude)\n",
        "# plt.subplot(2,3,5)\n",
        "# sns.boxplot(x=df.dropoff_latitude)\n",
        "# plt.subplot(2,3,6)\n",
        "# sns.boxplot(x=df.trip_duration)\n",
        "# plt.show()"
      ]
    },
    {
      "cell_type": "markdown",
      "metadata": {
        "id": "QnK2AwO9AKKN"
      },
      "source": [
        "### pickup_longitude"
      ]
    },
    {
      "cell_type": "code",
      "execution_count": 12,
      "metadata": {
        "id": "L4Z6VD_JIAuG"
      },
      "outputs": [],
      "source": [
        "df = df[(df['pickup_longitude']<-65) & (-85<df['pickup_longitude'])]"
      ]
    },
    {
      "cell_type": "code",
      "execution_count": 13,
      "metadata": {
        "id": "lCc_z8MH8g53"
      },
      "outputs": [],
      "source": [
        "# plt.figure(figsize = (15, 7))\n",
        "# plt.subplot(1, 2 , 1)\n",
        "# sns.histplot(x=df.pickup_longitude)\n",
        "# plt.subplot(1,2 , 2)\n",
        "# sns.boxplot(x=df.pickup_longitude)"
      ]
    },
    {
      "cell_type": "code",
      "execution_count": 14,
      "metadata": {
        "id": "B72QmeRE_Dxz"
      },
      "outputs": [],
      "source": [
        "df = df[(df['pickup_longitude']<-73.5) & (-74.5<df['pickup_longitude'])]"
      ]
    },
    {
      "cell_type": "code",
      "execution_count": 15,
      "metadata": {
        "id": "ElwBtiZf_gLg"
      },
      "outputs": [],
      "source": [
        "# plt.figure(figsize = (15, 7))\n",
        "# plt.subplot(1, 2 , 1)\n",
        "# sns.histplot(x=df.pickup_longitude)\n",
        "# plt.subplot(1,2 , 2)\n",
        "# sns.boxplot(x=df.pickup_longitude)"
      ]
    },
    {
      "cell_type": "markdown",
      "metadata": {
        "id": "6aEbMhJrAbOB"
      },
      "source": [
        "### pickup_latitude"
      ]
    },
    {
      "cell_type": "code",
      "execution_count": 16,
      "metadata": {
        "id": "OfPMy8_dIYEt"
      },
      "outputs": [],
      "source": [
        "df = df[(30<df['pickup_latitude']) & (df['pickup_latitude']<55)]"
      ]
    },
    {
      "cell_type": "code",
      "execution_count": 17,
      "metadata": {
        "id": "zNv2X6jwAjjq"
      },
      "outputs": [],
      "source": [
        "# plt.figure(figsize = (15, 7))\n",
        "# plt.subplot(1, 2 , 1)\n",
        "# sns.histplot(x=df.pickup_latitude)\n",
        "# plt.subplot(1,2 , 2)\n",
        "# sns.boxplot(x=df.pickup_latitude)"
      ]
    },
    {
      "cell_type": "code",
      "execution_count": 18,
      "metadata": {
        "id": "QtldKgC2AwUf"
      },
      "outputs": [],
      "source": [
        "df = df[(40.3<df['pickup_latitude']) & (df['pickup_latitude']<41.2)]"
      ]
    },
    {
      "cell_type": "code",
      "execution_count": 19,
      "metadata": {
        "id": "YRK0HR07A-bu"
      },
      "outputs": [],
      "source": [
        "# plt.figure(figsize = (15, 7))\n",
        "# plt.subplot(1, 2 , 1)\n",
        "# sns.histplot(x=df.pickup_latitude)\n",
        "# plt.subplot(1,2 , 2)\n",
        "# sns.boxplot(x=df.pickup_latitude)"
      ]
    },
    {
      "cell_type": "markdown",
      "metadata": {
        "id": "5f0xw0G6BFnK"
      },
      "source": [
        "### dropoff_longitude"
      ]
    },
    {
      "cell_type": "code",
      "execution_count": 20,
      "metadata": {
        "id": "Ol2u8RpHCNAY"
      },
      "outputs": [],
      "source": [
        "# plt.figure(figsize = (15, 7))\n",
        "# plt.subplot(1, 2 , 1)\n",
        "# sns.histplot(x=df.dropoff_longitude)\n",
        "# plt.subplot(1,2 , 2)\n",
        "# sns.boxplot(x=df.dropoff_longitude)"
      ]
    },
    {
      "cell_type": "code",
      "execution_count": 21,
      "metadata": {
        "id": "ZRRxJvt8Kji7"
      },
      "outputs": [],
      "source": [
        "df = df[(df['dropoff_longitude']<-73) & (-75<df['dropoff_longitude'])]"
      ]
    },
    {
      "cell_type": "code",
      "execution_count": 22,
      "metadata": {
        "id": "dflegeZ9KVsi"
      },
      "outputs": [],
      "source": [
        "# plt.figure(figsize = (15, 7))\n",
        "# plt.subplot(1, 2 , 1)\n",
        "# sns.histplot(x=df.dropoff_longitude)\n",
        "# plt.subplot(1,2 , 2)\n",
        "# sns.boxplot(x=df.dropoff_longitude)"
      ]
    },
    {
      "cell_type": "markdown",
      "metadata": {
        "id": "jVcTGmchCGf7"
      },
      "source": [
        "### dropoff_latitude"
      ]
    },
    {
      "cell_type": "code",
      "execution_count": 23,
      "metadata": {
        "id": "dOnhBFtgMijF"
      },
      "outputs": [],
      "source": [
        "df = df[(30<df['dropoff_latitude']) & (df['dropoff_latitude']<55)]"
      ]
    },
    {
      "cell_type": "code",
      "execution_count": 24,
      "metadata": {
        "id": "z4kG2akwBocr"
      },
      "outputs": [],
      "source": [
        "# plt.figure(figsize = (15, 7))\n",
        "# plt.subplot(1, 2 , 1)\n",
        "# sns.histplot(x=df.dropoff_latitude)\n",
        "# plt.subplot(1,2 , 2)\n",
        "# sns.boxplot(x=df.dropoff_latitude)"
      ]
    },
    {
      "cell_type": "code",
      "execution_count": 25,
      "metadata": {
        "id": "9GtTWri8Muq8"
      },
      "outputs": [],
      "source": [
        "df = df[(40<df['dropoff_latitude']) & (df['dropoff_latitude']<41.2)]"
      ]
    },
    {
      "cell_type": "code",
      "execution_count": 26,
      "metadata": {
        "id": "la5UBb3nM1CM"
      },
      "outputs": [],
      "source": [
        "# plt.figure(figsize = (15, 7))\n",
        "# plt.subplot(1, 2 , 1)\n",
        "# sns.histplot(x=df.dropoff_latitude)\n",
        "# plt.subplot(1,2 , 2)\n",
        "# sns.boxplot(x=df.dropoff_latitude)"
      ]
    },
    {
      "cell_type": "code",
      "execution_count": 27,
      "metadata": {
        "id": "Sfk4NaZewCie",
        "colab": {
          "base_uri": "https://localhost:8080/",
          "height": 309
        },
        "outputId": "ae6e69a9-f056-48f7-be05-f6fae4ff5e07"
      },
      "outputs": [
        {
          "output_type": "execute_result",
          "data": {
            "text/plain": [
              "<matplotlib.axes._subplots.AxesSubplot at 0x7f086d706090>"
            ]
          },
          "metadata": {},
          "execution_count": 27
        },
        {
          "output_type": "display_data",
          "data": {
            "text/plain": [
              "<Figure size 432x288 with 1 Axes>"
            ],
            "image/png": "[encoded data removed]"
          },
          "metadata": {
            "needs_background": "light"
          }
        }
      ],
      "source": [
        "sns.countplot(x=df.passenger_count )"
      ]
    },
    {
      "cell_type": "markdown",
      "metadata": {
        "id": "TrmXQ4yTwysc"
      },
      "source": [
        "vehical which are carring more than 6 passengers can't be cars so we will drop  values greater than 6"
      ]
    },
    {
      "cell_type": "code",
      "execution_count": 28,
      "metadata": {
        "id": "sdAxRKL-xAFF"
      },
      "outputs": [],
      "source": [
        "df = df[df['passenger_count']<=6]"
      ]
    },
    {
      "cell_type": "code",
      "execution_count": 29,
      "metadata": {
        "colab": {
          "base_uri": "https://localhost:8080/"
        },
        "id": "3D30uS--NMbu",
        "outputId": "7adf9734-85f3-4e36-ccb8-f0033cdb4e99"
      },
      "outputs": [
        {
          "output_type": "execute_result",
          "data": {
            "text/plain": [
              "(1458527, 10)"
            ]
          },
          "metadata": {},
          "execution_count": 29
        }
      ],
      "source": [
        "df.shape"
      ]
    },
    {
      "cell_type": "markdown",
      "metadata": {
        "id": "pri76rhVWlSi"
      },
      "source": [
        "\n",
        "\n",
        "## Feature Enginnering"
      ]
    },
    {
      "cell_type": "code",
      "execution_count": 30,
      "metadata": {
        "id": "7ZJJ3sSrXCUt"
      },
      "outputs": [],
      "source": [
        "# Not taking 'year' as feature because all trips are from year 2016 only\n",
        "\n",
        "df['month'] = df.pickup_datetime.apply(lambda t: t.month)\n",
        "df['weekday'] = df.pickup_datetime.apply(lambda t: t.weekday())\n",
        "df['weekend'] = df['weekday'].apply(lambda t: 1 if t in [5,6] else 0)\n",
        "df['hour'] = df.pickup_datetime.apply(lambda t: t.hour) \n",
        "\n",
        "# abs of delta of longitude and latitude pickup-dropoff\n",
        "df['delta_longitude'] = abs(df.pickup_longitude - df.dropoff_longitude)\n",
        "df['delta_latitude'] = abs(df.pickup_latitude - df.dropoff_latitude)"
      ]
    },
    {
      "cell_type": "code",
      "execution_count": 31,
      "metadata": {
        "id": "TsAK2yLJeSE8"
      },
      "outputs": [],
      "source": [
        "# Function to find direction in degrees (Source: https://gist.github.com/jeromer/2005586)\n",
        "def get_direction(lat1, lon1, lat2, lon2):\n",
        "  lon1=lon1.to_numpy()\n",
        "  lat1=lat1.to_numpy()\n",
        "  lon2=lon2.to_numpy()\n",
        "  lat2=lat2.to_numpy()\n",
        "  diff_lon = np.deg2rad(lon2-lon1)\n",
        "  x = np.sin(diff_lon) * np.cos(lat2)\n",
        "  y = np.cos(lat1) * np.sin(lat2) - (np.sin(lat1) * np.cos(lat2) * np.cos(diff_lon))\n",
        "  initial_bearing = np.arctan2(x, y)\n",
        "  direction = np.degrees (initial_bearing)\n",
        "\n",
        "  # Now we have the initial bearing but math.atan2 return values\n",
        "  # from -180° to + 180° which is not what we want for a compass bearing\n",
        "  # The solution is to normalize the initial bearing as shown below\n",
        "\n",
        "  initial_bearing = np.degrees (initial_bearing)\n",
        "  direction = (initial_bearing + 360) % 360\n",
        "  return direction\n",
        "\n",
        "\n",
        "# Haversine Formula, distance calculation (between pick-up and drop-off coordinates) \n",
        "#\n",
        "\n",
        "def haversine(lat1, lon1, lat2, lon2):\n",
        "  # convert decimal degrees to radians \n",
        "  lon1=np.deg2rad(lon1.to_numpy())\n",
        "  lat1=np.deg2rad(lat1.to_numpy())\n",
        "  lon2=np.deg2rad(lon2.to_numpy())\n",
        "  lat2=np.deg2rad(lat2.to_numpy())\n",
        "  # haversine formula \n",
        "  dlon = lon2 - lon1 \n",
        "  dlat = lat2 - lat1 \n",
        "  a = np.sin(dlat/2)**2 + np.cos(lat1) * np.cos(lat2) * np.sin(dlon/2)**2\n",
        "  c = 2 * np.arcsin(np.sqrt(a)) \n",
        "  r = 6372.8 # Radius of earth in kilometers. Use 3956 for miles\n",
        "  return np.around(c * r, decimals=2)"
      ]
    },
    {
      "cell_type": "code",
      "execution_count": 32,
      "metadata": {
        "id": "ldGVvo5zvEXp"
      },
      "outputs": [],
      "source": [
        "# Create columns 'direction', 'distance_km'\n",
        "df['direction']   = get_direction(df['pickup_latitude'], df['pickup_longitude'], \\\n",
        "                                      df['dropoff_latitude'], df['dropoff_longitude'])\n",
        "\n",
        "df['distance_km'] = haversine(df['pickup_latitude'], df['pickup_longitude'], \\\n",
        "                                      df['dropoff_latitude'], df['dropoff_longitude'])"
      ]
    },
    {
      "cell_type": "code",
      "execution_count": 33,
      "metadata": {
        "colab": {
          "base_uri": "https://localhost:8080/"
        },
        "id": "5zbKBwppvKeX",
        "outputId": "6b2e1221-c669-4978-f53d-cd8203602255"
      },
      "outputs": [
        {
          "output_type": "stream",
          "name": "stdout",
          "text": [
            "16670.680578068725\n"
          ]
        }
      ],
      "source": [
        "# trip_duration\n",
        "highest_allowed = df['trip_duration'].mean() + 3*df['trip_duration'].std()\n",
        "lowest_allowed = 10\n",
        "df = df[(df['trip_duration'] > lowest_allowed) & (df['trip_duration'] < highest_allowed)]\n",
        "print(highest_allowed)\n",
        "\n",
        "# distance_km\n",
        "highest_allowed = df['distance_km'].mean() + 3*df['distance_km'].std()\n",
        "lowest_allowed = 0.1\n",
        "df = df[(df['distance_km'] > lowest_allowed) & (df['distance_km'] < highest_allowed)]\n"
      ]
    },
    {
      "cell_type": "code",
      "execution_count": 34,
      "metadata": {
        "id": "K41dA-M8_uSw"
      },
      "outputs": [],
      "source": [
        "# df.info()"
      ]
    },
    {
      "cell_type": "code",
      "execution_count": 35,
      "metadata": {
        "id": "khgn0ixE_0tg"
      },
      "outputs": [],
      "source": [
        "drop_columns =  ['vendor_id' , 'pickup_longitude' , 'pickup_latitude' , 'dropoff_longitude', 'dropoff_latitude' , 'store_and_fwd_flag' , 'pickup_datetime' , 'dropoff_datetime' ]"
      ]
    },
    {
      "cell_type": "code",
      "execution_count": 36,
      "metadata": {
        "colab": {
          "base_uri": "https://localhost:8080/",
          "height": 364
        },
        "id": "Ok-b5WflFTp1",
        "outputId": "54c8f5df-bbaa-4aba-de27-aece7a94acc8"
      },
      "outputs": [
        {
          "output_type": "execute_result",
          "data": {
            "text/plain": [
              "          vendor_id  passenger_count  pickup_longitude  pickup_latitude  \\\n",
              "count  1.398655e+06     1.398655e+06      1.398655e+06     1.398655e+06   \n",
              "mean   1.533679e+00     1.662811e+00     -7.397690e+01     4.075282e+01   \n",
              "std    4.988646e-01     1.313738e+00      2.857262e-02     2.440131e-02   \n",
              "min    1.000000e+00     0.000000e+00     -7.439355e+01     4.039825e+01   \n",
              "25%    1.000000e+00     1.000000e+00     -7.399207e+01     4.073853e+01   \n",
              "50%    2.000000e+00     1.000000e+00     -7.398203e+01     4.075479e+01   \n",
              "75%    2.000000e+00     2.000000e+00     -7.396841e+01     4.076869e+01   \n",
              "max    2.000000e+00     6.000000e+00     -7.354157e+01     4.115737e+01   \n",
              "\n",
              "       dropoff_longitude  dropoff_latitude  trip_duration         month  \\\n",
              "count       1.398655e+06      1.398655e+06   1.398655e+06  1.398655e+06   \n",
              "mean       -7.397508e+01      4.075289e+01   7.827437e+02  3.514071e+00   \n",
              "std         2.847346e-02      2.935633e-02   5.524500e+02  1.680412e+00   \n",
              "min        -7.439851e+01      4.041617e+01   1.100000e+01  1.000000e+00   \n",
              "25%        -7.399139e+01      4.073706e+01   3.930000e+02  2.000000e+00   \n",
              "50%        -7.397999e+01      4.075494e+01   6.460000e+02  4.000000e+00   \n",
              "75%        -7.396389e+01      4.077004e+01   1.024000e+03  5.000000e+00   \n",
              "max        -7.351768e+01      4.107109e+01   1.590000e+04  6.000000e+00   \n",
              "\n",
              "            weekday       weekend          hour  delta_longitude  \\\n",
              "count  1.398655e+06  1.398655e+06  1.398655e+06     1.398655e+06   \n",
              "mean   3.050005e+00  2.851139e-01  1.361058e+01     1.959587e-02   \n",
              "std    1.951502e+00  4.514688e-01  6.400973e+00     2.409687e-02   \n",
              "min    0.000000e+00  0.000000e+00  0.000000e+00     0.000000e+00   \n",
              "25%    1.000000e+00  0.000000e+00  9.000000e+00     6.195068e-03   \n",
              "50%    3.000000e+00  0.000000e+00  1.400000e+01     1.229095e-02   \n",
              "75%    5.000000e+00  1.000000e+00  1.900000e+01     2.268982e-02   \n",
              "max    6.000000e+00  1.000000e+00  2.300000e+01     1.809769e-01   \n",
              "\n",
              "       delta_latitude     direction   distance_km  \n",
              "count    1.398655e+06  1.398655e+06  1.398655e+06  \n",
              "mean     1.903466e-02  2.213243e+02  2.944020e+00  \n",
              "std      1.823966e-02  1.191064e+02  2.603827e+00  \n",
              "min      0.000000e+00  0.000000e+00  1.100000e-01  \n",
              "25%      6.847382e-03  1.788373e+02  1.230000e+00  \n",
              "50%      1.335907e-02  1.802931e+02  2.050000e+00  \n",
              "75%      2.498627e-02  3.587522e+02  3.640000e+00  \n",
              "max      1.367798e-01  3.599998e+02  1.525000e+01  "
            ],
            "text/html": [
              "\n",
              "  <div id=\"df-06778eb7-e43d-4a02-a51e-e8d7f44b40d6\">\n",
              "    <div class=\"colab-df-container\">\n",
              "      <div>\n",
              "<style scoped>\n",
              "    .dataframe tbody tr th:only-of-type {\n",
              "        vertical-align: middle;\n",
              "    }\n",
              "\n",
              "    .dataframe tbody tr th {\n",
              "        vertical-align: top;\n",
              "    }\n",
              "\n",
              "    .dataframe thead th {\n",
              "        text-align: right;\n",
              "    }\n",
              "</style>\n",
              "<table border=\"1\" class=\"dataframe\">\n",
              "  <thead>\n",
              "    <tr style=\"text-align: right;\">\n",
              "      <th></th>\n",
              "      <th>vendor_id</th>\n",
              "      <th>passenger_count</th>\n",
              "      <th>pickup_longitude</th>\n",
              "      <th>pickup_latitude</th>\n",
              "      <th>dropoff_longitude</th>\n",
              "      <th>dropoff_latitude</th>\n",
              "      <th>trip_duration</th>\n",
              "      <th>month</th>\n",
              "      <th>weekday</th>\n",
              "      <th>weekend</th>\n",
              "      <th>hour</th>\n",
              "      <th>delta_longitude</th>\n",
              "      <th>delta_latitude</th>\n",
              "      <th>direction</th>\n",
              "      <th>distance_km</th>\n",
              "    </tr>\n",
              "  </thead>\n",
              "  <tbody>\n",
              "    <tr>\n",
              "      <th>count</th>\n",
              "      <td>1.398655e+06</td>\n",
              "      <td>1.398655e+06</td>\n",
              "      <td>1.398655e+06</td>\n",
              "      <td>1.398655e+06</td>\n",
              "      <td>1.398655e+06</td>\n",
              "      <td>1.398655e+06</td>\n",
              "      <td>1.398655e+06</td>\n",
              "      <td>1.398655e+06</td>\n",
              "      <td>1.398655e+06</td>\n",
              "      <td>1.398655e+06</td>\n",
              "      <td>1.398655e+06</td>\n",
              "      <td>1.398655e+06</td>\n",
              "      <td>1.398655e+06</td>\n",
              "      <td>1.398655e+06</td>\n",
              "      <td>1.398655e+06</td>\n",
              "    </tr>\n",
              "    <tr>\n",
              "      <th>mean</th>\n",
              "      <td>1.533679e+00</td>\n",
              "      <td>1.662811e+00</td>\n",
              "      <td>-7.397690e+01</td>\n",
              "      <td>4.075282e+01</td>\n",
              "      <td>-7.397508e+01</td>\n",
              "      <td>4.075289e+01</td>\n",
              "      <td>7.827437e+02</td>\n",
              "      <td>3.514071e+00</td>\n",
              "      <td>3.050005e+00</td>\n",
              "      <td>2.851139e-01</td>\n",
              "      <td>1.361058e+01</td>\n",
              "      <td>1.959587e-02</td>\n",
              "      <td>1.903466e-02</td>\n",
              "      <td>2.213243e+02</td>\n",
              "      <td>2.944020e+00</td>\n",
              "    </tr>\n",
              "    <tr>\n",
              "      <th>std</th>\n",
              "      <td>4.988646e-01</td>\n",
              "      <td>1.313738e+00</td>\n",
              "      <td>2.857262e-02</td>\n",
              "      <td>2.440131e-02</td>\n",
              "      <td>2.847346e-02</td>\n",
              "      <td>2.935633e-02</td>\n",
              "      <td>5.524500e+02</td>\n",
              "      <td>1.680412e+00</td>\n",
              "      <td>1.951502e+00</td>\n",
              "      <td>4.514688e-01</td>\n",
              "      <td>6.400973e+00</td>\n",
              "      <td>2.409687e-02</td>\n",
              "      <td>1.823966e-02</td>\n",
              "      <td>1.191064e+02</td>\n",
              "      <td>2.603827e+00</td>\n",
              "    </tr>\n",
              "    <tr>\n",
              "      <th>min</th>\n",
              "      <td>1.000000e+00</td>\n",
              "      <td>0.000000e+00</td>\n",
              "      <td>-7.439355e+01</td>\n",
              "      <td>4.039825e+01</td>\n",
              "      <td>-7.439851e+01</td>\n",
              "      <td>4.041617e+01</td>\n",
              "      <td>1.100000e+01</td>\n",
              "      <td>1.000000e+00</td>\n",
              "      <td>0.000000e+00</td>\n",
              "      <td>0.000000e+00</td>\n",
              "      <td>0.000000e+00</td>\n",
              "      <td>0.000000e+00</td>\n",
              "      <td>0.000000e+00</td>\n",
              "      <td>0.000000e+00</td>\n",
              "      <td>1.100000e-01</td>\n",
              "    </tr>\n",
              "    <tr>\n",
              "      <th>25%</th>\n",
              "      <td>1.000000e+00</td>\n",
              "      <td>1.000000e+00</td>\n",
              "      <td>-7.399207e+01</td>\n",
              "      <td>4.073853e+01</td>\n",
              "      <td>-7.399139e+01</td>\n",
              "      <td>4.073706e+01</td>\n",
              "      <td>3.930000e+02</td>\n",
              "      <td>2.000000e+00</td>\n",
              "      <td>1.000000e+00</td>\n",
              "      <td>0.000000e+00</td>\n",
              "      <td>9.000000e+00</td>\n",
              "      <td>6.195068e-03</td>\n",
              "      <td>6.847382e-03</td>\n",
              "      <td>1.788373e+02</td>\n",
              "      <td>1.230000e+00</td>\n",
              "    </tr>\n",
              "    <tr>\n",
              "      <th>50%</th>\n",
              "      <td>2.000000e+00</td>\n",
              "      <td>1.000000e+00</td>\n",
              "      <td>-7.398203e+01</td>\n",
              "      <td>4.075479e+01</td>\n",
              "      <td>-7.397999e+01</td>\n",
              "      <td>4.075494e+01</td>\n",
              "      <td>6.460000e+02</td>\n",
              "      <td>4.000000e+00</td>\n",
              "      <td>3.000000e+00</td>\n",
              "      <td>0.000000e+00</td>\n",
              "      <td>1.400000e+01</td>\n",
              "      <td>1.229095e-02</td>\n",
              "      <td>1.335907e-02</td>\n",
              "      <td>1.802931e+02</td>\n",
              "      <td>2.050000e+00</td>\n",
              "    </tr>\n",
              "    <tr>\n",
              "      <th>75%</th>\n",
              "      <td>2.000000e+00</td>\n",
              "      <td>2.000000e+00</td>\n",
              "      <td>-7.396841e+01</td>\n",
              "      <td>4.076869e+01</td>\n",
              "      <td>-7.396389e+01</td>\n",
              "      <td>4.077004e+01</td>\n",
              "      <td>1.024000e+03</td>\n",
              "      <td>5.000000e+00</td>\n",
              "      <td>5.000000e+00</td>\n",
              "      <td>1.000000e+00</td>\n",
              "      <td>1.900000e+01</td>\n",
              "      <td>2.268982e-02</td>\n",
              "      <td>2.498627e-02</td>\n",
              "      <td>3.587522e+02</td>\n",
              "      <td>3.640000e+00</td>\n",
              "    </tr>\n",
              "    <tr>\n",
              "      <th>max</th>\n",
              "      <td>2.000000e+00</td>\n",
              "      <td>6.000000e+00</td>\n",
              "      <td>-7.354157e+01</td>\n",
              "      <td>4.115737e+01</td>\n",
              "      <td>-7.351768e+01</td>\n",
              "      <td>4.107109e+01</td>\n",
              "      <td>1.590000e+04</td>\n",
              "      <td>6.000000e+00</td>\n",
              "      <td>6.000000e+00</td>\n",
              "      <td>1.000000e+00</td>\n",
              "      <td>2.300000e+01</td>\n",
              "      <td>1.809769e-01</td>\n",
              "      <td>1.367798e-01</td>\n",
              "      <td>3.599998e+02</td>\n",
              "      <td>1.525000e+01</td>\n",
              "    </tr>\n",
              "  </tbody>\n",
              "</table>\n",
              "</div>\n",
              "      <button class=\"colab-df-convert\" onclick=\"convertToInteractive('df-06778eb7-e43d-4a02-a51e-e8d7f44b40d6')\"\n",
              "              title=\"Convert this dataframe to an interactive table.\"\n",
              "              style=\"display:none;\">\n",
              "        \n",
              "  <svg xmlns=\"http://www.w3.org/2000/svg\" height=\"24px\"viewBox=\"0 0 24 24\"\n",
              "       width=\"24px\">\n",
              "    <path d=\"M0 0h24v24H0V0z\" fill=\"none\"/>\n",
              "    <path d=\"M18.56 5.44l.94 2.06.94-2.06 2.06-.94-2.06-.94-.94-2.06-.94 2.06-2.06.94zm-11 1L8.5 8.5l.94-2.06 2.06-.94-2.06-.94L8.5 2.5l-.94 2.06-2.06.94zm10 10l.94 2.06.94-2.06 2.06-.94-2.06-.94-.94-2.06-.94 2.06-2.06.94z\"/><path d=\"M17.41 7.96l-1.37-1.37c-.4-.4-.92-.59-1.43-.59-.52 0-1.04.2-1.43.59L10.3 9.45l-7.72 7.72c-.78.78-.78 2.05 0 2.83L4 21.41c.39.39.9.59 1.41.59.51 0 1.02-.2 1.41-.59l7.78-7.78 2.81-2.81c.8-.78.8-2.07 0-2.86zM5.41 20L4 18.59l7.72-7.72 1.47 1.35L5.41 20z\"/>\n",
              "  </svg>\n",
              "      </button>\n",
              "      \n",
              "  <style>\n",
              "    .colab-df-container {\n",
              "      display:flex;\n",
              "      flex-wrap:wrap;\n",
              "      gap: 12px;\n",
              "    }\n",
              "\n",
              "    .colab-df-convert {\n",
              "      background-color: #E8F0FE;\n",
              "      border: none;\n",
              "      border-radius: 50%;\n",
              "      cursor: pointer;\n",
              "      display: none;\n",
              "      fill: #1967D2;\n",
              "      height: 32px;\n",
              "      padding: 0 0 0 0;\n",
              "      width: 32px;\n",
              "    }\n",
              "\n",
              "    .colab-df-convert:hover {\n",
              "      background-color: #E2EBFA;\n",
              "      box-shadow: 0px 1px 2px rgba(60, 64, 67, 0.3), 0px 1px 3px 1px rgba(60, 64, 67, 0.15);\n",
              "      fill: #174EA6;\n",
              "    }\n",
              "\n",
              "    [theme=dark] .colab-df-convert {\n",
              "      background-color: #3B4455;\n",
              "      fill: #D2E3FC;\n",
              "    }\n",
              "\n",
              "    [theme=dark] .colab-df-convert:hover {\n",
              "      background-color: #434B5C;\n",
              "      box-shadow: 0px 1px 3px 1px rgba(0, 0, 0, 0.15);\n",
              "      filter: drop-shadow(0px 1px 2px rgba(0, 0, 0, 0.3));\n",
              "      fill: #FFFFFF;\n",
              "    }\n",
              "  </style>\n",
              "\n",
              "      <script>\n",
              "        const buttonEl =\n",
              "          document.querySelector('#df-06778eb7-e43d-4a02-a51e-e8d7f44b40d6 button.colab-df-convert');\n",
              "        buttonEl.style.display =\n",
              "          google.colab.kernel.accessAllowed ? 'block' : 'none';\n",
              "\n",
              "        async function convertToInteractive(key) {\n",
              "          const element = document.querySelector('#df-06778eb7-e43d-4a02-a51e-e8d7f44b40d6');\n",
              "          const dataTable =\n",
              "            await google.colab.kernel.invokeFunction('convertToInteractive',\n",
              "                                                     [key], {});\n",
              "          if (!dataTable) return;\n",
              "\n",
              "          const docLinkHtml = 'Like what you see? Visit the ' +\n",
              "            '<a target=\"_blank\" href=https://colab.research.google.com/notebooks/data_table.ipynb>data table notebook</a>'\n",
              "            + ' to learn more about interactive tables.';\n",
              "          element.innerHTML = '';\n",
              "          dataTable['output_type'] = 'display_data';\n",
              "          await google.colab.output.renderOutput(dataTable, element);\n",
              "          const docLink = document.createElement('div');\n",
              "          docLink.innerHTML = docLinkHtml;\n",
              "          element.appendChild(docLink);\n",
              "        }\n",
              "      </script>\n",
              "    </div>\n",
              "  </div>\n",
              "  "
            ]
          },
          "metadata": {},
          "execution_count": 36
        }
      ],
      "source": [
        "df.describe()"
      ]
    },
    {
      "cell_type": "code",
      "execution_count": 37,
      "metadata": {
        "id": "vu2zcdJmAsaX"
      },
      "outputs": [],
      "source": [
        "df.drop(columns = drop_columns , inplace =True)"
      ]
    },
    {
      "cell_type": "code",
      "execution_count": 38,
      "metadata": {
        "id": "LRg--6jjBslY",
        "colab": {
          "base_uri": "https://localhost:8080/",
          "height": 206
        },
        "outputId": "fb8ae17f-bbb2-49b8-a232-fc9aaf81c92f"
      },
      "outputs": [
        {
          "output_type": "execute_result",
          "data": {
            "text/plain": [
              "   passenger_count  trip_duration  month  weekday  weekend  hour  \\\n",
              "0                1            455      3        0        0    17   \n",
              "1                1            663      6        6        1     0   \n",
              "2                1           2124      1        1        0    11   \n",
              "3                1            429      4        2        0    19   \n",
              "4                1            435      3        5        1    13   \n",
              "\n",
              "   delta_longitude  delta_latitude   direction  distance_km  \n",
              "0         0.017525        0.002335  187.443216         1.50  \n",
              "1         0.019066        0.007412  177.444784         1.81  \n",
              "2         0.026306        0.053852  179.515450         6.39  \n",
              "3         0.002228        0.013252  179.833396         1.49  \n",
              "4         0.000130        0.010689  180.012114         1.19  "
            ],
            "text/html": [
              "\n",
              "  <div id=\"df-4a4d4558-1966-43b4-b3b1-8bbae340641a\">\n",
              "    <div class=\"colab-df-container\">\n",
              "      <div>\n",
              "<style scoped>\n",
              "    .dataframe tbody tr th:only-of-type {\n",
              "        vertical-align: middle;\n",
              "    }\n",
              "\n",
              "    .dataframe tbody tr th {\n",
              "        vertical-align: top;\n",
              "    }\n",
              "\n",
              "    .dataframe thead th {\n",
              "        text-align: right;\n",
              "    }\n",
              "</style>\n",
              "<table border=\"1\" class=\"dataframe\">\n",
              "  <thead>\n",
              "    <tr style=\"text-align: right;\">\n",
              "      <th></th>\n",
              "      <th>passenger_count</th>\n",
              "      <th>trip_duration</th>\n",
              "      <th>month</th>\n",
              "      <th>weekday</th>\n",
              "      <th>weekend</th>\n",
              "      <th>hour</th>\n",
              "      <th>delta_longitude</th>\n",
              "      <th>delta_latitude</th>\n",
              "      <th>direction</th>\n",
              "      <th>distance_km</th>\n",
              "    </tr>\n",
              "  </thead>\n",
              "  <tbody>\n",
              "    <tr>\n",
              "      <th>0</th>\n",
              "      <td>1</td>\n",
              "      <td>455</td>\n",
              "      <td>3</td>\n",
              "      <td>0</td>\n",
              "      <td>0</td>\n",
              "      <td>17</td>\n",
              "      <td>0.017525</td>\n",
              "      <td>0.002335</td>\n",
              "      <td>187.443216</td>\n",
              "      <td>1.50</td>\n",
              "    </tr>\n",
              "    <tr>\n",
              "      <th>1</th>\n",
              "      <td>1</td>\n",
              "      <td>663</td>\n",
              "      <td>6</td>\n",
              "      <td>6</td>\n",
              "      <td>1</td>\n",
              "      <td>0</td>\n",
              "      <td>0.019066</td>\n",
              "      <td>0.007412</td>\n",
              "      <td>177.444784</td>\n",
              "      <td>1.81</td>\n",
              "    </tr>\n",
              "    <tr>\n",
              "      <th>2</th>\n",
              "      <td>1</td>\n",
              "      <td>2124</td>\n",
              "      <td>1</td>\n",
              "      <td>1</td>\n",
              "      <td>0</td>\n",
              "      <td>11</td>\n",
              "      <td>0.026306</td>\n",
              "      <td>0.053852</td>\n",
              "      <td>179.515450</td>\n",
              "      <td>6.39</td>\n",
              "    </tr>\n",
              "    <tr>\n",
              "      <th>3</th>\n",
              "      <td>1</td>\n",
              "      <td>429</td>\n",
              "      <td>4</td>\n",
              "      <td>2</td>\n",
              "      <td>0</td>\n",
              "      <td>19</td>\n",
              "      <td>0.002228</td>\n",
              "      <td>0.013252</td>\n",
              "      <td>179.833396</td>\n",
              "      <td>1.49</td>\n",
              "    </tr>\n",
              "    <tr>\n",
              "      <th>4</th>\n",
              "      <td>1</td>\n",
              "      <td>435</td>\n",
              "      <td>3</td>\n",
              "      <td>5</td>\n",
              "      <td>1</td>\n",
              "      <td>13</td>\n",
              "      <td>0.000130</td>\n",
              "      <td>0.010689</td>\n",
              "      <td>180.012114</td>\n",
              "      <td>1.19</td>\n",
              "    </tr>\n",
              "  </tbody>\n",
              "</table>\n",
              "</div>\n",
              "      <button class=\"colab-df-convert\" onclick=\"convertToInteractive('df-4a4d4558-1966-43b4-b3b1-8bbae340641a')\"\n",
              "              title=\"Convert this dataframe to an interactive table.\"\n",
              "              style=\"display:none;\">\n",
              "        \n",
              "  <svg xmlns=\"http://www.w3.org/2000/svg\" height=\"24px\"viewBox=\"0 0 24 24\"\n",
              "       width=\"24px\">\n",
              "    <path d=\"M0 0h24v24H0V0z\" fill=\"none\"/>\n",
              "    <path d=\"M18.56 5.44l.94 2.06.94-2.06 2.06-.94-2.06-.94-.94-2.06-.94 2.06-2.06.94zm-11 1L8.5 8.5l.94-2.06 2.06-.94-2.06-.94L8.5 2.5l-.94 2.06-2.06.94zm10 10l.94 2.06.94-2.06 2.06-.94-2.06-.94-.94-2.06-.94 2.06-2.06.94z\"/><path d=\"M17.41 7.96l-1.37-1.37c-.4-.4-.92-.59-1.43-.59-.52 0-1.04.2-1.43.59L10.3 9.45l-7.72 7.72c-.78.78-.78 2.05 0 2.83L4 21.41c.39.39.9.59 1.41.59.51 0 1.02-.2 1.41-.59l7.78-7.78 2.81-2.81c.8-.78.8-2.07 0-2.86zM5.41 20L4 18.59l7.72-7.72 1.47 1.35L5.41 20z\"/>\n",
              "  </svg>\n",
              "      </button>\n",
              "      \n",
              "  <style>\n",
              "    .colab-df-container {\n",
              "      display:flex;\n",
              "      flex-wrap:wrap;\n",
              "      gap: 12px;\n",
              "    }\n",
              "\n",
              "    .colab-df-convert {\n",
              "      background-color: #E8F0FE;\n",
              "      border: none;\n",
              "      border-radius: 50%;\n",
              "      cursor: pointer;\n",
              "      display: none;\n",
              "      fill: #1967D2;\n",
              "      height: 32px;\n",
              "      padding: 0 0 0 0;\n",
              "      width: 32px;\n",
              "    }\n",
              "\n",
              "    .colab-df-convert:hover {\n",
              "      background-color: #E2EBFA;\n",
              "      box-shadow: 0px 1px 2px rgba(60, 64, 67, 0.3), 0px 1px 3px 1px rgba(60, 64, 67, 0.15);\n",
              "      fill: #174EA6;\n",
              "    }\n",
              "\n",
              "    [theme=dark] .colab-df-convert {\n",
              "      background-color: #3B4455;\n",
              "      fill: #D2E3FC;\n",
              "    }\n",
              "\n",
              "    [theme=dark] .colab-df-convert:hover {\n",
              "      background-color: #434B5C;\n",
              "      box-shadow: 0px 1px 3px 1px rgba(0, 0, 0, 0.15);\n",
              "      filter: drop-shadow(0px 1px 2px rgba(0, 0, 0, 0.3));\n",
              "      fill: #FFFFFF;\n",
              "    }\n",
              "  </style>\n",
              "\n",
              "      <script>\n",
              "        const buttonEl =\n",
              "          document.querySelector('#df-4a4d4558-1966-43b4-b3b1-8bbae340641a button.colab-df-convert');\n",
              "        buttonEl.style.display =\n",
              "          google.colab.kernel.accessAllowed ? 'block' : 'none';\n",
              "\n",
              "        async function convertToInteractive(key) {\n",
              "          const element = document.querySelector('#df-4a4d4558-1966-43b4-b3b1-8bbae340641a');\n",
              "          const dataTable =\n",
              "            await google.colab.kernel.invokeFunction('convertToInteractive',\n",
              "                                                     [key], {});\n",
              "          if (!dataTable) return;\n",
              "\n",
              "          const docLinkHtml = 'Like what you see? Visit the ' +\n",
              "            '<a target=\"_blank\" href=https://colab.research.google.com/notebooks/data_table.ipynb>data table notebook</a>'\n",
              "            + ' to learn more about interactive tables.';\n",
              "          element.innerHTML = '';\n",
              "          dataTable['output_type'] = 'display_data';\n",
              "          await google.colab.output.renderOutput(dataTable, element);\n",
              "          const docLink = document.createElement('div');\n",
              "          docLink.innerHTML = docLinkHtml;\n",
              "          element.appendChild(docLink);\n",
              "        }\n",
              "      </script>\n",
              "    </div>\n",
              "  </div>\n",
              "  "
            ]
          },
          "metadata": {},
          "execution_count": 38
        }
      ],
      "source": [
        "df.head(5)"
      ]
    },
    {
      "cell_type": "code",
      "execution_count": 39,
      "metadata": {
        "id": "0FoqN0cjAxRu",
        "colab": {
          "base_uri": "https://localhost:8080/",
          "height": 506
        },
        "outputId": "b8173a99-b2c1-4261-d4d7-165d94dfa62e"
      },
      "outputs": [
        {
          "output_type": "execute_result",
          "data": {
            "text/plain": [
              "<matplotlib.axes._subplots.AxesSubplot at 0x7f086d716790>"
            ]
          },
          "metadata": {},
          "execution_count": 39
        },
        {
          "output_type": "display_data",
          "data": {
            "text/plain": [
              "<Figure size 1296x576 with 2 Axes>"
            ],
            "image/png": "[encoded data removed]"
          },
          "metadata": {
            "needs_background": "light"
          }
        }
      ],
      "source": [
        "# correlation\n",
        "plt.figure(figsize = (18,8))\n",
        "corr = df.corr()\n",
        "corr\n",
        "sns.heatmap(corr, annot = True)"
      ]
    },
    {
      "cell_type": "markdown",
      "metadata": {
        "id": "MxCPbAgKBlxP"
      },
      "source": [
        "* Drop passenger_count , month , drop weekday number \n",
        "* hour as categoriacal variable  "
      ]
    },
    {
      "cell_type": "code",
      "execution_count": 40,
      "metadata": {
        "id": "cqO2bBlhJ9xv"
      },
      "outputs": [],
      "source": [
        "drop_columns = ['passenger_count']"
      ]
    },
    {
      "cell_type": "code",
      "execution_count": 41,
      "metadata": {
        "id": "GbpyaRJAKS8O"
      },
      "outputs": [],
      "source": [
        "df.drop(columns = drop_columns , inplace =True)"
      ]
    },
    {
      "cell_type": "code",
      "execution_count": 42,
      "metadata": {
        "id": "c02EiGCnIPh4",
        "colab": {
          "base_uri": "https://localhost:8080/",
          "height": 369
        },
        "outputId": "00b9dc71-7b09-41af-bdb4-987029362c4d"
      },
      "outputs": [
        {
          "output_type": "display_data",
          "data": {
            "text/plain": [
              "<Figure size 720x360 with 1 Axes>"
            ],
            "image/png": "[encoded data removed]"
          },
          "metadata": {
            "needs_background": "light"
          }
        }
      ],
      "source": [
        "# Plot histogram of trip duration per hour\n",
        "plt.figure(figsize = (10,5))\n",
        "new_df = df.groupby('hour', as_index = False)['trip_duration'].agg(['count']).sort_values(by = 'hour', ascending = True)\n",
        "ax = sns.barplot(x=new_df.index, y=new_df['count'])\n",
        "ax.set(xlabel='Hour', ylabel='No. of trips')  \n",
        "plt.title('Number of trips per hour')\n",
        "plt.tight_layout()\n",
        "plt.show()\n",
        "del new_df"
      ]
    },
    {
      "cell_type": "code",
      "execution_count": 43,
      "metadata": {
        "id": "denUMkoYIusM"
      },
      "outputs": [],
      "source": [
        "def rush_hours(hour):\n",
        "  value = 2\n",
        "  if hour in [8,9,10,11,12,13,14,15,16,17,23]:\n",
        "    value =1\n",
        "  elif hour in [0,1,2,3,4,5,6,7]:\n",
        "    value = 0\n",
        "\n",
        "  return value"
      ]
    },
    {
      "cell_type": "code",
      "execution_count": 44,
      "metadata": {
        "id": "Vr3N_tEVxcUz"
      },
      "outputs": [],
      "source": [
        "df['rush_hours'] = df.hour.apply(rush_hours)"
      ]
    },
    {
      "cell_type": "code",
      "execution_count": 45,
      "metadata": {
        "id": "AGc5KZ4uzx7T",
        "colab": {
          "base_uri": "https://localhost:8080/",
          "height": 369
        },
        "outputId": "724671f5-bc2e-4fa0-ee0b-b055d503b135"
      },
      "outputs": [
        {
          "output_type": "display_data",
          "data": {
            "text/plain": [
              "<Figure size 720x360 with 1 Axes>"
            ],
            "image/png": "[encoded data removed]"
          },
          "metadata": {
            "needs_background": "light"
          }
        }
      ],
      "source": [
        "# Plot histogram of trips per weekday\n",
        "plt.figure(figsize = (10,5))\n",
        "new_df = df.groupby('weekday', as_index = False)['trip_duration'].agg(['count']).sort_values(by = 'weekday', ascending = True)\n",
        "ax = sns.barplot(x=new_df.index, y=new_df['count'])\n",
        "ax.set(xlabel='weekday', ylabel='No of trips')  \n",
        "plt.title('Number of trips per weekday')\n",
        "plt.tight_layout()\n",
        "plt.show()\n",
        "del new_df"
      ]
    },
    {
      "cell_type": "code",
      "execution_count": 46,
      "metadata": {
        "colab": {
          "base_uri": "https://localhost:8080/",
          "height": 206
        },
        "id": "uhaWsYP5J4lY",
        "outputId": "9d2efee6-0276-4285-95df-c252b2193743"
      },
      "outputs": [
        {
          "output_type": "execute_result",
          "data": {
            "text/plain": [
              "   trip_duration  month  weekday  weekend  hour  delta_longitude  \\\n",
              "0            455      3        0        0    17         0.017525   \n",
              "1            663      6        6        1     0         0.019066   \n",
              "2           2124      1        1        0    11         0.026306   \n",
              "3            429      4        2        0    19         0.002228   \n",
              "4            435      3        5        1    13         0.000130   \n",
              "\n",
              "   delta_latitude   direction  distance_km  rush_hours  \n",
              "0        0.002335  187.443216         1.50           1  \n",
              "1        0.007412  177.444784         1.81           0  \n",
              "2        0.053852  179.515450         6.39           1  \n",
              "3        0.013252  179.833396         1.49           2  \n",
              "4        0.010689  180.012114         1.19           1  "
            ],
            "text/html": [
              "\n",
              "  <div id=\"df-260dc9f0-8adf-4e2d-8d04-d922ff3943b5\">\n",
              "    <div class=\"colab-df-container\">\n",
              "      <div>\n",
              "<style scoped>\n",
              "    .dataframe tbody tr th:only-of-type {\n",
              "        vertical-align: middle;\n",
              "    }\n",
              "\n",
              "    .dataframe tbody tr th {\n",
              "        vertical-align: top;\n",
              "    }\n",
              "\n",
              "    .dataframe thead th {\n",
              "        text-align: right;\n",
              "    }\n",
              "</style>\n",
              "<table border=\"1\" class=\"dataframe\">\n",
              "  <thead>\n",
              "    <tr style=\"text-align: right;\">\n",
              "      <th></th>\n",
              "      <th>trip_duration</th>\n",
              "      <th>month</th>\n",
              "      <th>weekday</th>\n",
              "      <th>weekend</th>\n",
              "      <th>hour</th>\n",
              "      <th>delta_longitude</th>\n",
              "      <th>delta_latitude</th>\n",
              "      <th>direction</th>\n",
              "      <th>distance_km</th>\n",
              "      <th>rush_hours</th>\n",
              "    </tr>\n",
              "  </thead>\n",
              "  <tbody>\n",
              "    <tr>\n",
              "      <th>0</th>\n",
              "      <td>455</td>\n",
              "      <td>3</td>\n",
              "      <td>0</td>\n",
              "      <td>0</td>\n",
              "      <td>17</td>\n",
              "      <td>0.017525</td>\n",
              "      <td>0.002335</td>\n",
              "      <td>187.443216</td>\n",
              "      <td>1.50</td>\n",
              "      <td>1</td>\n",
              "    </tr>\n",
              "    <tr>\n",
              "      <th>1</th>\n",
              "      <td>663</td>\n",
              "      <td>6</td>\n",
              "      <td>6</td>\n",
              "      <td>1</td>\n",
              "      <td>0</td>\n",
              "      <td>0.019066</td>\n",
              "      <td>0.007412</td>\n",
              "      <td>177.444784</td>\n",
              "      <td>1.81</td>\n",
              "      <td>0</td>\n",
              "    </tr>\n",
              "    <tr>\n",
              "      <th>2</th>\n",
              "      <td>2124</td>\n",
              "      <td>1</td>\n",
              "      <td>1</td>\n",
              "      <td>0</td>\n",
              "      <td>11</td>\n",
              "      <td>0.026306</td>\n",
              "      <td>0.053852</td>\n",
              "      <td>179.515450</td>\n",
              "      <td>6.39</td>\n",
              "      <td>1</td>\n",
              "    </tr>\n",
              "    <tr>\n",
              "      <th>3</th>\n",
              "      <td>429</td>\n",
              "      <td>4</td>\n",
              "      <td>2</td>\n",
              "      <td>0</td>\n",
              "      <td>19</td>\n",
              "      <td>0.002228</td>\n",
              "      <td>0.013252</td>\n",
              "      <td>179.833396</td>\n",
              "      <td>1.49</td>\n",
              "      <td>2</td>\n",
              "    </tr>\n",
              "    <tr>\n",
              "      <th>4</th>\n",
              "      <td>435</td>\n",
              "      <td>3</td>\n",
              "      <td>5</td>\n",
              "      <td>1</td>\n",
              "      <td>13</td>\n",
              "      <td>0.000130</td>\n",
              "      <td>0.010689</td>\n",
              "      <td>180.012114</td>\n",
              "      <td>1.19</td>\n",
              "      <td>1</td>\n",
              "    </tr>\n",
              "  </tbody>\n",
              "</table>\n",
              "</div>\n",
              "      <button class=\"colab-df-convert\" onclick=\"convertToInteractive('df-260dc9f0-8adf-4e2d-8d04-d922ff3943b5')\"\n",
              "              title=\"Convert this dataframe to an interactive table.\"\n",
              "              style=\"display:none;\">\n",
              "        \n",
              "  <svg xmlns=\"http://www.w3.org/2000/svg\" height=\"24px\"viewBox=\"0 0 24 24\"\n",
              "       width=\"24px\">\n",
              "    <path d=\"M0 0h24v24H0V0z\" fill=\"none\"/>\n",
              "    <path d=\"M18.56 5.44l.94 2.06.94-2.06 2.06-.94-2.06-.94-.94-2.06-.94 2.06-2.06.94zm-11 1L8.5 8.5l.94-2.06 2.06-.94-2.06-.94L8.5 2.5l-.94 2.06-2.06.94zm10 10l.94 2.06.94-2.06 2.06-.94-2.06-.94-.94-2.06-.94 2.06-2.06.94z\"/><path d=\"M17.41 7.96l-1.37-1.37c-.4-.4-.92-.59-1.43-.59-.52 0-1.04.2-1.43.59L10.3 9.45l-7.72 7.72c-.78.78-.78 2.05 0 2.83L4 21.41c.39.39.9.59 1.41.59.51 0 1.02-.2 1.41-.59l7.78-7.78 2.81-2.81c.8-.78.8-2.07 0-2.86zM5.41 20L4 18.59l7.72-7.72 1.47 1.35L5.41 20z\"/>\n",
              "  </svg>\n",
              "      </button>\n",
              "      \n",
              "  <style>\n",
              "    .colab-df-container {\n",
              "      display:flex;\n",
              "      flex-wrap:wrap;\n",
              "      gap: 12px;\n",
              "    }\n",
              "\n",
              "    .colab-df-convert {\n",
              "      background-color: #E8F0FE;\n",
              "      border: none;\n",
              "      border-radius: 50%;\n",
              "      cursor: pointer;\n",
              "      display: none;\n",
              "      fill: #1967D2;\n",
              "      height: 32px;\n",
              "      padding: 0 0 0 0;\n",
              "      width: 32px;\n",
              "    }\n",
              "\n",
              "    .colab-df-convert:hover {\n",
              "      background-color: #E2EBFA;\n",
              "      box-shadow: 0px 1px 2px rgba(60, 64, 67, 0.3), 0px 1px 3px 1px rgba(60, 64, 67, 0.15);\n",
              "      fill: #174EA6;\n",
              "    }\n",
              "\n",
              "    [theme=dark] .colab-df-convert {\n",
              "      background-color: #3B4455;\n",
              "      fill: #D2E3FC;\n",
              "    }\n",
              "\n",
              "    [theme=dark] .colab-df-convert:hover {\n",
              "      background-color: #434B5C;\n",
              "      box-shadow: 0px 1px 3px 1px rgba(0, 0, 0, 0.15);\n",
              "      filter: drop-shadow(0px 1px 2px rgba(0, 0, 0, 0.3));\n",
              "      fill: #FFFFFF;\n",
              "    }\n",
              "  </style>\n",
              "\n",
              "      <script>\n",
              "        const buttonEl =\n",
              "          document.querySelector('#df-260dc9f0-8adf-4e2d-8d04-d922ff3943b5 button.colab-df-convert');\n",
              "        buttonEl.style.display =\n",
              "          google.colab.kernel.accessAllowed ? 'block' : 'none';\n",
              "\n",
              "        async function convertToInteractive(key) {\n",
              "          const element = document.querySelector('#df-260dc9f0-8adf-4e2d-8d04-d922ff3943b5');\n",
              "          const dataTable =\n",
              "            await google.colab.kernel.invokeFunction('convertToInteractive',\n",
              "                                                     [key], {});\n",
              "          if (!dataTable) return;\n",
              "\n",
              "          const docLinkHtml = 'Like what you see? Visit the ' +\n",
              "            '<a target=\"_blank\" href=https://colab.research.google.com/notebooks/data_table.ipynb>data table notebook</a>'\n",
              "            + ' to learn more about interactive tables.';\n",
              "          element.innerHTML = '';\n",
              "          dataTable['output_type'] = 'display_data';\n",
              "          await google.colab.output.renderOutput(dataTable, element);\n",
              "          const docLink = document.createElement('div');\n",
              "          docLink.innerHTML = docLinkHtml;\n",
              "          element.appendChild(docLink);\n",
              "        }\n",
              "      </script>\n",
              "    </div>\n",
              "  </div>\n",
              "  "
            ]
          },
          "metadata": {},
          "execution_count": 46
        }
      ],
      "source": [
        "df.head()"
      ]
    },
    {
      "cell_type": "code",
      "execution_count": 47,
      "metadata": {
        "id": "bzpMK-_6KPN8"
      },
      "outputs": [],
      "source": [
        "# # correlation\n",
        "# plt.figure(figsize = (18,8))\n",
        "# corr = df.corr()\n",
        "# corr\n",
        "# sns.heatmap(corr, annot = True)"
      ]
    },
    {
      "cell_type": "code",
      "execution_count": 48,
      "metadata": {
        "id": "weXVTjHpvlSa",
        "colab": {
          "base_uri": "https://localhost:8080/",
          "height": 506
        },
        "outputId": "bd1795ae-a24f-4473-ac67-c84586a9ffa2"
      },
      "outputs": [
        {
          "output_type": "execute_result",
          "data": {
            "text/plain": [
              "<matplotlib.axes._subplots.AxesSubplot at 0x7f086399ad50>"
            ]
          },
          "metadata": {},
          "execution_count": 48
        },
        {
          "output_type": "display_data",
          "data": {
            "text/plain": [
              "<Figure size 1296x576 with 2 Axes>"
            ],
            "image/png": "[encoded data removed]"
          },
          "metadata": {
            "needs_background": "light"
          }
        }
      ],
      "source": [
        "# correlation\n",
        "plt.figure(figsize = (18,8))\n",
        "corr = df.corr()\n",
        "corr\n",
        "sns.heatmap(corr, annot = True)"
      ]
    },
    {
      "cell_type": "markdown",
      "metadata": {
        "id": "xBzvM8Qhg4cU"
      },
      "source": [
        "#### Distance"
      ]
    },
    {
      "cell_type": "code",
      "execution_count": 49,
      "metadata": {
        "id": "s-HuX7XRkusu"
      },
      "outputs": [],
      "source": [
        "#function to return plots for the feature\n",
        "def normality(data,feature):\n",
        "  plt.figure(figsize=(10,5))\n",
        "  plt.subplot(1,2,1)\n",
        "  sns.distplot(data[feature],color = \"b\")\n",
        "  plt.axvline(data[feature].mean(),color = \"k\",\n",
        "            linestyle = \"dashed\",label = 'mean')\n",
        "  plt.subplot(1,2,2)\n",
        "  stats.probplot(data[feature],plot=pylab)\n",
        "  plt.show()\n",
        "  print('skewness  : ' , data[feature].skew() )"
      ]
    },
    {
      "cell_type": "code",
      "execution_count": 50,
      "metadata": {
        "id": "Pq_bCbQUk4VI"
      },
      "outputs": [],
      "source": [
        "# normality(df , 'distance_km')"
      ]
    },
    {
      "cell_type": "code",
      "execution_count": 51,
      "metadata": {
        "id": "SAmq_7FOkURG"
      },
      "outputs": [],
      "source": [
        "df['distance_Boxcox'],parameters=stats.boxcox(df['distance_km'])"
      ]
    },
    {
      "cell_type": "code",
      "execution_count": 52,
      "metadata": {
        "id": "ROF8ffNJp-EU"
      },
      "outputs": [],
      "source": [
        "# normality(df , 'distance_Boxcox')"
      ]
    },
    {
      "cell_type": "markdown",
      "metadata": {
        "id": "ktGpg0Yes7P4"
      },
      "source": [
        "### Trip duration"
      ]
    },
    {
      "cell_type": "code",
      "execution_count": 53,
      "metadata": {
        "id": "8MhQaCChqAEM"
      },
      "outputs": [],
      "source": [
        "# normality(df , 'trip_duration')"
      ]
    },
    {
      "cell_type": "code",
      "execution_count": 54,
      "metadata": {
        "id": "Cm2LiXvBqAVV"
      },
      "outputs": [],
      "source": [
        "df['duration_Boxcox'],parameters=stats.boxcox(df['trip_duration'])"
      ]
    },
    {
      "cell_type": "code",
      "execution_count": 55,
      "metadata": {
        "id": "0duNMmKzqAZ6"
      },
      "outputs": [],
      "source": [
        "# normality(df , 'duration_Boxcox')"
      ]
    },
    {
      "cell_type": "code",
      "execution_count": 56,
      "metadata": {
        "colab": {
          "base_uri": "https://localhost:8080/",
          "height": 578
        },
        "id": "gCaluOSkvrfE",
        "outputId": "9d626c77-d045-4047-d7bc-0ff432d6fee5"
      },
      "outputs": [
        {
          "output_type": "execute_result",
          "data": {
            "text/plain": [
              "<matplotlib.axes._subplots.AxesSubplot at 0x7f0870f77c50>"
            ]
          },
          "metadata": {},
          "execution_count": 56
        },
        {
          "output_type": "display_data",
          "data": {
            "text/plain": [
              "<Figure size 1296x576 with 2 Axes>"
            ],
            "image/png": "[encoded data removed]"
          },
          "metadata": {
            "needs_background": "light"
          }
        }
      ],
      "source": [
        "# correlation\n",
        "plt.figure(figsize = (18,8))\n",
        "corr = df.corr()\n",
        "corr\n",
        "sns.heatmap(corr, annot = True)"
      ]
    },
    {
      "cell_type": "markdown",
      "metadata": {
        "id": "vgxGXoawwwsK"
      },
      "source": [
        "* only numerical parameters to consider is Distance Boxcox\n",
        "* rush_hour and weekend are two categorical variable\n",
        "* we will perfor boxcox on trrip duration"
      ]
    },
    {
      "cell_type": "markdown",
      "metadata": {
        "id": "C8IP3zKRMCmc"
      },
      "source": [
        "# Modeling"
      ]
    },
    {
      "cell_type": "code",
      "execution_count": 57,
      "metadata": {
        "id": "aIo6RomYk9PB"
      },
      "outputs": [],
      "source": [
        "def evaluation_metrics(y_test, y_pred):\n",
        "  \n",
        "  r2 = round(r2_score(y_test, y_pred), 2)\n",
        "  print(\"R2 on test data:\" ,r2)\n",
        "\n",
        "  MSE  = round(mean_squared_error(y_test, y_pred), 2)\n",
        "  print(\"MSE :\" , MSE)\n",
        "\n",
        "  RMSE = round(np.sqrt(MSE), 2)\n",
        "  print(\"RMSE :\" ,RMSE)\n",
        "\n",
        "  MAE = round(mean_absolute_error(y_test, y_pred), 2) \n",
        "  print(\"MAE :\" ,MAE)"
      ]
    },
    {
      "cell_type": "markdown",
      "metadata": {
        "id": "rGmOmUQJMG8n"
      },
      "source": [
        "## Linear Regression"
      ]
    },
    {
      "cell_type": "markdown",
      "metadata": {
        "id": "i2ODVQhR4AcP"
      },
      "source": [
        "### Train test split"
      ]
    },
    {
      "cell_type": "code",
      "execution_count": 131,
      "metadata": {
        "id": "dD22Fg1x4TcL"
      },
      "outputs": [],
      "source": [
        "# df.info()"
      ]
    },
    {
      "cell_type": "code",
      "execution_count": 132,
      "metadata": {
        "id": "M1qhP15a2xEy"
      },
      "outputs": [],
      "source": [
        "columns_to_keep = ['distance_km' , 'weekend' , 'rush_hours' , 'hour']\n",
        "X = df[columns_to_keep]\n",
        "y = df['trip_duration'].to_frame()"
      ]
    },
    {
      "cell_type": "code",
      "execution_count": 133,
      "metadata": {
        "colab": {
          "base_uri": "https://localhost:8080/"
        },
        "id": "lbdM-yoo44Ll",
        "outputId": "6740c8a9-ce1a-4b7c-c202-74b6c1de4baa"
      },
      "outputs": [
        {
          "output_type": "stream",
          "name": "stdout",
          "text": [
            "(979058, 4)\n",
            "(419597, 4)\n"
          ]
        }
      ],
      "source": [
        "from sklearn.model_selection import train_test_split \n",
        "X_train, X_test, y_train, y_test = train_test_split( X,y , test_size = 0.3, random_state = 42 , stratify = X.hour) \n",
        "print(X_train.shape)\n",
        "print(X_test.shape)"
      ]
    },
    {
      "cell_type": "code",
      "execution_count": 134,
      "metadata": {
        "id": "21zn3KD1-HYC"
      },
      "outputs": [],
      "source": [
        "X_train['distance_Boxcox'], dist_boxcox_param = stats.boxcox(X_train['distance_km'])\n",
        "y_train['duration_Boxcox'], dura_boxcox_param = stats.boxcox(y_train['trip_duration'])"
      ]
    },
    {
      "cell_type": "code",
      "execution_count": 135,
      "metadata": {
        "id": "_yV_aS0EGtdo"
      },
      "outputs": [],
      "source": [
        "y_train.drop(columns = 'trip_duration' , inplace =True)"
      ]
    },
    {
      "cell_type": "code",
      "execution_count": 136,
      "metadata": {
        "id": "fW8o8gLc-e7k",
        "colab": {
          "base_uri": "https://localhost:8080/",
          "height": 426
        },
        "outputId": "9f4a8bca-6529-4dee-c634-9776241d3d5f"
      },
      "outputs": [
        {
          "output_type": "stream",
          "name": "stderr",
          "text": [
            "/usr/local/lib/python3.7/dist-packages/seaborn/distributions.py:2619: FutureWarning: `distplot` is a deprecated function and will be removed in a future version. Please adapt your code to use either `displot` (a figure-level function with similar flexibility) or `histplot` (an axes-level function for histograms).\n",
            "  warnings.warn(msg, FutureWarning)\n"
          ]
        },
        {
          "output_type": "display_data",
          "data": {
            "text/plain": [
              "<Figure size 720x360 with 2 Axes>"
            ],
            "image/png": "[encoded data removed]"
          },
          "metadata": {
            "needs_background": "light"
          }
        },
        {
          "output_type": "stream",
          "name": "stdout",
          "text": [
            "skewness  :  0.0011886027501714369\n"
          ]
        }
      ],
      "source": [
        "normality(X_train , 'distance_Boxcox')"
      ]
    },
    {
      "cell_type": "code",
      "execution_count": 137,
      "metadata": {
        "id": "chEh8-82FvkX",
        "colab": {
          "base_uri": "https://localhost:8080/",
          "height": 426
        },
        "outputId": "1811ded8-72ee-41ca-b9b8-6c2c4f487f0f"
      },
      "outputs": [
        {
          "output_type": "stream",
          "name": "stderr",
          "text": [
            "/usr/local/lib/python3.7/dist-packages/seaborn/distributions.py:2619: FutureWarning: `distplot` is a deprecated function and will be removed in a future version. Please adapt your code to use either `displot` (a figure-level function with similar flexibility) or `histplot` (an axes-level function for histograms).\n",
            "  warnings.warn(msg, FutureWarning)\n"
          ]
        },
        {
          "output_type": "display_data",
          "data": {
            "text/plain": [
              "<Figure size 720x360 with 2 Axes>"
            ],
            "image/png": "[encoded data removed]"
          },
          "metadata": {
            "needs_background": "light"
          }
        },
        {
          "output_type": "stream",
          "name": "stdout",
          "text": [
            "skewness  :  -0.0022636306387903205\n"
          ]
        }
      ],
      "source": [
        "normality(y_train , 'duration_Boxcox')"
      ]
    },
    {
      "cell_type": "code",
      "execution_count": 138,
      "metadata": {
        "id": "4ewtF4Bx-wux"
      },
      "outputs": [],
      "source": [
        "X_test['distance_Boxcox'] = stats.boxcox(X_test['distance_km'] , dist_boxcox_param)\n",
        "#y_test['duration_Boxcox'] = stats.boxcox(y_test['trip_duration'] , dura_boxcox_param)"
      ]
    },
    {
      "cell_type": "code",
      "execution_count": 139,
      "metadata": {
        "id": "4SrcZ9bzIIxQ",
        "colab": {
          "base_uri": "https://localhost:8080/",
          "height": 426
        },
        "outputId": "10343c94-e10b-42d6-9355-91dbc38e170c"
      },
      "outputs": [
        {
          "output_type": "stream",
          "name": "stderr",
          "text": [
            "/usr/local/lib/python3.7/dist-packages/seaborn/distributions.py:2619: FutureWarning: `distplot` is a deprecated function and will be removed in a future version. Please adapt your code to use either `displot` (a figure-level function with similar flexibility) or `histplot` (an axes-level function for histograms).\n",
            "  warnings.warn(msg, FutureWarning)\n"
          ]
        },
        {
          "output_type": "display_data",
          "data": {
            "text/plain": [
              "<Figure size 720x360 with 2 Axes>"
            ],
            "image/png": "[encoded data removed]"
          },
          "metadata": {
            "needs_background": "light"
          }
        },
        {
          "output_type": "stream",
          "name": "stdout",
          "text": [
            "skewness  :  0.0019827705659214937\n"
          ]
        }
      ],
      "source": [
        "normality(X_test , 'distance_Boxcox')"
      ]
    },
    {
      "cell_type": "code",
      "execution_count": 140,
      "metadata": {
        "id": "YSbLsQA0IS5Q"
      },
      "outputs": [],
      "source": [
        "#normality(y_test , 'duration_Boxcox')"
      ]
    },
    {
      "cell_type": "code",
      "execution_count": 141,
      "metadata": {
        "id": "HNZVmcC8_4uG"
      },
      "outputs": [],
      "source": [
        "X_test = X_test.drop(columns = ['distance_km' , 'hour'])\n",
        "X_train = X_train.drop(columns = ['distance_km' , 'hour'])"
      ]
    },
    {
      "cell_type": "markdown",
      "metadata": {
        "id": "imuhnjKwMaKv"
      },
      "source": [
        "### Unreguarized"
      ]
    },
    {
      "cell_type": "code",
      "execution_count": 142,
      "metadata": {
        "id": "ndCcpevUBAwu"
      },
      "outputs": [],
      "source": [
        "reg = LinearRegression().fit(X_train, y_train)\n",
        "y_pred = reg.predict(X_test)"
      ]
    },
    {
      "cell_type": "code",
      "execution_count": 143,
      "metadata": {
        "colab": {
          "base_uri": "https://localhost:8080/"
        },
        "id": "cZPCjLDYDk09",
        "outputId": "348bdddf-113e-45f0-991b-9fac391246db"
      },
      "outputs": [
        {
          "output_type": "execute_result",
          "data": {
            "text/plain": [
              "array([[-0.33749605,  0.17175617,  1.91564202]])"
            ]
          },
          "metadata": {},
          "execution_count": 143
        }
      ],
      "source": [
        "reg.coef_"
      ]
    },
    {
      "cell_type": "code",
      "execution_count": 144,
      "metadata": {
        "colab": {
          "base_uri": "https://localhost:8080/"
        },
        "id": "lfJBQU0cBD1F",
        "outputId": "ca4b452f-0c7f-45a2-e50f-404d4b72a8c9"
      },
      "outputs": [
        {
          "output_type": "stream",
          "name": "stdout",
          "text": [
            "R2 on test data: 0.55\n",
            "MSE : 138919.77\n",
            "RMSE : 372.72\n",
            "MAE : 241.08\n"
          ]
        }
      ],
      "source": [
        "y_pred= scipy.special.inv_boxcox(y_pred , dura_boxcox_param)\n",
        "# y_test= scipy.special.inv_boxcox(y_test , dura_boxcox_param)\n",
        "evaluation_metrics(y_test, y_pred)"
      ]
    },
    {
      "cell_type": "code",
      "source": [
        "y_pred.shape"
      ],
      "metadata": {
        "colab": {
          "base_uri": "https://localhost:8080/"
        },
        "id": "H1EHd6Tq7cEm",
        "outputId": "df6905a1-0fb0-47f1-e38a-dd65d658aec7"
      },
      "execution_count": 145,
      "outputs": [
        {
          "output_type": "execute_result",
          "data": {
            "text/plain": [
              "(419597, 1)"
            ]
          },
          "metadata": {},
          "execution_count": 145
        }
      ]
    },
    {
      "cell_type": "code",
      "source": [
        "  y_test.shape "
      ],
      "metadata": {
        "colab": {
          "base_uri": "https://localhost:8080/"
        },
        "id": "7LoGUzCt7qu-",
        "outputId": "3659c7d8-f63b-463f-9c56-654628f6a248"
      },
      "execution_count": 146,
      "outputs": [
        {
          "output_type": "execute_result",
          "data": {
            "text/plain": [
              "(419597, 1)"
            ]
          },
          "metadata": {},
          "execution_count": 146
        }
      ]
    },
    {
      "cell_type": "markdown",
      "metadata": {
        "id": "6aWMehD7MeDc"
      },
      "source": [
        "### Regularized"
      ]
    },
    {
      "cell_type": "markdown",
      "metadata": {
        "id": "_A00mAbYkEuQ"
      },
      "source": [
        "#### Lasso regression"
      ]
    },
    {
      "cell_type": "code",
      "execution_count": 147,
      "metadata": {
        "id": "JBZfGFFNBSvO"
      },
      "outputs": [],
      "source": [
        "### Cross validation\n",
        "lasso = Lasso()\n",
        "parameters = {'alpha': [1e-3,1e-2,1e-1,1,5,10,20]}\n",
        "lasso_regressor = GridSearchCV(lasso, parameters, scoring='neg_mean_squared_error', cv=5)\n",
        "lasso_regressor.fit(X_train, y_train)\n",
        "y_pred = lasso_regressor.predict(X_test)"
      ]
    },
    {
      "cell_type": "code",
      "execution_count": 148,
      "metadata": {
        "colab": {
          "base_uri": "https://localhost:8080/"
        },
        "id": "OLHAPVOlBWgR",
        "outputId": "d0dd5385-587b-41a7-af91-3ca41d08b322"
      },
      "outputs": [
        {
          "output_type": "stream",
          "name": "stdout",
          "text": [
            "R2 on test data: 0.55\n",
            "MSE : 138960.83\n",
            "RMSE : 372.77\n",
            "MAE : 241.07\n"
          ]
        }
      ],
      "source": [
        "y_pred= scipy.special.inv_boxcox(y_pred , dura_boxcox_param)\n",
        "# y_test= scipy.special.inv_boxcox(y_test , dura_boxcox_param)\n",
        "evaluation_metrics(y_test, y_pred)"
      ]
    },
    {
      "cell_type": "markdown",
      "metadata": {
        "id": "rzxBNAGwkOqY"
      },
      "source": [
        "#### Ridge regression"
      ]
    },
    {
      "cell_type": "code",
      "execution_count": 149,
      "metadata": {
        "id": "nkbADBO6kN1P"
      },
      "outputs": [],
      "source": [
        "from sklearn.linear_model import Ridge\n",
        "ridge = Ridge()\n",
        "parameters = {'alpha': [1e-3,1e-2,1,5,10,20]}\n",
        "ridge_regressor = GridSearchCV(ridge, parameters, scoring='neg_mean_squared_error', cv=3)\n",
        "ridge_regressor.fit(X_train,y_train)\n",
        "y_pred = ridge_regressor.predict(X_test)"
      ]
    },
    {
      "cell_type": "code",
      "execution_count": 150,
      "metadata": {
        "colab": {
          "base_uri": "https://localhost:8080/"
        },
        "id": "55aue5A-kesG",
        "outputId": "6a951175-1327-4435-db53-a8190c8f02ba"
      },
      "outputs": [
        {
          "output_type": "stream",
          "name": "stdout",
          "text": [
            "R2 on test data: 0.55\n",
            "MSE : 138919.83\n",
            "RMSE : 372.72\n",
            "MAE : 241.08\n"
          ]
        }
      ],
      "source": [
        "y_pred= scipy.special.inv_boxcox(y_pred , dura_boxcox_param)\n",
        "# y_test= scipy.special.inv_boxcox(y_test , dura_boxcox_param)\n",
        "evaluation_metrics(y_test, y_pred)"
      ]
    },
    {
      "cell_type": "markdown",
      "metadata": {
        "id": "QmHzupZHlK_w"
      },
      "source": [
        "## Decision Tree regression"
      ]
    },
    {
      "cell_type": "code",
      "source": [
        "columns_to_keep = ['distance_km' , 'weekend' , 'rush_hours' , 'hour' , 'delta_longitude' ,'delta_latitude']\n",
        "X = df[columns_to_keep]\n",
        "y = df['trip_duration']"
      ],
      "metadata": {
        "id": "WQOi1i6cqSgN"
      },
      "execution_count": 151,
      "outputs": []
    },
    {
      "cell_type": "code",
      "source": [
        "X.info()"
      ],
      "metadata": {
        "colab": {
          "base_uri": "https://localhost:8080/"
        },
        "id": "z4Z-iVvWf86v",
        "outputId": "2e77fcb2-509f-46d3-bd26-af3f136b9ad8"
      },
      "execution_count": 152,
      "outputs": [
        {
          "output_type": "stream",
          "name": "stdout",
          "text": [
            "<class 'pandas.core.frame.DataFrame'>\n",
            "Int64Index: 1398655 entries, 0 to 1458643\n",
            "Data columns (total 6 columns):\n",
            " #   Column           Non-Null Count    Dtype  \n",
            "---  ------           --------------    -----  \n",
            " 0   distance_km      1398655 non-null  float64\n",
            " 1   weekend          1398655 non-null  int64  \n",
            " 2   rush_hours       1398655 non-null  int64  \n",
            " 3   hour             1398655 non-null  int64  \n",
            " 4   delta_longitude  1398655 non-null  float64\n",
            " 5   delta_latitude   1398655 non-null  float64\n",
            "dtypes: float64(3), int64(3)\n",
            "memory usage: 74.7 MB\n"
          ]
        }
      ]
    },
    {
      "cell_type": "code",
      "source": [
        "from sklearn.model_selection import train_test_split \n",
        "X_train, X_test, y_train, y_test = train_test_split( X,y , test_size = 0.3, random_state = 42 , stratify = X.hour) \n",
        "print(X_train.shape)\n",
        "print(X_test.shape)"
      ],
      "metadata": {
        "colab": {
          "base_uri": "https://localhost:8080/"
        },
        "id": "xuBykILeqie_",
        "outputId": "28520840-30be-4a43-f77c-8b61668b41e0"
      },
      "execution_count": 153,
      "outputs": [
        {
          "output_type": "stream",
          "name": "stdout",
          "text": [
            "(979058, 6)\n",
            "(419597, 6)\n"
          ]
        }
      ]
    },
    {
      "cell_type": "code",
      "source": [
        "X_test = X_test.drop(columns = ['hour'])\n",
        "X_train = X_train.drop(columns = ['hour'])"
      ],
      "metadata": {
        "id": "A-35JO-cqn53"
      },
      "execution_count": 154,
      "outputs": []
    },
    {
      "cell_type": "markdown",
      "metadata": {
        "id": "RvzDCMron4gR"
      },
      "source": [
        "### Decision Tree"
      ]
    },
    {
      "cell_type": "code",
      "execution_count": 155,
      "metadata": {
        "id": "1HG9J0f5Bbnt"
      },
      "outputs": [],
      "source": [
        "param_grid = {\"min_samples_split\": [2 , 4 ],\n",
        "              \"max_depth\": [8 , 20],\n",
        "              \"min_samples_leaf\": [4, 10 ],\n",
        "              \"max_leaf_nodes\": [50 , 100],\n",
        "              }\n",
        "\n",
        "# dtm = DecisionTreeRegressor()\n",
        "# grid_cv_dtm = GridSearchCV(dtm, param_grid, cv=5 ,n_jobs = -1 , verbose = 1)\n",
        "# grid_cv_dtm.fit(X_train,y_train )\n"
      ]
    },
    {
      "cell_type": "code",
      "source": [
        "# with open('/content/drive/MyDrive/Colab Notebooks/Alma_better/NYC Taxi Time Prediction/grid_cv_dtm' , 'wb') as f:\n",
        "#   pickle.dump(grid_cv_dtm,f)"
      ],
      "metadata": {
        "id": "jgupGrt1397X"
      },
      "execution_count": 156,
      "outputs": []
    },
    {
      "cell_type": "code",
      "source": [
        "with open('/content/drive/MyDrive/Colab Notebooks/Alma_better/NYC Taxi Time Prediction/grid_cv_dtm' , 'rb') as f:\n",
        "  grid_cv_dtm = pickle.load(f)"
      ],
      "metadata": {
        "id": "uTnnDEQ84HQ5"
      },
      "execution_count": 157,
      "outputs": []
    },
    {
      "cell_type": "code",
      "execution_count": 158,
      "metadata": {
        "colab": {
          "base_uri": "https://localhost:8080/"
        },
        "id": "KJWLggPVJrLF",
        "outputId": "1827d197-6bc5-412a-ffe6-36cee93a53ca"
      },
      "outputs": [
        {
          "output_type": "stream",
          "name": "stdout",
          "text": [
            "R2 on test data: 0.61\n",
            "MSE : 120033.08\n",
            "RMSE : 346.46\n",
            "MAE : 229.89\n"
          ]
        }
      ],
      "source": [
        "y_pred = grid_cv_dtm.predict(X_test)\n",
        "evaluation_metrics(y_test, y_pred)"
      ]
    },
    {
      "cell_type": "code",
      "source": [
        "grid_cv_dtm.best_estimator_"
      ],
      "metadata": {
        "colab": {
          "base_uri": "https://localhost:8080/"
        },
        "id": "jgcbWQC0ritV",
        "outputId": "6497027f-ac03-4c5d-9ab4-a3acf924a5d2"
      },
      "execution_count": 159,
      "outputs": [
        {
          "output_type": "execute_result",
          "data": {
            "text/plain": [
              "DecisionTreeRegressor(max_depth=20, max_leaf_nodes=100, min_samples_leaf=4)"
            ]
          },
          "metadata": {},
          "execution_count": 159
        }
      ]
    },
    {
      "cell_type": "markdown",
      "metadata": {
        "id": "VLEs8PXLn8-A"
      },
      "source": [
        "### Random Forest"
      ]
    },
    {
      "cell_type": "code",
      "execution_count": 160,
      "metadata": {
        "id": "Temc5VHhoFPO"
      },
      "outputs": [],
      "source": [
        "# Create the parameter grid based on the results of random search\n",
        "from sklearn.ensemble import RandomForestRegressor \n",
        "# param_grid = {'n_estimators': [20], \"min_samples_leaf\": [5 ], \"max_leaf_nodes\": [20, 50], \n",
        "#               \"min_samples_split\": [2 , 4 ] ,\n",
        "#                 'max_depth': [6 , 20] }\n",
        "\n",
        "# # Create a based model\n",
        "# rf = RandomForestRegressor()\n",
        "# # Instantiate the grid search model\n",
        "# grid_search_rf = GridSearchCV(estimator = rf, param_grid = param_grid, \n",
        "#                           cv = 4, n_jobs = -1, verbose = 1)\n",
        "# grid_search_rf.fit(X_train,y_train)"
      ]
    },
    {
      "cell_type": "code",
      "source": [
        "# grid_search_rf.best_estimator_"
      ],
      "metadata": {
        "id": "XLQ3IM5s6QuC"
      },
      "execution_count": 161,
      "outputs": []
    },
    {
      "cell_type": "code",
      "source": [
        "# with open('/content/drive/MyDrive/Colab Notebooks/Alma_better/NYC Taxi Time Prediction/grid_search_rf' , 'wb') as f:\n",
        "#   pickle.dump(grid_search_rf,f)"
      ],
      "metadata": {
        "id": "CVqNPtyO3gen"
      },
      "execution_count": 162,
      "outputs": []
    },
    {
      "cell_type": "code",
      "source": [
        "with open('/content/drive/MyDrive/Colab Notebooks/Alma_better/NYC Taxi Time Prediction/grid_search_rf' , 'rb') as f:\n",
        "  grid_search_rf = pickle.load(f)"
      ],
      "metadata": {
        "id": "WBjjWqih3kt_"
      },
      "execution_count": 163,
      "outputs": []
    },
    {
      "cell_type": "code",
      "execution_count": 164,
      "metadata": {
        "colab": {
          "base_uri": "https://localhost:8080/"
        },
        "id": "Z6HBZKW8sZzz",
        "outputId": "2fb95bf0-ef45-467e-ebb7-d09ee596201b"
      },
      "outputs": [
        {
          "output_type": "stream",
          "name": "stdout",
          "text": [
            "R2 on test data: 0.6\n",
            "MSE : 121484.88\n",
            "RMSE : 348.55\n",
            "MAE : 232.0\n"
          ]
        }
      ],
      "source": [
        "y_pred = grid_search_rf.predict(X_test)\n",
        "evaluation_metrics(y_test, y_pred)"
      ]
    },
    {
      "cell_type": "markdown",
      "source": [
        "### Xgboost egressor"
      ],
      "metadata": {
        "id": "Z4ZzH1F_iDho"
      }
    },
    {
      "cell_type": "code",
      "source": [
        "! pip install xgboost"
      ],
      "metadata": {
        "colab": {
          "base_uri": "https://localhost:8080/"
        },
        "id": "W2JxsvkmiHn_",
        "outputId": "93240f19-a8d6-4268-ade1-e30f2a9bb5d7"
      },
      "execution_count": 165,
      "outputs": [
        {
          "output_type": "stream",
          "name": "stdout",
          "text": [
            "Looking in indexes: https://pypi.org/simple, https://us-python.pkg.dev/colab-wheels/public/simple/\n",
            "Requirement already satisfied: xgboost in /usr/local/lib/python3.7/dist-packages (0.90)\n",
            "Requirement already satisfied: numpy in /usr/local/lib/python3.7/dist-packages (from xgboost) (1.21.6)\n",
            "Requirement already satisfied: scipy in /usr/local/lib/python3.7/dist-packages (from xgboost) (1.4.1)\n"
          ]
        }
      ]
    },
    {
      "cell_type": "code",
      "source": [
        "from xgboost import XGBRegressor\n",
        "gb_r = XGBRegressor()"
      ],
      "metadata": {
        "id": "W6iO1WF4iVoP"
      },
      "execution_count": 166,
      "outputs": []
    },
    {
      "cell_type": "code",
      "source": [
        "# gb_r.fit(X_train,y_train)\n",
        "# y_pred = gb_r.predict(X_test)"
      ],
      "metadata": {
        "id": "W2C6jIAJkAOU"
      },
      "execution_count": 167,
      "outputs": []
    },
    {
      "cell_type": "code",
      "source": [
        "\n",
        "# param_grid = {\n",
        "#     'n_estimators': [400]\n",
        "# }\n",
        "# grid_search_xgr = GridSearchCV(estimator = gb_r, param_grid = param_grid, \n",
        "#                           cv = 3, n_jobs = 1, verbose = 2)\n",
        "# grid_search_xgr.fit(X_train,y_train)"
      ],
      "metadata": {
        "id": "uVLskMRllYIJ"
      },
      "execution_count": 168,
      "outputs": []
    },
    {
      "cell_type": "code",
      "source": [
        "# with open('/content/drive/MyDrive/Colab Notebooks/Alma_better/NYC Taxi Time Prediction/grid_search_xgr' , 'wb') as f:\n",
        "#   pickle.dump(grid_search_xgr,f)"
      ],
      "metadata": {
        "id": "Mx7JKT_B2eyw"
      },
      "execution_count": 169,
      "outputs": []
    },
    {
      "cell_type": "code",
      "source": [
        "with open('/content/drive/MyDrive/Colab Notebooks/Alma_better/NYC Taxi Time Prediction/grid_search_xgr' , 'rb') as f:\n",
        "  grid_search_xgr = pickle.load(f)"
      ],
      "metadata": {
        "colab": {
          "base_uri": "https://localhost:8080/"
        },
        "id": "4QBc-cGK3Hbf",
        "outputId": "8fa549f6-effb-4767-8e54-f608239e2176"
      },
      "execution_count": 170,
      "outputs": [
        {
          "output_type": "stream",
          "name": "stdout",
          "text": [
            "[23:20:14] WARNING: /workspace/src/objective/regression_obj.cu:152: reg:linear is now deprecated in favor of reg:squarederror.\n"
          ]
        }
      ]
    },
    {
      "cell_type": "code",
      "source": [
        "y_pred = grid_search_xgr.predict(X_test)\n",
        "evaluation_metrics(y_test, y_pred)"
      ],
      "metadata": {
        "colab": {
          "base_uri": "https://localhost:8080/"
        },
        "id": "2-gg6bKfkMGs",
        "outputId": "896174b6-82c1-4665-bfcb-24bbeece068b"
      },
      "execution_count": 171,
      "outputs": [
        {
          "output_type": "stream",
          "name": "stdout",
          "text": [
            "R2 on test data: 0.62\n",
            "MSE : 116356.74\n",
            "RMSE : 341.11\n",
            "MAE : 224.99\n"
          ]
        }
      ]
    }
  ],
  "metadata": {
    "colab": {
      "name": "NYC taxi Prediction.ipynb",
      "provenance": [],
      "authorship_tag": "ABX9TyMg7cl16yVQ4n0H+gjS06TG",
      "include_colab_link": true
    },
    "kernelspec": {
      "display_name": "Python 3",
      "name": "python3"
    },
    "language_info": {
      "name": "python"
    }
  },
  "nbformat": 4,
  "nbformat_minor": 0
}