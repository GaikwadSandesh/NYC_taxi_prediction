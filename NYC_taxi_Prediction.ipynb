{
  "cells": [
    {
      "cell_type": "markdown",
      "metadata": {
        "id": "view-in-github",
        "colab_type": "text"
      },
      "source": [
        "<a href=\"https://colab.research.google.com/github/GaikwadSandesh/NYC_taxi_prediction/blob/main/NYC_taxi_Prediction.ipynb\" target=\"_parent\"><img src=\"https://colab.research.google.com/assets/colab-badge.svg\" alt=\"Open In Colab\"/></a>"
      ]
    },
    {
      "cell_type": "code",
      "execution_count": 77,
      "metadata": {
        "id": "xMDZK-7BZxKp"
      },
      "outputs": [],
      "source": [
        "import pandas as pd\n",
        "import numpy as np\n",
        "import seaborn as sns\n",
        "import matplotlib\n",
        "import matplotlib.pyplot as plt\n",
        "import matplotlib.image as mpimg\n",
        "\n",
        "import scipy.stats as stats\n",
        "import pylab\n",
        "\n",
        "# modeling utilities\n",
        "from scipy.stats import zscore\n",
        "from sklearn import metrics\n",
        "from sklearn.linear_model import LinearRegression, Lasso, Ridge\n",
        "from sklearn.model_selection import GridSearchCV\n",
        "from sklearn.metrics import r2_score, mean_squared_error, mean_absolute_error\n",
        "from sklearn.tree import DecisionTreeRegressor\n",
        "from sklearn.model_selection import GridSearchCV, cross_val_score, cross_val_predict, train_test_split"
      ]
    },
    {
      "cell_type": "markdown",
      "metadata": {
        "id": "bs9w0-g7WU-A"
      },
      "source": [
        "# Load data"
      ]
    },
    {
      "cell_type": "code",
      "execution_count": 78,
      "metadata": {
        "colab": {
          "base_uri": "https://localhost:8080/"
        },
        "id": "-BOGBwXDaZa1",
        "outputId": "388bb294-829a-4163-ed6a-b517bc0f0705"
      },
      "outputs": [
        {
          "output_type": "stream",
          "name": "stdout",
          "text": [
            "Drive already mounted at /content/drive; to attempt to forcibly remount, call drive.mount(\"/content/drive\", force_remount=True).\n"
          ]
        }
      ],
      "source": [
        "from google.colab import drive\n",
        "drive.mount('/content/drive')"
      ]
    },
    {
      "cell_type": "code",
      "execution_count": 79,
      "metadata": {
        "id": "fj3qhUqRal3c"
      },
      "outputs": [],
      "source": [
        "df = pd.read_csv(\"/content/drive/MyDrive/Colab Notebooks/Alma_better/NYC Taxi Time Prediction/NYC Taxi Data.csv\", parse_dates=['pickup_datetime'])"
      ]
    },
    {
      "cell_type": "code",
      "execution_count": 80,
      "metadata": {
        "colab": {
          "base_uri": "https://localhost:8080/",
          "height": 363
        },
        "id": "SFYqhGYYakGW",
        "outputId": "7e5151d8-bc44-4632-c176-710d902dfffe"
      },
      "outputs": [
        {
          "output_type": "execute_result",
          "data": {
            "text/plain": [
              "          id  vendor_id     pickup_datetime     dropoff_datetime  \\\n",
              "0  id2875421          2 2016-03-14 17:24:55  2016-03-14 17:32:30   \n",
              "1  id2377394          1 2016-06-12 00:43:35  2016-06-12 00:54:38   \n",
              "2  id3858529          2 2016-01-19 11:35:24  2016-01-19 12:10:48   \n",
              "3  id3504673          2 2016-04-06 19:32:31  2016-04-06 19:39:40   \n",
              "4  id2181028          2 2016-03-26 13:30:55  2016-03-26 13:38:10   \n",
              "5  id0801584          2 2016-01-30 22:01:40  2016-01-30 22:09:03   \n",
              "6  id1813257          1 2016-06-17 22:34:59  2016-06-17 22:40:40   \n",
              "7  id1324603          2 2016-05-21 07:54:58  2016-05-21 08:20:49   \n",
              "8  id1301050          1 2016-05-27 23:12:23  2016-05-27 23:16:38   \n",
              "9  id0012891          2 2016-03-10 21:45:01  2016-03-10 22:05:26   \n",
              "\n",
              "   passenger_count  pickup_longitude  pickup_latitude  dropoff_longitude  \\\n",
              "0                1        -73.982155        40.767937         -73.964630   \n",
              "1                1        -73.980415        40.738564         -73.999481   \n",
              "2                1        -73.979027        40.763939         -74.005333   \n",
              "3                1        -74.010040        40.719971         -74.012268   \n",
              "4                1        -73.973053        40.793209         -73.972923   \n",
              "5                6        -73.982857        40.742195         -73.992081   \n",
              "6                4        -73.969017        40.757839         -73.957405   \n",
              "7                1        -73.969276        40.797779         -73.922470   \n",
              "8                1        -73.999481        40.738400         -73.985786   \n",
              "9                1        -73.981049        40.744339         -73.973000   \n",
              "\n",
              "   dropoff_latitude store_and_fwd_flag  trip_duration  \n",
              "0         40.765602                  N            455  \n",
              "1         40.731152                  N            663  \n",
              "2         40.710087                  N           2124  \n",
              "3         40.706718                  N            429  \n",
              "4         40.782520                  N            435  \n",
              "5         40.749184                  N            443  \n",
              "6         40.765896                  N            341  \n",
              "7         40.760559                  N           1551  \n",
              "8         40.732815                  N            255  \n",
              "9         40.789989                  N           1225  "
            ],
            "text/html": [
              "\n",
              "  <div id=\"df-be530840-0b53-4b7e-91e1-a3b133ad86fa\">\n",
              "    <div class=\"colab-df-container\">\n",
              "      <div>\n",
              "<style scoped>\n",
              "    .dataframe tbody tr th:only-of-type {\n",
              "        vertical-align: middle;\n",
              "    }\n",
              "\n",
              "    .dataframe tbody tr th {\n",
              "        vertical-align: top;\n",
              "    }\n",
              "\n",
              "    .dataframe thead th {\n",
              "        text-align: right;\n",
              "    }\n",
              "</style>\n",
              "<table border=\"1\" class=\"dataframe\">\n",
              "  <thead>\n",
              "    <tr style=\"text-align: right;\">\n",
              "      <th></th>\n",
              "      <th>id</th>\n",
              "      <th>vendor_id</th>\n",
              "      <th>pickup_datetime</th>\n",
              "      <th>dropoff_datetime</th>\n",
              "      <th>passenger_count</th>\n",
              "      <th>pickup_longitude</th>\n",
              "      <th>pickup_latitude</th>\n",
              "      <th>dropoff_longitude</th>\n",
              "      <th>dropoff_latitude</th>\n",
              "      <th>store_and_fwd_flag</th>\n",
              "      <th>trip_duration</th>\n",
              "    </tr>\n",
              "  </thead>\n",
              "  <tbody>\n",
              "    <tr>\n",
              "      <th>0</th>\n",
              "      <td>id2875421</td>\n",
              "      <td>2</td>\n",
              "      <td>2016-03-14 17:24:55</td>\n",
              "      <td>2016-03-14 17:32:30</td>\n",
              "      <td>1</td>\n",
              "      <td>-73.982155</td>\n",
              "      <td>40.767937</td>\n",
              "      <td>-73.964630</td>\n",
              "      <td>40.765602</td>\n",
              "      <td>N</td>\n",
              "      <td>455</td>\n",
              "    </tr>\n",
              "    <tr>\n",
              "      <th>1</th>\n",
              "      <td>id2377394</td>\n",
              "      <td>1</td>\n",
              "      <td>2016-06-12 00:43:35</td>\n",
              "      <td>2016-06-12 00:54:38</td>\n",
              "      <td>1</td>\n",
              "      <td>-73.980415</td>\n",
              "      <td>40.738564</td>\n",
              "      <td>-73.999481</td>\n",
              "      <td>40.731152</td>\n",
              "      <td>N</td>\n",
              "      <td>663</td>\n",
              "    </tr>\n",
              "    <tr>\n",
              "      <th>2</th>\n",
              "      <td>id3858529</td>\n",
              "      <td>2</td>\n",
              "      <td>2016-01-19 11:35:24</td>\n",
              "      <td>2016-01-19 12:10:48</td>\n",
              "      <td>1</td>\n",
              "      <td>-73.979027</td>\n",
              "      <td>40.763939</td>\n",
              "      <td>-74.005333</td>\n",
              "      <td>40.710087</td>\n",
              "      <td>N</td>\n",
              "      <td>2124</td>\n",
              "    </tr>\n",
              "    <tr>\n",
              "      <th>3</th>\n",
              "      <td>id3504673</td>\n",
              "      <td>2</td>\n",
              "      <td>2016-04-06 19:32:31</td>\n",
              "      <td>2016-04-06 19:39:40</td>\n",
              "      <td>1</td>\n",
              "      <td>-74.010040</td>\n",
              "      <td>40.719971</td>\n",
              "      <td>-74.012268</td>\n",
              "      <td>40.706718</td>\n",
              "      <td>N</td>\n",
              "      <td>429</td>\n",
              "    </tr>\n",
              "    <tr>\n",
              "      <th>4</th>\n",
              "      <td>id2181028</td>\n",
              "      <td>2</td>\n",
              "      <td>2016-03-26 13:30:55</td>\n",
              "      <td>2016-03-26 13:38:10</td>\n",
              "      <td>1</td>\n",
              "      <td>-73.973053</td>\n",
              "      <td>40.793209</td>\n",
              "      <td>-73.972923</td>\n",
              "      <td>40.782520</td>\n",
              "      <td>N</td>\n",
              "      <td>435</td>\n",
              "    </tr>\n",
              "    <tr>\n",
              "      <th>5</th>\n",
              "      <td>id0801584</td>\n",
              "      <td>2</td>\n",
              "      <td>2016-01-30 22:01:40</td>\n",
              "      <td>2016-01-30 22:09:03</td>\n",
              "      <td>6</td>\n",
              "      <td>-73.982857</td>\n",
              "      <td>40.742195</td>\n",
              "      <td>-73.992081</td>\n",
              "      <td>40.749184</td>\n",
              "      <td>N</td>\n",
              "      <td>443</td>\n",
              "    </tr>\n",
              "    <tr>\n",
              "      <th>6</th>\n",
              "      <td>id1813257</td>\n",
              "      <td>1</td>\n",
              "      <td>2016-06-17 22:34:59</td>\n",
              "      <td>2016-06-17 22:40:40</td>\n",
              "      <td>4</td>\n",
              "      <td>-73.969017</td>\n",
              "      <td>40.757839</td>\n",
              "      <td>-73.957405</td>\n",
              "      <td>40.765896</td>\n",
              "      <td>N</td>\n",
              "      <td>341</td>\n",
              "    </tr>\n",
              "    <tr>\n",
              "      <th>7</th>\n",
              "      <td>id1324603</td>\n",
              "      <td>2</td>\n",
              "      <td>2016-05-21 07:54:58</td>\n",
              "      <td>2016-05-21 08:20:49</td>\n",
              "      <td>1</td>\n",
              "      <td>-73.969276</td>\n",
              "      <td>40.797779</td>\n",
              "      <td>-73.922470</td>\n",
              "      <td>40.760559</td>\n",
              "      <td>N</td>\n",
              "      <td>1551</td>\n",
              "    </tr>\n",
              "    <tr>\n",
              "      <th>8</th>\n",
              "      <td>id1301050</td>\n",
              "      <td>1</td>\n",
              "      <td>2016-05-27 23:12:23</td>\n",
              "      <td>2016-05-27 23:16:38</td>\n",
              "      <td>1</td>\n",
              "      <td>-73.999481</td>\n",
              "      <td>40.738400</td>\n",
              "      <td>-73.985786</td>\n",
              "      <td>40.732815</td>\n",
              "      <td>N</td>\n",
              "      <td>255</td>\n",
              "    </tr>\n",
              "    <tr>\n",
              "      <th>9</th>\n",
              "      <td>id0012891</td>\n",
              "      <td>2</td>\n",
              "      <td>2016-03-10 21:45:01</td>\n",
              "      <td>2016-03-10 22:05:26</td>\n",
              "      <td>1</td>\n",
              "      <td>-73.981049</td>\n",
              "      <td>40.744339</td>\n",
              "      <td>-73.973000</td>\n",
              "      <td>40.789989</td>\n",
              "      <td>N</td>\n",
              "      <td>1225</td>\n",
              "    </tr>\n",
              "  </tbody>\n",
              "</table>\n",
              "</div>\n",
              "      <button class=\"colab-df-convert\" onclick=\"convertToInteractive('df-be530840-0b53-4b7e-91e1-a3b133ad86fa')\"\n",
              "              title=\"Convert this dataframe to an interactive table.\"\n",
              "              style=\"display:none;\">\n",
              "        \n",
              "  <svg xmlns=\"http://www.w3.org/2000/svg\" height=\"24px\"viewBox=\"0 0 24 24\"\n",
              "       width=\"24px\">\n",
              "    <path d=\"M0 0h24v24H0V0z\" fill=\"none\"/>\n",
              "    <path d=\"M18.56 5.44l.94 2.06.94-2.06 2.06-.94-2.06-.94-.94-2.06-.94 2.06-2.06.94zm-11 1L8.5 8.5l.94-2.06 2.06-.94-2.06-.94L8.5 2.5l-.94 2.06-2.06.94zm10 10l.94 2.06.94-2.06 2.06-.94-2.06-.94-.94-2.06-.94 2.06-2.06.94z\"/><path d=\"M17.41 7.96l-1.37-1.37c-.4-.4-.92-.59-1.43-.59-.52 0-1.04.2-1.43.59L10.3 9.45l-7.72 7.72c-.78.78-.78 2.05 0 2.83L4 21.41c.39.39.9.59 1.41.59.51 0 1.02-.2 1.41-.59l7.78-7.78 2.81-2.81c.8-.78.8-2.07 0-2.86zM5.41 20L4 18.59l7.72-7.72 1.47 1.35L5.41 20z\"/>\n",
              "  </svg>\n",
              "      </button>\n",
              "      \n",
              "  <style>\n",
              "    .colab-df-container {\n",
              "      display:flex;\n",
              "      flex-wrap:wrap;\n",
              "      gap: 12px;\n",
              "    }\n",
              "\n",
              "    .colab-df-convert {\n",
              "      background-color: #E8F0FE;\n",
              "      border: none;\n",
              "      border-radius: 50%;\n",
              "      cursor: pointer;\n",
              "      display: none;\n",
              "      fill: #1967D2;\n",
              "      height: 32px;\n",
              "      padding: 0 0 0 0;\n",
              "      width: 32px;\n",
              "    }\n",
              "\n",
              "    .colab-df-convert:hover {\n",
              "      background-color: #E2EBFA;\n",
              "      box-shadow: 0px 1px 2px rgba(60, 64, 67, 0.3), 0px 1px 3px 1px rgba(60, 64, 67, 0.15);\n",
              "      fill: #174EA6;\n",
              "    }\n",
              "\n",
              "    [theme=dark] .colab-df-convert {\n",
              "      background-color: #3B4455;\n",
              "      fill: #D2E3FC;\n",
              "    }\n",
              "\n",
              "    [theme=dark] .colab-df-convert:hover {\n",
              "      background-color: #434B5C;\n",
              "      box-shadow: 0px 1px 3px 1px rgba(0, 0, 0, 0.15);\n",
              "      filter: drop-shadow(0px 1px 2px rgba(0, 0, 0, 0.3));\n",
              "      fill: #FFFFFF;\n",
              "    }\n",
              "  </style>\n",
              "\n",
              "      <script>\n",
              "        const buttonEl =\n",
              "          document.querySelector('#df-be530840-0b53-4b7e-91e1-a3b133ad86fa button.colab-df-convert');\n",
              "        buttonEl.style.display =\n",
              "          google.colab.kernel.accessAllowed ? 'block' : 'none';\n",
              "\n",
              "        async function convertToInteractive(key) {\n",
              "          const element = document.querySelector('#df-be530840-0b53-4b7e-91e1-a3b133ad86fa');\n",
              "          const dataTable =\n",
              "            await google.colab.kernel.invokeFunction('convertToInteractive',\n",
              "                                                     [key], {});\n",
              "          if (!dataTable) return;\n",
              "\n",
              "          const docLinkHtml = 'Like what you see? Visit the ' +\n",
              "            '<a target=\"_blank\" href=https://colab.research.google.com/notebooks/data_table.ipynb>data table notebook</a>'\n",
              "            + ' to learn more about interactive tables.';\n",
              "          element.innerHTML = '';\n",
              "          dataTable['output_type'] = 'display_data';\n",
              "          await google.colab.output.renderOutput(dataTable, element);\n",
              "          const docLink = document.createElement('div');\n",
              "          docLink.innerHTML = docLinkHtml;\n",
              "          element.appendChild(docLink);\n",
              "        }\n",
              "      </script>\n",
              "    </div>\n",
              "  </div>\n",
              "  "
            ]
          },
          "metadata": {},
          "execution_count": 80
        }
      ],
      "source": [
        "df.head(10)"
      ]
    },
    {
      "cell_type": "code",
      "execution_count": 81,
      "metadata": {
        "id": "GtSUyxgEbCne"
      },
      "outputs": [],
      "source": [
        "# df.info()"
      ]
    },
    {
      "cell_type": "code",
      "execution_count": 82,
      "metadata": {
        "id": "DkoDCDYybDCI"
      },
      "outputs": [],
      "source": [
        "# df.isnull().sum()"
      ]
    },
    {
      "cell_type": "code",
      "execution_count": 83,
      "metadata": {
        "id": "e_qaIEzEXe4m"
      },
      "outputs": [],
      "source": [
        "# df['vendor_id'].nunique() , df['id'].nunique()"
      ]
    },
    {
      "cell_type": "code",
      "execution_count": 84,
      "metadata": {
        "id": "H2QSw0eiXzxb"
      },
      "outputs": [],
      "source": [
        "df.drop(columns = 'id' , inplace =True)"
      ]
    },
    {
      "cell_type": "code",
      "execution_count": 85,
      "metadata": {
        "id": "UnBaPloEvrxv"
      },
      "outputs": [],
      "source": [
        "# df.describe()"
      ]
    },
    {
      "cell_type": "markdown",
      "metadata": {
        "id": "kcOo6EWMWS7l"
      },
      "source": [
        "#EDA"
      ]
    },
    {
      "cell_type": "markdown",
      "metadata": {
        "id": "zvRTx8w_Wa_D"
      },
      "source": [
        "## Anomaly Detection"
      ]
    },
    {
      "cell_type": "code",
      "source": [
        "df.shape\n"
      ],
      "metadata": {
        "colab": {
          "base_uri": "https://localhost:8080/"
        },
        "id": "mwL-_azPNQ21",
        "outputId": "b7fb86bb-41f0-408d-fae5-a476f7670cd5"
      },
      "execution_count": 86,
      "outputs": [
        {
          "output_type": "execute_result",
          "data": {
            "text/plain": [
              "(1458644, 10)"
            ]
          },
          "metadata": {},
          "execution_count": 86
        }
      ]
    },
    {
      "cell_type": "code",
      "execution_count": 87,
      "metadata": {
        "id": "C0jG-aB8wBkH"
      },
      "outputs": [],
      "source": [
        "# plt.figure(figsize = (9, 7))\n",
        "# plt.subplot(2,3,1)\n",
        "# sns.boxplot(x=df.passenger_count)\n",
        "# plt.subplot(2,3,2)\n",
        "# sns.boxplot(x=df.pickup_longitude)\n",
        "# plt.subplot(2,3,3)\n",
        "# sns.boxplot(x=df.pickup_latitude)\n",
        "# plt.subplot(2,3,4)\n",
        "# sns.boxplot(x=df.dropoff_longitude)\n",
        "# plt.subplot(2,3,5)\n",
        "# sns.boxplot(x=df.dropoff_latitude)\n",
        "# plt.subplot(2,3,6)\n",
        "# sns.boxplot(x=df.trip_duration)\n",
        "# plt.show()"
      ]
    },
    {
      "cell_type": "markdown",
      "metadata": {
        "id": "QnK2AwO9AKKN"
      },
      "source": [
        "### pickup_longitude"
      ]
    },
    {
      "cell_type": "code",
      "source": [
        "df = df[(df['pickup_longitude']<-65) & (-85<df['pickup_longitude'])]"
      ],
      "metadata": {
        "id": "L4Z6VD_JIAuG"
      },
      "execution_count": 88,
      "outputs": []
    },
    {
      "cell_type": "code",
      "execution_count": 89,
      "metadata": {
        "id": "lCc_z8MH8g53"
      },
      "outputs": [],
      "source": [
        "# plt.figure(figsize = (15, 7))\n",
        "# plt.subplot(1, 2 , 1)\n",
        "# sns.histplot(x=df.pickup_longitude)\n",
        "# plt.subplot(1,2 , 2)\n",
        "# sns.boxplot(x=df.pickup_longitude)"
      ]
    },
    {
      "cell_type": "code",
      "execution_count": 90,
      "metadata": {
        "id": "B72QmeRE_Dxz"
      },
      "outputs": [],
      "source": [
        "df = df[(df['pickup_longitude']<-73.5) & (-74.5<df['pickup_longitude'])]"
      ]
    },
    {
      "cell_type": "code",
      "execution_count": 91,
      "metadata": {
        "id": "ElwBtiZf_gLg"
      },
      "outputs": [],
      "source": [
        "# plt.figure(figsize = (15, 7))\n",
        "# plt.subplot(1, 2 , 1)\n",
        "# sns.histplot(x=df.pickup_longitude)\n",
        "# plt.subplot(1,2 , 2)\n",
        "# sns.boxplot(x=df.pickup_longitude)"
      ]
    },
    {
      "cell_type": "markdown",
      "metadata": {
        "id": "6aEbMhJrAbOB"
      },
      "source": [
        "### pickup_latitude"
      ]
    },
    {
      "cell_type": "code",
      "source": [
        "df = df[(30<df['pickup_latitude']) & (df['pickup_latitude']<55)]"
      ],
      "metadata": {
        "id": "OfPMy8_dIYEt"
      },
      "execution_count": 92,
      "outputs": []
    },
    {
      "cell_type": "code",
      "execution_count": 93,
      "metadata": {
        "id": "zNv2X6jwAjjq"
      },
      "outputs": [],
      "source": [
        "# plt.figure(figsize = (15, 7))\n",
        "# plt.subplot(1, 2 , 1)\n",
        "# sns.histplot(x=df.pickup_latitude)\n",
        "# plt.subplot(1,2 , 2)\n",
        "# sns.boxplot(x=df.pickup_latitude)"
      ]
    },
    {
      "cell_type": "code",
      "execution_count": 94,
      "metadata": {
        "id": "QtldKgC2AwUf"
      },
      "outputs": [],
      "source": [
        "df = df[(40.3<df['pickup_latitude']) & (df['pickup_latitude']<41.2)]"
      ]
    },
    {
      "cell_type": "code",
      "execution_count": 95,
      "metadata": {
        "id": "YRK0HR07A-bu"
      },
      "outputs": [],
      "source": [
        "# plt.figure(figsize = (15, 7))\n",
        "# plt.subplot(1, 2 , 1)\n",
        "# sns.histplot(x=df.pickup_latitude)\n",
        "# plt.subplot(1,2 , 2)\n",
        "# sns.boxplot(x=df.pickup_latitude)"
      ]
    },
    {
      "cell_type": "markdown",
      "metadata": {
        "id": "5f0xw0G6BFnK"
      },
      "source": [
        "### dropoff_longitude"
      ]
    },
    {
      "cell_type": "code",
      "execution_count": 96,
      "metadata": {
        "id": "Ol2u8RpHCNAY"
      },
      "outputs": [],
      "source": [
        "# plt.figure(figsize = (15, 7))\n",
        "# plt.subplot(1, 2 , 1)\n",
        "# sns.histplot(x=df.dropoff_longitude)\n",
        "# plt.subplot(1,2 , 2)\n",
        "# sns.boxplot(x=df.dropoff_longitude)"
      ]
    },
    {
      "cell_type": "code",
      "source": [
        "# df = df[(-75<df['dropoff_latitude']) & (df['pickup_latitude']<-72)]"
      ],
      "metadata": {
        "id": "7t6L3EpaKDeq"
      },
      "execution_count": 97,
      "outputs": []
    },
    {
      "cell_type": "code",
      "source": [
        "df = df[(df['dropoff_longitude']<-73) & (-75<df['dropoff_longitude'])]"
      ],
      "metadata": {
        "id": "ZRRxJvt8Kji7"
      },
      "execution_count": 98,
      "outputs": []
    },
    {
      "cell_type": "code",
      "source": [
        "# plt.figure(figsize = (15, 7))\n",
        "# plt.subplot(1, 2 , 1)\n",
        "# sns.histplot(x=df.dropoff_longitude)\n",
        "# plt.subplot(1,2 , 2)\n",
        "# sns.boxplot(x=df.dropoff_longitude)"
      ],
      "metadata": {
        "id": "dflegeZ9KVsi"
      },
      "execution_count": 99,
      "outputs": []
    },
    {
      "cell_type": "markdown",
      "metadata": {
        "id": "jVcTGmchCGf7"
      },
      "source": [
        "### dropoff_latitude"
      ]
    },
    {
      "cell_type": "code",
      "source": [
        "df = df[(30<df['dropoff_latitude']) & (df['dropoff_latitude']<55)]"
      ],
      "metadata": {
        "id": "dOnhBFtgMijF"
      },
      "execution_count": 100,
      "outputs": []
    },
    {
      "cell_type": "code",
      "execution_count": 101,
      "metadata": {
        "id": "z4kG2akwBocr"
      },
      "outputs": [],
      "source": [
        "# plt.figure(figsize = (15, 7))\n",
        "# plt.subplot(1, 2 , 1)\n",
        "# sns.histplot(x=df.dropoff_latitude)\n",
        "# plt.subplot(1,2 , 2)\n",
        "# sns.boxplot(x=df.dropoff_latitude)"
      ]
    },
    {
      "cell_type": "code",
      "source": [
        "df = df[(40<df['dropoff_latitude']) & (df['dropoff_latitude']<41.2)]"
      ],
      "metadata": {
        "id": "9GtTWri8Muq8"
      },
      "execution_count": 102,
      "outputs": []
    },
    {
      "cell_type": "code",
      "source": [
        "# plt.figure(figsize = (15, 7))\n",
        "# plt.subplot(1, 2 , 1)\n",
        "# sns.histplot(x=df.dropoff_latitude)\n",
        "# plt.subplot(1,2 , 2)\n",
        "# sns.boxplot(x=df.dropoff_latitude)"
      ],
      "metadata": {
        "id": "la5UBb3nM1CM"
      },
      "execution_count": 103,
      "outputs": []
    },
    {
      "cell_type": "code",
      "execution_count": 104,
      "metadata": {
        "id": "Sfk4NaZewCie"
      },
      "outputs": [],
      "source": [
        "# sns.countplot(x=df.passenger_count )"
      ]
    },
    {
      "cell_type": "markdown",
      "metadata": {
        "id": "TrmXQ4yTwysc"
      },
      "source": [
        "vehical which are carring more than 6 passengers can't be cars so we will drop  values greater than 6"
      ]
    },
    {
      "cell_type": "code",
      "execution_count": 105,
      "metadata": {
        "id": "sdAxRKL-xAFF"
      },
      "outputs": [],
      "source": [
        "df = df[df['passenger_count']<=6]"
      ]
    },
    {
      "cell_type": "code",
      "source": [
        "df.shape"
      ],
      "metadata": {
        "colab": {
          "base_uri": "https://localhost:8080/"
        },
        "id": "3D30uS--NMbu",
        "outputId": "2180f997-9e33-472e-eb73-b644213024d1"
      },
      "execution_count": 106,
      "outputs": [
        {
          "output_type": "execute_result",
          "data": {
            "text/plain": [
              "(1458527, 10)"
            ]
          },
          "metadata": {},
          "execution_count": 106
        }
      ]
    },
    {
      "cell_type": "markdown",
      "metadata": {
        "id": "pri76rhVWlSi"
      },
      "source": [
        "\n",
        "\n",
        "## Feature Enginnering"
      ]
    },
    {
      "cell_type": "code",
      "execution_count": 107,
      "metadata": {
        "id": "7ZJJ3sSrXCUt"
      },
      "outputs": [],
      "source": [
        "# Not taking 'year' as feature because all trips are from year 2016 only\n",
        "\n",
        "df['month'] = df.pickup_datetime.apply(lambda t: t.month)\n",
        "df['weekday'] = df.pickup_datetime.apply(lambda t: t.weekday())\n",
        "df['weekend'] = df['weekday'].apply(lambda t: 1 if t in [5,6] else 0)\n",
        "df['hour'] = df.pickup_datetime.apply(lambda t: t.hour) \n",
        "# # peak_hours\n",
        "# df['peak_hours'] = df['hour'].apply(lambda x: 1 if x in [18,19,20] else 0)\n",
        "\n",
        "# abs of delta of longitude and latitude pickup-dropoff\n",
        "df['delta_longitude'] = abs(df.pickup_longitude - df.dropoff_longitude)\n",
        "df['delta_latitude'] = abs(df.pickup_latitude - df.dropoff_latitude)"
      ]
    },
    {
      "cell_type": "code",
      "execution_count": 108,
      "metadata": {
        "id": "TsAK2yLJeSE8"
      },
      "outputs": [],
      "source": [
        "# Function to find direction in degrees (Source: https://gist.github.com/jeromer/2005586)\n",
        "def get_direction(lat1, lon1, lat2, lon2):\n",
        "  lon1=lon1.to_numpy()\n",
        "  lat1=lat1.to_numpy()\n",
        "  lon2=lon2.to_numpy()\n",
        "  lat2=lat2.to_numpy()\n",
        "  diff_lon = np.deg2rad(lon2-lon1)\n",
        "  x = np.sin(diff_lon) * np.cos(lat2)\n",
        "  y = np.cos(lat1) * np.sin(lat2) - (np.sin(lat1) * np.cos(lat2) * np.cos(diff_lon))\n",
        "  initial_bearing = np.arctan2(x, y)\n",
        "  direction = np.degrees (initial_bearing)\n",
        "\n",
        "  # Now we have the initial bearing but math.atan2 return values\n",
        "  # from -180° to + 180° which is not what we want for a compass bearing\n",
        "  # The solution is to normalize the initial bearing as shown below\n",
        "\n",
        "  initial_bearing = np.degrees (initial_bearing)\n",
        "  direction = (initial_bearing + 360) % 360\n",
        "  return direction\n",
        "\n",
        "\n",
        "# Haversine Formula, distance calculation (between pick-up and drop-off coordinates) \n",
        "#\n",
        "\n",
        "def haversine(lat1, lon1, lat2, lon2):\n",
        "  # convert decimal degrees to radians \n",
        "  lon1=np.deg2rad(lon1.to_numpy())\n",
        "  lat1=np.deg2rad(lat1.to_numpy())\n",
        "  lon2=np.deg2rad(lon2.to_numpy())\n",
        "  lat2=np.deg2rad(lat2.to_numpy())\n",
        "  # haversine formula \n",
        "  dlon = lon2 - lon1 \n",
        "  dlat = lat2 - lat1 \n",
        "  a = np.sin(dlat/2)**2 + np.cos(lat1) * np.cos(lat2) * np.sin(dlon/2)**2\n",
        "  c = 2 * np.arcsin(np.sqrt(a)) \n",
        "  r = 6372.8 # Radius of earth in kilometers. Use 3956 for miles\n",
        "  return np.around(c * r, decimals=2)"
      ]
    },
    {
      "cell_type": "code",
      "execution_count": 109,
      "metadata": {
        "id": "ldGVvo5zvEXp"
      },
      "outputs": [],
      "source": [
        "# Create columns 'direction', 'distance_km'\n",
        "df['direction'] = get_direction(df['pickup_latitude'], df['pickup_longitude'], \\\n",
        "                                      df['dropoff_latitude'], df['dropoff_longitude'])\n",
        "\n",
        "df['distance_km'] = haversine(df['pickup_latitude'], df['pickup_longitude'], \\\n",
        "                                      df['dropoff_latitude'], df['dropoff_longitude'])"
      ]
    },
    {
      "cell_type": "code",
      "execution_count": 110,
      "metadata": {
        "id": "5zbKBwppvKeX"
      },
      "outputs": [],
      "source": [
        "# trip_duration\n",
        "highest_allowed = df['trip_duration'].mean() + 3*df['trip_duration'].std()\n",
        "lowest_allowed = 10\n",
        "df = df[(df['trip_duration'] > lowest_allowed) & (df['trip_duration'] < highest_allowed)]\n",
        "\n",
        "# distance_km\n",
        "highest_allowed = df['distance_km'].mean() + 3*df['distance_km'].std()\n",
        "lowest_allowed = 0.1\n",
        "df = df[(df['distance_km'] > lowest_allowed) & (df['distance_km'] < highest_allowed)]\n"
      ]
    },
    {
      "cell_type": "code",
      "source": [
        "# df.info()"
      ],
      "metadata": {
        "id": "K41dA-M8_uSw"
      },
      "execution_count": 111,
      "outputs": []
    },
    {
      "cell_type": "code",
      "source": [
        "drop_columns =  ['vendor_id' , 'pickup_longitude' , 'pickup_latitude' , 'dropoff_longitude', 'dropoff_latitude' , 'store_and_fwd_flag' , 'pickup_datetime' , 'dropoff_datetime' ]"
      ],
      "metadata": {
        "id": "khgn0ixE_0tg"
      },
      "execution_count": 112,
      "outputs": []
    },
    {
      "cell_type": "code",
      "source": [
        "df.drop(columns = drop_columns , inplace =True)"
      ],
      "metadata": {
        "colab": {
          "base_uri": "https://localhost:8080/"
        },
        "id": "vu2zcdJmAsaX",
        "outputId": "345e355c-f142-4c69-ffff-30dfc7561f94"
      },
      "execution_count": 113,
      "outputs": [
        {
          "output_type": "stream",
          "name": "stderr",
          "text": [
            "/usr/local/lib/python3.7/dist-packages/pandas/core/frame.py:4913: SettingWithCopyWarning: \n",
            "A value is trying to be set on a copy of a slice from a DataFrame\n",
            "\n",
            "See the caveats in the documentation: https://pandas.pydata.org/pandas-docs/stable/user_guide/indexing.html#returning-a-view-versus-a-copy\n",
            "  errors=errors,\n"
          ]
        }
      ]
    },
    {
      "cell_type": "code",
      "source": [
        "df.head(5)"
      ],
      "metadata": {
        "colab": {
          "base_uri": "https://localhost:8080/",
          "height": 206
        },
        "id": "LRg--6jjBslY",
        "outputId": "332bd1a7-6add-45b3-9625-18f770c74190"
      },
      "execution_count": 114,
      "outputs": [
        {
          "output_type": "execute_result",
          "data": {
            "text/plain": [
              "   passenger_count  trip_duration  month  weekday  weekend  hour  \\\n",
              "0                1            455      3        0        0    17   \n",
              "1                1            663      6        6        1     0   \n",
              "2                1           2124      1        1        0    11   \n",
              "3                1            429      4        2        0    19   \n",
              "4                1            435      3        5        1    13   \n",
              "\n",
              "   delta_longitude  delta_latitude   direction  distance_km  \n",
              "0         0.017525        0.002335  187.443216         1.50  \n",
              "1         0.019066        0.007412  177.444784         1.81  \n",
              "2         0.026306        0.053852  179.515450         6.39  \n",
              "3         0.002228        0.013252  179.833396         1.49  \n",
              "4         0.000130        0.010689  180.012114         1.19  "
            ],
            "text/html": [
              "\n",
              "  <div id=\"df-fd67c1de-ecf8-4968-a015-f8bcb270be33\">\n",
              "    <div class=\"colab-df-container\">\n",
              "      <div>\n",
              "<style scoped>\n",
              "    .dataframe tbody tr th:only-of-type {\n",
              "        vertical-align: middle;\n",
              "    }\n",
              "\n",
              "    .dataframe tbody tr th {\n",
              "        vertical-align: top;\n",
              "    }\n",
              "\n",
              "    .dataframe thead th {\n",
              "        text-align: right;\n",
              "    }\n",
              "</style>\n",
              "<table border=\"1\" class=\"dataframe\">\n",
              "  <thead>\n",
              "    <tr style=\"text-align: right;\">\n",
              "      <th></th>\n",
              "      <th>passenger_count</th>\n",
              "      <th>trip_duration</th>\n",
              "      <th>month</th>\n",
              "      <th>weekday</th>\n",
              "      <th>weekend</th>\n",
              "      <th>hour</th>\n",
              "      <th>delta_longitude</th>\n",
              "      <th>delta_latitude</th>\n",
              "      <th>direction</th>\n",
              "      <th>distance_km</th>\n",
              "    </tr>\n",
              "  </thead>\n",
              "  <tbody>\n",
              "    <tr>\n",
              "      <th>0</th>\n",
              "      <td>1</td>\n",
              "      <td>455</td>\n",
              "      <td>3</td>\n",
              "      <td>0</td>\n",
              "      <td>0</td>\n",
              "      <td>17</td>\n",
              "      <td>0.017525</td>\n",
              "      <td>0.002335</td>\n",
              "      <td>187.443216</td>\n",
              "      <td>1.50</td>\n",
              "    </tr>\n",
              "    <tr>\n",
              "      <th>1</th>\n",
              "      <td>1</td>\n",
              "      <td>663</td>\n",
              "      <td>6</td>\n",
              "      <td>6</td>\n",
              "      <td>1</td>\n",
              "      <td>0</td>\n",
              "      <td>0.019066</td>\n",
              "      <td>0.007412</td>\n",
              "      <td>177.444784</td>\n",
              "      <td>1.81</td>\n",
              "    </tr>\n",
              "    <tr>\n",
              "      <th>2</th>\n",
              "      <td>1</td>\n",
              "      <td>2124</td>\n",
              "      <td>1</td>\n",
              "      <td>1</td>\n",
              "      <td>0</td>\n",
              "      <td>11</td>\n",
              "      <td>0.026306</td>\n",
              "      <td>0.053852</td>\n",
              "      <td>179.515450</td>\n",
              "      <td>6.39</td>\n",
              "    </tr>\n",
              "    <tr>\n",
              "      <th>3</th>\n",
              "      <td>1</td>\n",
              "      <td>429</td>\n",
              "      <td>4</td>\n",
              "      <td>2</td>\n",
              "      <td>0</td>\n",
              "      <td>19</td>\n",
              "      <td>0.002228</td>\n",
              "      <td>0.013252</td>\n",
              "      <td>179.833396</td>\n",
              "      <td>1.49</td>\n",
              "    </tr>\n",
              "    <tr>\n",
              "      <th>4</th>\n",
              "      <td>1</td>\n",
              "      <td>435</td>\n",
              "      <td>3</td>\n",
              "      <td>5</td>\n",
              "      <td>1</td>\n",
              "      <td>13</td>\n",
              "      <td>0.000130</td>\n",
              "      <td>0.010689</td>\n",
              "      <td>180.012114</td>\n",
              "      <td>1.19</td>\n",
              "    </tr>\n",
              "  </tbody>\n",
              "</table>\n",
              "</div>\n",
              "      <button class=\"colab-df-convert\" onclick=\"convertToInteractive('df-fd67c1de-ecf8-4968-a015-f8bcb270be33')\"\n",
              "              title=\"Convert this dataframe to an interactive table.\"\n",
              "              style=\"display:none;\">\n",
              "        \n",
              "  <svg xmlns=\"http://www.w3.org/2000/svg\" height=\"24px\"viewBox=\"0 0 24 24\"\n",
              "       width=\"24px\">\n",
              "    <path d=\"M0 0h24v24H0V0z\" fill=\"none\"/>\n",
              "    <path d=\"M18.56 5.44l.94 2.06.94-2.06 2.06-.94-2.06-.94-.94-2.06-.94 2.06-2.06.94zm-11 1L8.5 8.5l.94-2.06 2.06-.94-2.06-.94L8.5 2.5l-.94 2.06-2.06.94zm10 10l.94 2.06.94-2.06 2.06-.94-2.06-.94-.94-2.06-.94 2.06-2.06.94z\"/><path d=\"M17.41 7.96l-1.37-1.37c-.4-.4-.92-.59-1.43-.59-.52 0-1.04.2-1.43.59L10.3 9.45l-7.72 7.72c-.78.78-.78 2.05 0 2.83L4 21.41c.39.39.9.59 1.41.59.51 0 1.02-.2 1.41-.59l7.78-7.78 2.81-2.81c.8-.78.8-2.07 0-2.86zM5.41 20L4 18.59l7.72-7.72 1.47 1.35L5.41 20z\"/>\n",
              "  </svg>\n",
              "      </button>\n",
              "      \n",
              "  <style>\n",
              "    .colab-df-container {\n",
              "      display:flex;\n",
              "      flex-wrap:wrap;\n",
              "      gap: 12px;\n",
              "    }\n",
              "\n",
              "    .colab-df-convert {\n",
              "      background-color: #E8F0FE;\n",
              "      border: none;\n",
              "      border-radius: 50%;\n",
              "      cursor: pointer;\n",
              "      display: none;\n",
              "      fill: #1967D2;\n",
              "      height: 32px;\n",
              "      padding: 0 0 0 0;\n",
              "      width: 32px;\n",
              "    }\n",
              "\n",
              "    .colab-df-convert:hover {\n",
              "      background-color: #E2EBFA;\n",
              "      box-shadow: 0px 1px 2px rgba(60, 64, 67, 0.3), 0px 1px 3px 1px rgba(60, 64, 67, 0.15);\n",
              "      fill: #174EA6;\n",
              "    }\n",
              "\n",
              "    [theme=dark] .colab-df-convert {\n",
              "      background-color: #3B4455;\n",
              "      fill: #D2E3FC;\n",
              "    }\n",
              "\n",
              "    [theme=dark] .colab-df-convert:hover {\n",
              "      background-color: #434B5C;\n",
              "      box-shadow: 0px 1px 3px 1px rgba(0, 0, 0, 0.15);\n",
              "      filter: drop-shadow(0px 1px 2px rgba(0, 0, 0, 0.3));\n",
              "      fill: #FFFFFF;\n",
              "    }\n",
              "  </style>\n",
              "\n",
              "      <script>\n",
              "        const buttonEl =\n",
              "          document.querySelector('#df-fd67c1de-ecf8-4968-a015-f8bcb270be33 button.colab-df-convert');\n",
              "        buttonEl.style.display =\n",
              "          google.colab.kernel.accessAllowed ? 'block' : 'none';\n",
              "\n",
              "        async function convertToInteractive(key) {\n",
              "          const element = document.querySelector('#df-fd67c1de-ecf8-4968-a015-f8bcb270be33');\n",
              "          const dataTable =\n",
              "            await google.colab.kernel.invokeFunction('convertToInteractive',\n",
              "                                                     [key], {});\n",
              "          if (!dataTable) return;\n",
              "\n",
              "          const docLinkHtml = 'Like what you see? Visit the ' +\n",
              "            '<a target=\"_blank\" href=https://colab.research.google.com/notebooks/data_table.ipynb>data table notebook</a>'\n",
              "            + ' to learn more about interactive tables.';\n",
              "          element.innerHTML = '';\n",
              "          dataTable['output_type'] = 'display_data';\n",
              "          await google.colab.output.renderOutput(dataTable, element);\n",
              "          const docLink = document.createElement('div');\n",
              "          docLink.innerHTML = docLinkHtml;\n",
              "          element.appendChild(docLink);\n",
              "        }\n",
              "      </script>\n",
              "    </div>\n",
              "  </div>\n",
              "  "
            ]
          },
          "metadata": {},
          "execution_count": 114
        }
      ]
    },
    {
      "cell_type": "code",
      "source": [
        "# # correlation\n",
        "# plt.figure(figsize = (18,8))\n",
        "# corr = df.corr()\n",
        "# corr\n",
        "# sns.heatmap(corr, annot = True)"
      ],
      "metadata": {
        "id": "0FoqN0cjAxRu"
      },
      "execution_count": 115,
      "outputs": []
    },
    {
      "cell_type": "markdown",
      "source": [
        "* Drop passenger_count , month , drop weekday number \n",
        "* hour as categoriacal variable  "
      ],
      "metadata": {
        "id": "MxCPbAgKBlxP"
      }
    },
    {
      "cell_type": "code",
      "source": [
        "drop_columns = ['passenger_count'  , 'weekday']"
      ],
      "metadata": {
        "id": "cqO2bBlhJ9xv"
      },
      "execution_count": 116,
      "outputs": []
    },
    {
      "cell_type": "code",
      "source": [
        "df.drop(columns = drop_columns , inplace =True)"
      ],
      "metadata": {
        "colab": {
          "base_uri": "https://localhost:8080/"
        },
        "id": "GbpyaRJAKS8O",
        "outputId": "52d624e5-b3b2-4e40-858e-3fbb6bf7240a"
      },
      "execution_count": 117,
      "outputs": [
        {
          "output_type": "stream",
          "name": "stderr",
          "text": [
            "/usr/local/lib/python3.7/dist-packages/pandas/core/frame.py:4913: SettingWithCopyWarning: \n",
            "A value is trying to be set on a copy of a slice from a DataFrame\n",
            "\n",
            "See the caveats in the documentation: https://pandas.pydata.org/pandas-docs/stable/user_guide/indexing.html#returning-a-view-versus-a-copy\n",
            "  errors=errors,\n"
          ]
        }
      ]
    },
    {
      "cell_type": "code",
      "source": [
        "# # Plot histogram of trip duration per hour\n",
        "# plt.figure(figsize = (10,5))\n",
        "# new_df = df.groupby('hour', as_index = False)['trip_duration'].agg(['count']).sort_values(by = 'hour', ascending = True)\n",
        "# ax = sns.barplot(x=new_df.index, y=new_df['count'])\n",
        "# ax.set(xlabel='Hour', ylabel='No. of trips')  \n",
        "# plt.title('Number of trips per hour')\n",
        "# plt.tight_layout()\n",
        "# plt.show()\n",
        "# del new_df"
      ],
      "metadata": {
        "id": "c02EiGCnIPh4"
      },
      "execution_count": 118,
      "outputs": []
    },
    {
      "cell_type": "code",
      "source": [
        "def rush_hours(hour):\n",
        "  value = 2\n",
        "  if hour in [8,9,10,11,12,13,14,15,16,17,23]:\n",
        "    value =1\n",
        "  elif hour in [0,1,2,3,4,5,6,7]:\n",
        "    value = 0\n",
        "\n",
        "  return value"
      ],
      "metadata": {
        "id": "denUMkoYIusM"
      },
      "execution_count": 119,
      "outputs": []
    },
    {
      "cell_type": "code",
      "source": [
        "df['rush_hours'] = df.hour.apply(rush_hours)"
      ],
      "metadata": {
        "id": "Vr3N_tEVxcUz"
      },
      "execution_count": 120,
      "outputs": []
    },
    {
      "cell_type": "code",
      "source": [
        "# # Plot histogram of trips per weekday\n",
        "# plt.figure(figsize = (10,5))\n",
        "# new_df = df.groupby('weekday', as_index = False)['trip_duration'].agg(['count']).sort_values(by = 'weekday', ascending = True)\n",
        "# ax = sns.barplot(x=new_df.index, y=new_df['count'])\n",
        "# ax.set(xlabel='weekday', ylabel='No of trips')  \n",
        "# plt.title('Number of trips per weekday')\n",
        "# plt.tight_layout()\n",
        "# plt.show()\n",
        "# del new_df"
      ],
      "metadata": {
        "id": "AGc5KZ4uzx7T"
      },
      "execution_count": 121,
      "outputs": []
    },
    {
      "cell_type": "code",
      "source": [
        "#df.drop(columns = ['hour'] , inplace =True)"
      ],
      "metadata": {
        "id": "3LvqS0qYJanL"
      },
      "execution_count": 122,
      "outputs": []
    },
    {
      "cell_type": "code",
      "source": [
        "df.head()"
      ],
      "metadata": {
        "colab": {
          "base_uri": "https://localhost:8080/",
          "height": 206
        },
        "id": "uhaWsYP5J4lY",
        "outputId": "3dfc4396-fab4-4f49-f457-9d64859b7732"
      },
      "execution_count": 123,
      "outputs": [
        {
          "output_type": "execute_result",
          "data": {
            "text/plain": [
              "   trip_duration  month  weekend  hour  delta_longitude  delta_latitude  \\\n",
              "0            455      3        0    17         0.017525        0.002335   \n",
              "1            663      6        1     0         0.019066        0.007412   \n",
              "2           2124      1        0    11         0.026306        0.053852   \n",
              "3            429      4        0    19         0.002228        0.013252   \n",
              "4            435      3        1    13         0.000130        0.010689   \n",
              "\n",
              "    direction  distance_km  rush_hours  \n",
              "0  187.443216         1.50           1  \n",
              "1  177.444784         1.81           0  \n",
              "2  179.515450         6.39           1  \n",
              "3  179.833396         1.49           2  \n",
              "4  180.012114         1.19           1  "
            ],
            "text/html": [
              "\n",
              "  <div id=\"df-29a92ff0-9018-4200-8596-3d1ec3eda2a3\">\n",
              "    <div class=\"colab-df-container\">\n",
              "      <div>\n",
              "<style scoped>\n",
              "    .dataframe tbody tr th:only-of-type {\n",
              "        vertical-align: middle;\n",
              "    }\n",
              "\n",
              "    .dataframe tbody tr th {\n",
              "        vertical-align: top;\n",
              "    }\n",
              "\n",
              "    .dataframe thead th {\n",
              "        text-align: right;\n",
              "    }\n",
              "</style>\n",
              "<table border=\"1\" class=\"dataframe\">\n",
              "  <thead>\n",
              "    <tr style=\"text-align: right;\">\n",
              "      <th></th>\n",
              "      <th>trip_duration</th>\n",
              "      <th>month</th>\n",
              "      <th>weekend</th>\n",
              "      <th>hour</th>\n",
              "      <th>delta_longitude</th>\n",
              "      <th>delta_latitude</th>\n",
              "      <th>direction</th>\n",
              "      <th>distance_km</th>\n",
              "      <th>rush_hours</th>\n",
              "    </tr>\n",
              "  </thead>\n",
              "  <tbody>\n",
              "    <tr>\n",
              "      <th>0</th>\n",
              "      <td>455</td>\n",
              "      <td>3</td>\n",
              "      <td>0</td>\n",
              "      <td>17</td>\n",
              "      <td>0.017525</td>\n",
              "      <td>0.002335</td>\n",
              "      <td>187.443216</td>\n",
              "      <td>1.50</td>\n",
              "      <td>1</td>\n",
              "    </tr>\n",
              "    <tr>\n",
              "      <th>1</th>\n",
              "      <td>663</td>\n",
              "      <td>6</td>\n",
              "      <td>1</td>\n",
              "      <td>0</td>\n",
              "      <td>0.019066</td>\n",
              "      <td>0.007412</td>\n",
              "      <td>177.444784</td>\n",
              "      <td>1.81</td>\n",
              "      <td>0</td>\n",
              "    </tr>\n",
              "    <tr>\n",
              "      <th>2</th>\n",
              "      <td>2124</td>\n",
              "      <td>1</td>\n",
              "      <td>0</td>\n",
              "      <td>11</td>\n",
              "      <td>0.026306</td>\n",
              "      <td>0.053852</td>\n",
              "      <td>179.515450</td>\n",
              "      <td>6.39</td>\n",
              "      <td>1</td>\n",
              "    </tr>\n",
              "    <tr>\n",
              "      <th>3</th>\n",
              "      <td>429</td>\n",
              "      <td>4</td>\n",
              "      <td>0</td>\n",
              "      <td>19</td>\n",
              "      <td>0.002228</td>\n",
              "      <td>0.013252</td>\n",
              "      <td>179.833396</td>\n",
              "      <td>1.49</td>\n",
              "      <td>2</td>\n",
              "    </tr>\n",
              "    <tr>\n",
              "      <th>4</th>\n",
              "      <td>435</td>\n",
              "      <td>3</td>\n",
              "      <td>1</td>\n",
              "      <td>13</td>\n",
              "      <td>0.000130</td>\n",
              "      <td>0.010689</td>\n",
              "      <td>180.012114</td>\n",
              "      <td>1.19</td>\n",
              "      <td>1</td>\n",
              "    </tr>\n",
              "  </tbody>\n",
              "</table>\n",
              "</div>\n",
              "      <button class=\"colab-df-convert\" onclick=\"convertToInteractive('df-29a92ff0-9018-4200-8596-3d1ec3eda2a3')\"\n",
              "              title=\"Convert this dataframe to an interactive table.\"\n",
              "              style=\"display:none;\">\n",
              "        \n",
              "  <svg xmlns=\"http://www.w3.org/2000/svg\" height=\"24px\"viewBox=\"0 0 24 24\"\n",
              "       width=\"24px\">\n",
              "    <path d=\"M0 0h24v24H0V0z\" fill=\"none\"/>\n",
              "    <path d=\"M18.56 5.44l.94 2.06.94-2.06 2.06-.94-2.06-.94-.94-2.06-.94 2.06-2.06.94zm-11 1L8.5 8.5l.94-2.06 2.06-.94-2.06-.94L8.5 2.5l-.94 2.06-2.06.94zm10 10l.94 2.06.94-2.06 2.06-.94-2.06-.94-.94-2.06-.94 2.06-2.06.94z\"/><path d=\"M17.41 7.96l-1.37-1.37c-.4-.4-.92-.59-1.43-.59-.52 0-1.04.2-1.43.59L10.3 9.45l-7.72 7.72c-.78.78-.78 2.05 0 2.83L4 21.41c.39.39.9.59 1.41.59.51 0 1.02-.2 1.41-.59l7.78-7.78 2.81-2.81c.8-.78.8-2.07 0-2.86zM5.41 20L4 18.59l7.72-7.72 1.47 1.35L5.41 20z\"/>\n",
              "  </svg>\n",
              "      </button>\n",
              "      \n",
              "  <style>\n",
              "    .colab-df-container {\n",
              "      display:flex;\n",
              "      flex-wrap:wrap;\n",
              "      gap: 12px;\n",
              "    }\n",
              "\n",
              "    .colab-df-convert {\n",
              "      background-color: #E8F0FE;\n",
              "      border: none;\n",
              "      border-radius: 50%;\n",
              "      cursor: pointer;\n",
              "      display: none;\n",
              "      fill: #1967D2;\n",
              "      height: 32px;\n",
              "      padding: 0 0 0 0;\n",
              "      width: 32px;\n",
              "    }\n",
              "\n",
              "    .colab-df-convert:hover {\n",
              "      background-color: #E2EBFA;\n",
              "      box-shadow: 0px 1px 2px rgba(60, 64, 67, 0.3), 0px 1px 3px 1px rgba(60, 64, 67, 0.15);\n",
              "      fill: #174EA6;\n",
              "    }\n",
              "\n",
              "    [theme=dark] .colab-df-convert {\n",
              "      background-color: #3B4455;\n",
              "      fill: #D2E3FC;\n",
              "    }\n",
              "\n",
              "    [theme=dark] .colab-df-convert:hover {\n",
              "      background-color: #434B5C;\n",
              "      box-shadow: 0px 1px 3px 1px rgba(0, 0, 0, 0.15);\n",
              "      filter: drop-shadow(0px 1px 2px rgba(0, 0, 0, 0.3));\n",
              "      fill: #FFFFFF;\n",
              "    }\n",
              "  </style>\n",
              "\n",
              "      <script>\n",
              "        const buttonEl =\n",
              "          document.querySelector('#df-29a92ff0-9018-4200-8596-3d1ec3eda2a3 button.colab-df-convert');\n",
              "        buttonEl.style.display =\n",
              "          google.colab.kernel.accessAllowed ? 'block' : 'none';\n",
              "\n",
              "        async function convertToInteractive(key) {\n",
              "          const element = document.querySelector('#df-29a92ff0-9018-4200-8596-3d1ec3eda2a3');\n",
              "          const dataTable =\n",
              "            await google.colab.kernel.invokeFunction('convertToInteractive',\n",
              "                                                     [key], {});\n",
              "          if (!dataTable) return;\n",
              "\n",
              "          const docLinkHtml = 'Like what you see? Visit the ' +\n",
              "            '<a target=\"_blank\" href=https://colab.research.google.com/notebooks/data_table.ipynb>data table notebook</a>'\n",
              "            + ' to learn more about interactive tables.';\n",
              "          element.innerHTML = '';\n",
              "          dataTable['output_type'] = 'display_data';\n",
              "          await google.colab.output.renderOutput(dataTable, element);\n",
              "          const docLink = document.createElement('div');\n",
              "          docLink.innerHTML = docLinkHtml;\n",
              "          element.appendChild(docLink);\n",
              "        }\n",
              "      </script>\n",
              "    </div>\n",
              "  </div>\n",
              "  "
            ]
          },
          "metadata": {},
          "execution_count": 123
        }
      ]
    },
    {
      "cell_type": "code",
      "source": [
        "# # correlation\n",
        "# plt.figure(figsize = (18,8))\n",
        "# corr = df.corr()\n",
        "# corr\n",
        "# sns.heatmap(corr, annot = True)"
      ],
      "metadata": {
        "id": "bzpMK-_6KPN8"
      },
      "execution_count": 124,
      "outputs": []
    },
    {
      "cell_type": "code",
      "source": [
        "drop_columns = ['delta_longitude' ,'delta_latitude']"
      ],
      "metadata": {
        "id": "KyoypnlXvSSK"
      },
      "execution_count": 125,
      "outputs": []
    },
    {
      "cell_type": "code",
      "source": [
        "df.drop(columns = drop_columns , inplace =True)"
      ],
      "metadata": {
        "id": "Az3784CGvjNK"
      },
      "execution_count": 126,
      "outputs": []
    },
    {
      "cell_type": "code",
      "source": [
        "# # correlation\n",
        "# plt.figure(figsize = (18,8))\n",
        "# corr = df.corr()\n",
        "# corr\n",
        "# sns.heatmap(corr, annot = True)"
      ],
      "metadata": {
        "id": "weXVTjHpvlSa"
      },
      "execution_count": 127,
      "outputs": []
    },
    {
      "cell_type": "code",
      "source": [
        ""
      ],
      "metadata": {
        "id": "LN-EF66s4z4U"
      },
      "execution_count": 127,
      "outputs": []
    },
    {
      "cell_type": "markdown",
      "source": [
        "#### Distance"
      ],
      "metadata": {
        "id": "xBzvM8Qhg4cU"
      }
    },
    {
      "cell_type": "code",
      "source": [
        "#function to return plots for the feature\n",
        "def normality(data,feature):\n",
        "  plt.figure(figsize=(10,5))\n",
        "  plt.subplot(1,2,1)\n",
        "  sns.distplot(data[feature],color = \"b\")\n",
        "  plt.axvline(data[feature].mean(),color = \"k\",\n",
        "            linestyle = \"dashed\",label = 'mean')\n",
        "  plt.subplot(1,2,2)\n",
        "  stats.probplot(data[feature],plot=pylab)\n",
        "  plt.show()\n",
        "  print('skewness  : ' , data[feature].skew() )"
      ],
      "metadata": {
        "id": "s-HuX7XRkusu"
      },
      "execution_count": 128,
      "outputs": []
    },
    {
      "cell_type": "code",
      "source": [
        "# normality(df , 'distance_km')"
      ],
      "metadata": {
        "id": "Pq_bCbQUk4VI"
      },
      "execution_count": 129,
      "outputs": []
    },
    {
      "cell_type": "code",
      "source": [
        "# df['distance_Boxcox'],parameters=stats.boxcox(df['distance_km'])"
      ],
      "metadata": {
        "id": "SAmq_7FOkURG"
      },
      "execution_count": 130,
      "outputs": []
    },
    {
      "cell_type": "code",
      "source": [
        "# normality(df , 'distance_Boxcox')"
      ],
      "metadata": {
        "id": "ROF8ffNJp-EU"
      },
      "execution_count": 131,
      "outputs": []
    },
    {
      "cell_type": "code",
      "source": [
        ""
      ],
      "metadata": {
        "id": "MvGYGnvjp_5D"
      },
      "execution_count": 131,
      "outputs": []
    },
    {
      "cell_type": "markdown",
      "source": [
        "### Trip duration"
      ],
      "metadata": {
        "id": "ktGpg0Yes7P4"
      }
    },
    {
      "cell_type": "code",
      "source": [
        "# normality(df , 'trip_duration')"
      ],
      "metadata": {
        "id": "8MhQaCChqAEM"
      },
      "execution_count": 132,
      "outputs": []
    },
    {
      "cell_type": "code",
      "source": [
        "# df['duration_Boxcox'],parameters=stats.boxcox(df['trip_duration'])"
      ],
      "metadata": {
        "id": "Cm2LiXvBqAVV"
      },
      "execution_count": 133,
      "outputs": []
    },
    {
      "cell_type": "code",
      "source": [
        "# normality(df , 'duration_Boxcox')"
      ],
      "metadata": {
        "id": "0duNMmKzqAZ6"
      },
      "execution_count": 134,
      "outputs": []
    },
    {
      "cell_type": "code",
      "source": [
        "# correlation\n",
        "plt.figure(figsize = (18,8))\n",
        "corr = df.corr()\n",
        "corr\n",
        "sns.heatmap(corr, annot = True)"
      ],
      "metadata": {
        "colab": {
          "base_uri": "https://localhost:8080/",
          "height": 505
        },
        "id": "gCaluOSkvrfE",
        "outputId": "e658ba13-60f5-4d15-a6b6-450559abc0bf"
      },
      "execution_count": 135,
      "outputs": [
        {
          "output_type": "execute_result",
          "data": {
            "text/plain": [
              "<matplotlib.axes._subplots.AxesSubplot at 0x7fe2e38f2b50>"
            ]
          },
          "metadata": {},
          "execution_count": 135
        },
        {
          "output_type": "display_data",
          "data": {
            "text/plain": [
              "<Figure size 1296x576 with 2 Axes>"
            ],
            "image/png": "[encoded data removed]"
          },
          "metadata": {
            "needs_background": "light"
          }
        }
      ]
    },
    {
      "cell_type": "markdown",
      "source": [
        "* only numerical parameters to consider is Distance Boxcox\n",
        "* rush_hour and weekend are two categorical variable\n",
        "* we will perfor boxcox on trrip duration"
      ],
      "metadata": {
        "id": "vgxGXoawwwsK"
      }
    },
    {
      "cell_type": "markdown",
      "source": [
        "### train test split"
      ],
      "metadata": {
        "id": "i2ODVQhR4AcP"
      }
    },
    {
      "cell_type": "code",
      "source": [
        "df.info()"
      ],
      "metadata": {
        "colab": {
          "base_uri": "https://localhost:8080/"
        },
        "id": "dD22Fg1x4TcL",
        "outputId": "d24ee0e8-27cb-41ba-e5b2-24caf6194eb4"
      },
      "execution_count": 136,
      "outputs": [
        {
          "output_type": "stream",
          "name": "stdout",
          "text": [
            "<class 'pandas.core.frame.DataFrame'>\n",
            "Int64Index: 1398655 entries, 0 to 1458643\n",
            "Data columns (total 7 columns):\n",
            " #   Column         Non-Null Count    Dtype  \n",
            "---  ------         --------------    -----  \n",
            " 0   trip_duration  1398655 non-null  int64  \n",
            " 1   month          1398655 non-null  int64  \n",
            " 2   weekend        1398655 non-null  int64  \n",
            " 3   hour           1398655 non-null  int64  \n",
            " 4   direction      1398655 non-null  float64\n",
            " 5   distance_km    1398655 non-null  float64\n",
            " 6   rush_hours     1398655 non-null  int64  \n",
            "dtypes: float64(2), int64(5)\n",
            "memory usage: 85.4 MB\n"
          ]
        }
      ]
    },
    {
      "cell_type": "code",
      "source": [
        "columns_to_keep = ['distance_km' , 'weekend' , 'rush_hours' , 'hour']\n",
        "X = df[columns_to_keep]\n",
        "y = df['trip_duration'] "
      ],
      "metadata": {
        "id": "M1qhP15a2xEy"
      },
      "execution_count": 143,
      "outputs": []
    },
    {
      "cell_type": "code",
      "source": [
        "from sklearn.model_selection import train_test_split \n",
        "X_train, X_test, y_train, y_test = train_test_split( X,y , test_size = 0.3, random_state = 42 , stratify = X.hour) \n",
        "print(X_train.shape)\n",
        "print(X_test.shape)"
      ],
      "metadata": {
        "colab": {
          "base_uri": "https://localhost:8080/"
        },
        "id": "lbdM-yoo44Ll",
        "outputId": "1f81bdad-e2d1-4789-b686-29f34885884b"
      },
      "execution_count": 145,
      "outputs": [
        {
          "output_type": "stream",
          "name": "stdout",
          "text": [
            "(979058, 4)\n",
            "(419597, 4)\n"
          ]
        }
      ]
    }
  ],
  "metadata": {
    "colab": {
      "name": "NYC taxi Prediction.ipynb",
      "provenance": [],
      "authorship_tag": "ABX9TyM8Zom8JqRYOwiSWmel8rOi",
      "include_colab_link": true
    },
    "kernelspec": {
      "display_name": "Python 3",
      "name": "python3"
    },
    "language_info": {
      "name": "python"
    }
  },
  "nbformat": 4,
  "nbformat_minor": 0
}